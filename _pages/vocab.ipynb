{
 "cells": [
  {
   "cell_type": "markdown",
   "metadata": {},
   "source": [
    "- layout: page\n",
    "- title: Vocab\n",
    "- permalink: /vocab/home\n",
    "\n",
    ">This vocab page will consist of vocab from all of the College Board units and other miscellaneous vocab.\n"
   ]
  },
  {
   "cell_type": "markdown",
   "metadata": {},
   "source": [
    "{% include nav_vocab.html %}"
   ]
  },
  {
   "cell_type": "markdown",
   "metadata": {},
   "source": [
    "## Vocabulary"
   ]
  },
  {
   "cell_type": "markdown",
   "metadata": {},
   "source": [
    "| Vocab | Definition | Example |\n",
    "|--|--|--|\n",
    "| Input | Data that is taken in by the computer from the user | print(\"hello world!\") |\n",
    "| Output | Data that is returned by the computer to the user | input(\"What are your hobbies?\") |"
   ]
  }
 ],
 "metadata": {
  "kernelspec": {
   "display_name": "Python 3.9.12",
   "language": "python",
   "name": "python3"
  },
  "language_info": {
   "name": "python",
   "version": "3.9.12"
  },
  "orig_nbformat": 4,
  "vscode": {
   "interpreter": {
    "hash": "61a57a4b5406d2de388e2f91097d4e4bcd7d5f4a46f53a795aa28a02eed27fc5"
   }
  }
 },
 "nbformat": 4,
 "nbformat_minor": 2
}
