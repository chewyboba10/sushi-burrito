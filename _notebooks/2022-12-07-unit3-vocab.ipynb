{
 "cells": [
  {
   "cell_type": "markdown",
   "metadata": {},
   "source": [
    "# Unit 3 Vocabulary\n",
    "\n",
    "- toc: true \n",
    "- badges: true\n",
    "- comments: true\n",
    "- categories: [jupyter]\n",
    "- author: Evan Aparri\n",
    "- permalink: /vocab/unit3"
   ]
  },
  {
   "cell_type": "markdown",
   "metadata": {},
   "source": [
    "{% include nav_vocab.html %}"
   ]
  },
  {
   "attachments": {},
   "cell_type": "markdown",
   "metadata": {},
   "source": [
    "## Variables\n",
    "## Data Types\n",
    "## Assignment Operators\n",
    "\n",
    "## Managing Complexity with Variables\n",
    "### Lists\n",
    "### 2D Lists\n",
    "### Dictionaries\n",
    "### Class\n",
    "\n",
    "## Algorithms\n",
    ">An algorithm in computer science is a sequence of instructions that are followed in a specific order to perform a specific task or solve a particular problem. An algorithm is a set of well-defined steps that can be followed by a computer or other computational device to achieve a desired result. Algorithms are an essential part of computer science because they allow computers to perform complex tasks and make decisions based on the data they are given. An algorithm can be as simple as a set of instructions for carrying out a basic mathematical operation, such as adding two numbers together, or it can be more complex, such as a set of steps for sorting a large dataset.\n",
    "\n",
    "\n",
    "## Sequence\n",
    "## Selection\n",
    "## Iteration\n",
    "\n",
    "## Expressions\n",
    "## Comparison Operators\n",
    "## Booleans Expressions and Selection\n",
    "## Booleans Expressions and Iteration\n",
    "## Truth Tables\n",
    "\n",
    "## Characters\n",
    "## Strings\n",
    "## Length\n",
    "## Concatenation\n",
    "## Upper\n",
    "## Lower\n",
    "## Traversing Strings\n",
    "\n",
    "## Python If, Elif, Else conditionals\n",
    "### Nested Selection Statements\n",
    "\n",
    "## Python For\n",
    "## While loops \n",
    "### with Range\n",
    "### with List\n",
    "\n",
    "## Combining loops with conditionals to Break, Continue\n",
    "\n",
    "## Procedural Abstraction\n",
    "## Python Def procedures\n",
    "## Parameters\n",
    "## Return Values"
   ]
  }
 ],
 "metadata": {
  "kernelspec": {
   "display_name": "Python 3.9.12",
   "language": "python",
   "name": "python3"
  },
  "language_info": {
   "name": "python",
   "version": "3.9.12 (main, Apr  5 2022, 06:56:58) \n[GCC 7.5.0]"
  },
  "orig_nbformat": 4,
  "vscode": {
   "interpreter": {
    "hash": "61a57a4b5406d2de388e2f91097d4e4bcd7d5f4a46f53a795aa28a02eed27fc5"
   }
  }
 },
 "nbformat": 4,
 "nbformat_minor": 2
}
