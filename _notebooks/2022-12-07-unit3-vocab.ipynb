{
 "cells": [
  {
   "cell_type": "markdown",
   "metadata": {},
   "source": [
    "# Unit 3 Vocabulary\n",
    "\n",
    "- toc: true \n",
    "- badges: true\n",
    "- comments: true\n",
    "- categories: [jupyter]\n",
    "- author: Evan Aparri\n",
    "- permalink: /vocab/unit3"
   ]
  },
  {
   "cell_type": "markdown",
   "metadata": {},
   "source": [
    "{% include nav_vocab.html %}"
   ]
  },
  {
   "attachments": {},
   "cell_type": "markdown",
   "metadata": {},
   "source": [
    "## Variables\n",
    "## Data Types\n",
    "## Assignment Operators\n",
    "\n",
    "## Managing Complexity with Variables\n",
    "### Lists\n",
    "### 2D Lists\n",
    "### Dictionaries\n",
    "### Class\n",
    "\n",
    "## Algorithms\n",
    "## Sequence\n",
    "## Selection\n",
    "## Iteration\n",
    "\n",
    "## Expressions\n",
    "## Comparison Operators\n",
    "## Booleans Expressions and Selection\n",
    "## Booleans Expressions and Iteration\n",
    "## Truth Tables\n",
    "\n",
    "## Characters\n",
    "## Strings\n",
    "## Length\n",
    "## Concatenation\n",
    "## Upper\n",
    "## Lower\n",
    "## Traversing Strings\n",
    "\n",
    "## Python If, Elif, Else conditionals\n",
    "### Nested Selection Statements\n",
    "\n",
    "## Python For\n",
    "## While loops \n",
    "### with Range\n",
    "### with List\n",
    "\n",
    "## Combining loops with conditionals to Break, Continue\n",
    "\n",
    "## Procedural Abstraction\n",
    "## Python Def procedures\n",
    "## Parameters\n",
    "## Return Values"
   ]
  }
 ],
 "metadata": {
  "kernelspec": {
   "display_name": "Python 3.9.12",
   "language": "python",
   "name": "python3"
  },
  "language_info": {
   "name": "python",
   "version": "3.9.12"
  },
  "orig_nbformat": 4,
  "vscode": {
   "interpreter": {
    "hash": "61a57a4b5406d2de388e2f91097d4e4bcd7d5f4a46f53a795aa28a02eed27fc5"
   }
  }
 },
 "nbformat": 4,
 "nbformat_minor": 2
}
