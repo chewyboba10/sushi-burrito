{
 "cells": [
  {
   "cell_type": "markdown",
   "metadata": {},
   "source": [
    "# 3.1-3.2 Hacks\n",
    "\n",
    "- toc: true \n",
    "- badges: true\n",
    "- comments: true\n",
    "- categories: [jupyter]\n",
    "- author: Evan Aparri"
   ]
  },
  {
   "cell_type": "code",
   "execution_count": null,
   "metadata": {},
   "outputs": [],
   "source": [
    "quesCount = 0\n",
    "\n",
    "# Use a dictionary for the questions\n",
    "quesList = [{\"Question1\", \"What is 1+1 equal to?\"}, {\"Question2\", \"What is 2*2 equal to?\"}, {\"Question3\", \"What is 3^3 equal to?\"}, {\"Question4\", \"What is 4/4 equal to?\"}]\n",
    "\n",
    "print(quesList[0])\n",
    "# Use a dictionary for the correct solutions\n",
    "soluList = [{\"Solution1\"}, {\"Solution2\"}, {\"Solution3\"}, {\"Solution4\"}]\n",
    "\n",
    "quesAmount= len(quesList)\n",
    "\n",
    "for i in range(quesAmount):\n",
    "    print(quesList[i], \"\\n\")\n",
    "    guess = input()\n",
    "    if guess == soluList[quesAmount]:\n",
    "        score+=1\n",
    "        print(\"Correct! Score: \")\n",
    "    else: \n",
    "        print(\"Incorrect! The correct answer was \" + soluList(quesCount) + \"\\n\")\n",
    "    quesCount += 1\n",
    "\n",
    "\n",
    "\n",
    "\n",
    "print(\"Final score: \" + str(score))"
   ]
  },
  {
   "cell_type": "code",
   "execution_count": 41,
   "metadata": {},
   "outputs": [
    {
     "name": "stdout",
     "output_type": "stream",
     "text": [
      "What is 1+1 equal to?\n",
      "Your answer 2 is correct! Score:  1 \n",
      "\n",
      "What is 2*2 equal to?\n",
      "You have skipped the question. The correct answer was 4\n",
      "\n",
      "What is 3/3 equal to?\n",
      "Your answer 1 is correct! Score:  2 \n",
      "\n",
      "What is 4^4 equal to?\n",
      "Your answer 2 is incorrect! The correct answer was 256\n",
      "\n",
      "You got 2 questions correct, a 50.0% and skipped  1 questions\n"
     ]
    }
   ],
   "source": [
    "quesCount = 0\n",
    "score = 0\n",
    "quesSkip = 0\n",
    "\n",
    "# Use a dictionary for the questions\n",
    "quesList = [\"What is 1+1 equal to?\", \"What is 2*2 equal to?\", \"What is 3/3 equal to?\", \"What is 4^4 equal to?\"]\n",
    "\n",
    "# Use a dictionary for the correct solutions\n",
    "soluList = [\"2\", \"4\", \"1\", \"256\"]\n",
    "\n",
    "quesAmount= len(quesList)\n",
    "\n",
    "for i in range(quesAmount):\n",
    "    print(quesList[i])\n",
    "    guess = input(\"Type 'skip' if you wish to skip the question\")\n",
    "    if guess == soluList[i]:\n",
    "        score+=1\n",
    "        print(\"Your answer\", guess, \"is correct! Score: \", score, \"\\n\")\n",
    "    elif guess == \"skip\":\n",
    "        print(\"You have skipped the question. The correct answer was \" + soluList[i]+ \"\\n\")\n",
    "        quesSkip+=1\n",
    "    else: \n",
    "        print(\"Your answer\", guess, \"is incorrect! The correct answer was \" + soluList[i] + \"\\n\")\n",
    "    quesCount += 1\n",
    "\n",
    "def percentage(right, wrong):\n",
    "    percentage = 100 * float(right)/float(wrong)\n",
    "    return str(percentage) + \"%\" \n",
    "\n",
    "\n",
    "\n",
    "\n",
    "print(\"You got\", score, \"questions correct, a\", percentage(score, quesCount), \"and skipped \", str(quesSkip), \"questions\")"
   ]
  }
 ],
 "metadata": {
  "kernelspec": {
   "display_name": "Python 3.9.12",
   "language": "python",
   "name": "python3"
  },
  "language_info": {
   "codemirror_mode": {
    "name": "ipython",
    "version": 3
   },
   "file_extension": ".py",
   "mimetype": "text/x-python",
   "name": "python",
   "nbconvert_exporter": "python",
   "pygments_lexer": "ipython3",
   "version": "3.9.12"
  },
  "orig_nbformat": 4,
  "vscode": {
   "interpreter": {
    "hash": "61a57a4b5406d2de388e2f91097d4e4bcd7d5f4a46f53a795aa28a02eed27fc5"
   }
  }
 },
 "nbformat": 4,
 "nbformat_minor": 2
}
