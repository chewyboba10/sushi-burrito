{
 "cells": [
  {
   "cell_type": "markdown",
   "metadata": {},
   "source": [
    "# 3.8 & 3.10 Notes and Hacks\n",
    "\n",
    "- toc: true \n",
    "- badges: true\n",
    "- comments: true\n",
    "- categories: [jupyter]\n",
    "- author: Evan Aparri\n",
    "- permalink: /unit3/sections8&10hacks"
   ]
  },
  {
   "cell_type": "markdown",
   "metadata": {},
   "source": [
    "## Iteration Hack\n",
    "Use the list below to turn the first letter of any word (using input()) into its respective NATO phonetic alphabet word\n",
    "\n",
    "Ex:\n",
    "\n",
    "list ->\n",
    "\n",
    "lima\n",
    "india\n",
    "sierra\n",
    "tango"
   ]
  },
  {
   "cell_type": "code",
   "execution_count": 3,
   "metadata": {},
   "outputs": [
    {
     "name": "stdout",
     "output_type": "stream",
     "text": [
      "python\n",
      "papa\n",
      "yankee\n",
      "tango\n",
      "hotel\n",
      "oscar\n",
      "november\n"
     ]
    }
   ],
   "source": [
    "words = [\"alfa\", \"bravo\", \"charlie\", \"delta\", \"echo\", \"foxtrot\", \"golf\", \"hotel\", \"india\", \"juliett\", \"kilo\",\n",
    "\"lima\", \"mike\", \"november\", \"oscar\", \"papa\", \"quebec\", \"romeo\", \"sierra\", \"tango\", \"uniform\", \"victor\", \"whiskey\", \"xray\", \"yankee\", \"zulu\"]\n",
    "\n",
    "inp = input().lower()\n",
    "\n",
    "lengthInp = len(inp)\n",
    "\n",
    "wordStart = []\n",
    "\n",
    "for x in range(len(words)):\n",
    "    wordLetter = words[x]\n",
    "    wordThing = wordLetter[0]\n",
    "    wordStart.append(wordThing)\n",
    "\n",
    "print(inp)\n",
    "\n",
    "for i in range(lengthInp):\n",
    "    j = str(inp)[i]\n",
    "    for y in range(len(wordStart)):\n",
    "        if j == str(wordStart[y]):\n",
    "            print(words[y])\n"
   ]
  },
  {
   "cell_type": "markdown",
   "metadata": {},
   "source": [
    "## 2D Iteration Hacks"
   ]
  },
  {
   "cell_type": "code",
   "execution_count": 5,
   "metadata": {},
   "outputs": [],
   "source": [
    "keypad =   [[1, 2, 3],\n",
    "            [4, 5, 6],\n",
    "            [7, 8, 9],\n",
    "            [\" \", 0, \" \"]]"
   ]
  },
  {
   "cell_type": "code",
   "execution_count": 6,
   "metadata": {},
   "outputs": [
    {
     "name": "stdout",
     "output_type": "stream",
     "text": [
      "1 2 3 \n",
      "4 5 6 \n",
      "7 8 9 \n",
      "  0   \n"
     ]
    }
   ],
   "source": [
    "def print_matrix3(matrix):\n",
    "    for row in matrix:  # Iterates through each \"row\" of matrix. Row is a dummy variable, it could technically be anything. It iterates through each value of matrix and each value is it's own list. in this syntax the list is stored in \"row\".\n",
    "  # Iterates through each value in row. Again col, column, is a dummy variable. Each value in row is stored in col.\n",
    "        print(*row, end=\" \") # Same as 1\n",
    "        print() # Same as 1\n",
    "\n",
    "print_matrix3(keypad)"
   ]
  },
  {
   "cell_type": "code",
   "execution_count": 7,
   "metadata": {},
   "outputs": [
    {
     "name": "stdout",
     "output_type": "stream",
     "text": [
      "1 2 3\n",
      "4 5 6\n",
      "7 8 9\n",
      "  0  \n"
     ]
    }
   ],
   "source": [
    "keypad =   [[1, 2, 3],\n",
    "            [4, 5, 6],\n",
    "            [7, 8, 9],\n",
    "            [\" \", 0, \" \"]]\n",
    "\n",
    "def print_matrix4(matrix):\n",
    "    for i in range(len(matrix)):\n",
    "        itr = iter(matrix[i])\n",
    "        print(next(itr), next(itr), next(itr))\n",
    "\n",
    "\n",
    "\n",
    "print_matrix4(keypad)"
   ]
  },
  {
   "cell_type": "code",
   "execution_count": 8,
   "metadata": {},
   "outputs": [
    {
     "name": "stdout",
     "output_type": "stream",
     "text": [
      "1 2 3 \n",
      "4 5 6 \n",
      "7 8 9 \n",
      "  0   \n"
     ]
    }
   ],
   "source": [
    "def print_matrix5(matrix):\n",
    "    i = 0\n",
    "    while i < len(matrix):\n",
    "        j = 0\n",
    "        while j < len(matrix[i]):\n",
    "            print(matrix[i][j], end=\" \")\n",
    "            j+=1\n",
    "        print()\n",
    "        i += 1\n",
    "    return\n",
    "\n",
    "print_matrix5(keypad)"
   ]
  },
  {
   "cell_type": "code",
   "execution_count": 11,
   "metadata": {},
   "outputs": [],
   "source": [
    "keyboard = [[\"`\", 1, 2, 3, 4, 5, 6, 7, 8, 9, 0, \"-\", \"=\"],\n",
    "            [\"Q\", \"W\", \"E\", \"R\", \"T\", \"Y\", \"U\", \"I\", \"O\", \"P\", \"[\", \"]\"],\n",
    "            [\"A\", \"S\", \"D\", \"F\", \"G\", \"H\", \"J\", \"K\", \"L\", \";\", \"'\"],\n",
    "            [\"Z\", \"X\", \"C\", \"V\", \"B\", \"N\", \"M\", \",\", \".\", \"/\", \" \"]]"
   ]
  },
  {
   "cell_type": "code",
   "execution_count": 12,
   "metadata": {},
   "outputs": [
    {
     "name": "stdout",
     "output_type": "stream",
     "text": [
      "I WAS BORN IN NOVEMBER AND I AM 17 YEARS OLD"
     ]
    }
   ],
   "source": [
    "def print_type(matrix):\n",
    "    inp = input().upper()\n",
    "    for i in range(len(inp)):\n",
    "        j = str(inp)[i]\n",
    "        for row in range(len(matrix)):  # Iterates through each \"row\" of matrix. Row is a dummy variable, it could technically be anything. It iterates through each value of matrix and each value is it's own list. in this syntax the list is stored in \"row\".\n",
    "            for col in range(len(matrix[row])):\n",
    "                if j == str(matrix[row][col]): # Iterates through each value in row. Again col, column, is a dummy variable. Each value in row is stored in coif j == str(keyword[y]):\n",
    "                    print(matrix[row][col], end=\"\") # Same as 1\n",
    "         # Same as 1\n",
    "\n",
    "print_type(keyboard)"
   ]
  },
  {
   "cell_type": "markdown",
   "metadata": {},
   "source": [
    "Challenge may or may not be complete"
   ]
  },
  {
   "cell_type": "code",
   "execution_count": 18,
   "metadata": {},
   "outputs": [],
   "source": [
    "def print_type(matrix):\n",
    "    inp = input().upper()\n",
    "    for i in range(len(inp)):\n",
    "        j = str(inp)[i]\n",
    "        for row in range(len(matrix)):  # Iterates through each \"row\" of matrix. Row is a dummy variable, it could technically be anything. It iterates through each value of matrix and each value is it's own list. in this syntax the list is stored in \"row\".\n",
    "            for col in range(len(matrix[row])):\n",
    "                if j == str(matrix[row][col]): # Iterates through each value in row. Again col, column, is a dummy variable. Each value in row is stored in coif j == str(keyword[y]):\n",
    "                    print(matrix[row][col], end=\"\")\n",
    "                    matrix = matrix[row].pop() # Same as 1\n",
    "         # Same as 1\n",
    "\n",
    "print_type(keyboard)"
   ]
  }
 ],
 "metadata": {
  "kernelspec": {
   "display_name": "Python 3.9.12",
   "language": "python",
   "name": "python3"
  },
  "language_info": {
   "codemirror_mode": {
    "name": "ipython",
    "version": 3
   },
   "file_extension": ".py",
   "mimetype": "text/x-python",
   "name": "python",
   "nbconvert_exporter": "python",
   "pygments_lexer": "ipython3",
   "version": "3.9.12"
  },
  "orig_nbformat": 4,
  "vscode": {
   "interpreter": {
    "hash": "61a57a4b5406d2de388e2f91097d4e4bcd7d5f4a46f53a795aa28a02eed27fc5"
   }
  }
 },
 "nbformat": 4,
 "nbformat_minor": 2
}
