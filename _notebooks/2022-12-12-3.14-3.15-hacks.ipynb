{
 "cells": [
  {
   "attachments": {},
   "cell_type": "markdown",
   "metadata": {},
   "source": [
    "# 3.14 & 3.15 Hacks\n",
    "\n",
    "- toc: true \n",
    "- badges: true\n",
    "- comments: true\n",
    "- categories: [jupyter]\n",
    "- author: Evan Aparri\n",
    "- permalink: /unit3/sections14-15hacks"
   ]
  },
  {
   "attachments": {},
   "cell_type": "markdown",
   "metadata": {},
   "source": [
    "**Procedure to help with my assignments**"
   ]
  },
  {
   "attachments": {},
   "cell_type": "markdown",
   "metadata": {},
   "source": [
    "a. What is the derivative of 2x^5 - 6x^2 + 24x?"
   ]
  },
  {
   "cell_type": "code",
   "execution_count": 4,
   "metadata": {},
   "outputs": [
    {
     "name": "stdout",
     "output_type": "stream",
     "text": [
      "Polynomial function, f(x):\n",
      "    5     2\n",
      "2 x + 6 x + 24 x\n",
      "Derivative, f(x)'=\n",
      "     4\n",
      "10 x + 12 x + 24\n",
      "When x=9  f(x)'= 65742\n"
     ]
    }
   ],
   "source": [
    "import numpy as np\n",
    " \n",
    "# defining polynomial function\n",
    "var = np.poly1d([2, 0, 0, 6, 24, 0])\n",
    "print(\"Polynomial function, f(x):\\n\", var)\n",
    " \n",
    "# calculating the derivative\n",
    "derivative = var.deriv()\n",
    "print(\"Derivative, f(x)'=\\n\", derivative)\n",
    " \n",
    "# calculates the derivative of after\n",
    "# given value of x\n",
    "print(\"When x=9  f(x)'=\", derivative(9))"
   ]
  },
  {
   "attachments": {},
   "cell_type": "markdown",
   "metadata": {},
   "source": [
    "b. What is the derivative of (13x^4 + 4x^2) / 2 when x = 9?"
   ]
  },
  {
   "cell_type": "code",
   "execution_count": 5,
   "metadata": {},
   "outputs": [
    {
     "name": "stdout",
     "output_type": "stream",
     "text": [
      "Polynomial function, f(x):\n",
      "      4     2\n",
      "6.5 x + 2 x\n",
      "Derivative, f(x)'=\n",
      "     3\n",
      "26 x + 4 x\n",
      "When x=9  f(x)'= 18990.0\n"
     ]
    }
   ],
   "source": [
    "import numpy as np\n",
    " \n",
    "# defining polynomial function\n",
    "var = np.poly1d([13, 0, 4, 0, 0])/2\n",
    "print(\"Polynomial function, f(x):\\n\", var)\n",
    " \n",
    "# calculating the derivative\n",
    "derivative = var.deriv()\n",
    "print(\"Derivative, f(x)'=\\n\", derivative)\n",
    " \n",
    "# calculates the derivative of after\n",
    "# given value of x\n",
    "print(\"When x=9  f(x)'=\", derivative(9))"
   ]
  },
  {
   "cell_type": "code",
   "execution_count": 6,
   "metadata": {},
   "outputs": [
    {
     "name": "stdout",
     "output_type": "stream",
     "text": [
      "['Max', 'Buddy', 'Tucker', 'Fido', 'Charlie', 'Spot', 'Roxy', 'Rocky', 'Molly', 'Rufus']\n",
      "['Princess', 'Oliver', 'Whiskers', 'Mittens', 'Smokey', 'Socks', 'Fluffy', 'Boots', 'Lucy', 'Simba']\n"
     ]
    }
   ],
   "source": [
    "import random\n",
    "\n",
    "dogs = [\"Fido\", \"Rufus\", \"Spot\", \"Buddy\", \"Max\", \"Charlie\", \"Rocky\", \"Molly\", \"Roxy\", \"Tucker\"]\n",
    "cats = [\"Fluffy\", \"Whiskers\", \"Mittens\", \"Socks\", \"Oliver\", \"Smokey\", \"Boots\", \"Lucy\", \"Princess\", \"Simba\"]\n",
    "\n",
    "random.shuffle(dogs)\n",
    "random.shuffle(cats)\n",
    "\n",
    "print(dogs)\n",
    "print(cats)"
   ]
  }
 ],
 "metadata": {
  "kernelspec": {
   "display_name": "Python 3",
   "language": "python",
   "name": "python3"
  },
  "language_info": {
   "codemirror_mode": {
    "name": "ipython",
    "version": 3
   },
   "file_extension": ".py",
   "mimetype": "text/x-python",
   "name": "python",
   "nbconvert_exporter": "python",
   "pygments_lexer": "ipython3",
   "version": "3.9.12 (main, Apr  5 2022, 06:56:58) \n[GCC 7.5.0]"
  },
  "orig_nbformat": 4,
  "vscode": {
   "interpreter": {
    "hash": "61a57a4b5406d2de388e2f91097d4e4bcd7d5f4a46f53a795aa28a02eed27fc5"
   }
  }
 },
 "nbformat": 4,
 "nbformat_minor": 2
}
