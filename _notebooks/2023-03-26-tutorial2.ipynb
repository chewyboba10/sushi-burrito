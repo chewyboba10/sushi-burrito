{
 "cells": [
  {
   "attachments": {},
   "cell_type": "markdown",
   "metadata": {},
   "source": [
    "# Tutorial To SASS Part 2: Max W, Aniket, Evan\n",
    "\n",
    "- title: Tutorial To SASS Part 2\n",
    "- toc: true\n",
    "- categories: [jupyter]\n",
    "- comments: true\n",
    "- badges: true"
   ]
  },
  {
   "attachments": {},
   "cell_type": "markdown",
   "metadata": {},
   "source": [
    "Right now, we are introducing SASS, and finding a way to switch between different CSS themes with a click of a button on github page. below is intro to css as this helps us review sass"
   ]
  },
  {
   "attachments": {},
   "cell_type": "markdown",
   "metadata": {},
   "source": [
    "Here's an example of how you can use Sass to define a set of variables for colors:\n"
   ]
  },
  {
   "attachments": {},
   "cell_type": "markdown",
   "metadata": {},
   "source": [
    "```\n",
    "// Define some color variables\n",
    "$primary-color: #007bff;\n",
    "$secondary-color: #6c757d;\n",
    "\n",
    "// Use the variables in your styles\n",
    "body {\n",
    "  background-color: $secondary-color;\n",
    "}\n",
    "\n",
    "h1 {\n",
    "  color: $primary-color;\n",
    "}\n",
    "```"
   ]
  },
  {
   "attachments": {},
   "cell_type": "markdown",
   "metadata": {},
   "source": [
    "Variables are defined in sass with the symbol `$`. In the code above, the variables `$primary-color` and `$secondary-color` are defined. We then use these variables to define the background color of the body element and the color of the h1 element.\n",
    "\n",
    "Sass also allows you to nest CSS selectors, which can make your code more readable and easier to maintain:"
   ]
  },
  {
   "attachments": {},
   "cell_type": "markdown",
   "metadata": {},
   "source": [
    "```\n",
    "// Nesting selectors\n",
    "nav {\n",
    "  ul {\n",
    "    list-style: none;\n",
    "    margin: 0;\n",
    "    padding: 0;\n",
    "\n",
    "    li {\n",
    "      display: inline-block;\n",
    "\n",
    "      a {\n",
    "        color: $primary-color;\n",
    "        text-decoration: none;\n",
    "        padding: 0.5rem;\n",
    "\n",
    "        &:hover {\n",
    "          background-color: $secondary-color;\n",
    "        }\n",
    "      }\n",
    "    }\n",
    "  }\n",
    "}\n",
    "```"
   ]
  },
  {
   "attachments": {},
   "cell_type": "markdown",
   "metadata": {},
   "source": [
    "In the code above, we define the styles for a navigation menu. We use nested selectors to apply styles to the `ul`, `li`, and `a` elements. We also use the `&` operator to define styles for the `a:hover` state.\n",
    "\n",
    "Sass also provides a feature called mixins, which allow you to define a set of styles that can be reused across your codebase, similar to def in python:"
   ]
  },
  {
   "attachments": {},
   "cell_type": "markdown",
   "metadata": {},
   "source": [
    "```\n",
    "// Define a mixin for button styles\n",
    "@mixin button-styles {\n",
    "  display: inline-block;\n",
    "  padding: 0.5rem;\n",
    "  font-size: 1rem;\n",
    "  font-weight: bold;\n",
    "  text-decoration: none;\n",
    "  border-radius: 0.25rem;\n",
    "  color: white;\n",
    "  background-color: $primary-color;\n",
    "\n",
    "  &:hover {\n",
    "    background-color: $secondary-color;\n",
    "  }\n",
    "}\n",
    "\n",
    "// Use the mixin to style a button\n",
    "button {\n",
    "  @include button-styles;\n",
    "}\n",
    "```"
   ]
  },
  {
   "attachments": {},
   "cell_type": "markdown",
   "metadata": {},
   "source": [
    "In the code above, we define a mixin called `button-styles` that contains a set of styles for a button element. We then use the `@include` directive to apply the mixin to a `button` element.\n",
    "These are just a few examples of the many features that Sass provides. It is impossible to get through everything in this lesson, but if you are interested, you can look in [w3schools](https://www.w3schools.com/sass/default.php) for more information"
   ]
  }
 ],
 "metadata": {
  "kernelspec": {
   "display_name": "Python 3",
   "language": "python",
   "name": "python3"
  },
  "language_info": {
   "name": "python",
   "version": "3.8.10"
  },
  "orig_nbformat": 4
 },
 "nbformat": 4,
 "nbformat_minor": 2
}
