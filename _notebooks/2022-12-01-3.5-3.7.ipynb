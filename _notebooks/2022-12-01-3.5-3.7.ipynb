{
 "cells": [
  {
   "cell_type": "markdown",
   "metadata": {},
   "source": [
    "# 3.5-3.7 Notes and Hacks\n",
    "\n",
    "- toc: true \n",
    "- badges: true\n",
    "- comments: true\n",
    "- categories: [jupyter]\n",
    "- author: Evan Aparri"
   ]
  },
  {
   "cell_type": "markdown",
   "metadata": {},
   "source": [
    "## Boolean and Binary"
   ]
  },
  {
   "cell_type": "code",
   "execution_count": 1,
   "metadata": {},
   "outputs": [
    {
     "name": "stdout",
     "output_type": "stream",
     "text": [
      "89.0% > 80% True\n"
     ]
    }
   ],
   "source": [
    "grade1 = 90\n",
    "grade2 = 65\n",
    "grade3 = 60\n",
    "grade4 = 75\n",
    "grade5 = 95\n",
    "\n",
    "totalGrade = grade1 + grade2 + grade3 + grade3 + grade4 + grade5\n",
    "gradeAvg = totalGrade/5\n",
    "\n",
    "print(str(gradeAvg) + \"% > 80%\", gradeAvg>80)\n",
    "\n"
   ]
  },
  {
   "cell_type": "markdown",
   "metadata": {},
   "source": []
  },
  {
   "cell_type": "code",
   "execution_count": 4,
   "metadata": {},
   "outputs": [
    {
     "name": "stdout",
     "output_type": "stream",
     "text": [
      "1 > 2 or 5 < 12 True\n",
      "24 > 8: False\n",
      "10 > 20: 20\n"
     ]
    }
   ],
   "source": [
    "print(\"1 > 2 or 5 < 12\", 1 > 2 or 5 < 12)\n",
    "# Output TRUE  using OR ^\n",
    "\n",
    "\n",
    "# Output FALSE using NOT\n",
    "print(\"24 > 8:\", not 24 > 8)\n",
    "\n",
    "# Output FALSE using AND\n",
    "print(\"10 > 20:\", 10 > 20)"
   ]
  },
  {
   "cell_type": "code",
   "execution_count": 6,
   "metadata": {},
   "outputs": [
    {
     "name": "stdout",
     "output_type": "stream",
     "text": [
      "140\n"
     ]
    }
   ],
   "source": [
    "num1 = 20\n",
    "num2 = 120\n",
    "sum = num1 + num2\n",
    "\n",
    "if sum == 200:\n",
    "    print(sum)\n",
    "else:\n",
    "    print(sum)"
   ]
  },
  {
   "cell_type": "markdown",
   "metadata": {},
   "source": [
    "If a person has at least 8 hours, they are experienced\n",
    "If a person is experienced their salary is 90k, if they have ten hours or above their salary 150k\n",
    "If a person is inexperienced their salary is always 50k\n",
    "print the salary of the person at the end and whether they are experienced or not"
   ]
  },
  {
   "cell_type": "code",
   "execution_count": 17,
   "metadata": {},
   "outputs": [
    {
     "name": "stdout",
     "output_type": "stream",
     "text": [
      "they are experienced\n",
      "Their salary is 90K\n"
     ]
    }
   ],
   "source": [
    "hours = 8\n",
    "\n",
    "if (hours < 8)\n",
    "{\n",
    "    console.log(\"they are inexperienced and their salary is 50K\")\n",
    "}\n",
    "else\n",
    "{\n",
    "    console.log(\"they are experienced\")\n",
    "    if (hours >= 10)\n",
    "    {\n",
    "        console.log(\"Their salary is 150K\")\n",
    "    }\n",
    "    else\n",
    "    {\n",
    "        console.log(\"Their salary is 90K\")\n",
    "    }\n",
    "}"
   ]
  }
 ],
 "metadata": {
  "kernelspec": {
   "display_name": "JavaScript (Node.js)",
   "language": "javascript",
   "name": "javascript"
  },
  "language_info": {
   "file_extension": ".js",
   "mimetype": "application/javascript",
   "name": "javascript",
   "version": "6.11.2"
  },
  "orig_nbformat": 4,
  "vscode": {
   "interpreter": {
    "hash": "61a57a4b5406d2de388e2f91097d4e4bcd7d5f4a46f53a795aa28a02eed27fc5"
   }
  }
 },
 "nbformat": 4,
 "nbformat_minor": 2
}
