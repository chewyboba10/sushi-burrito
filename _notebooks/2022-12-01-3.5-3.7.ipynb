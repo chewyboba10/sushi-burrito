{
 "cells": [
  {
   "cell_type": "markdown",
   "metadata": {},
   "source": [
    "# 3.5-3.7 Notes and Hacks\n",
    "\n",
    "- toc: true \n",
    "- badges: true\n",
    "- comments: true\n",
    "- categories: [jupyter]\n",
    "- author: Evan Aparri"
   ]
  },
  {
   "cell_type": "markdown",
   "metadata": {},
   "source": [
    "## Boolean and Binary"
   ]
  },
  {
   "cell_type": "code",
   "execution_count": 1,
   "metadata": {},
   "outputs": [
    {
     "name": "stdout",
     "output_type": "stream",
     "text": [
      "89.0% > 80% True\n"
     ]
    }
   ],
   "source": [
    "grade1 = 90\n",
    "grade2 = 65\n",
    "grade3 = 60\n",
    "grade4 = 75\n",
    "grade5 = 95\n",
    "\n",
    "totalGrade = grade1 + grade2 + grade3 + grade3 + grade4 + grade5\n",
    "gradeAvg = totalGrade/5\n",
    "\n",
    "print(str(gradeAvg) + \"% > 80%\", gradeAvg>80)\n",
    "\n"
   ]
  },
  {
   "cell_type": "markdown",
   "metadata": {},
   "source": []
  },
  {
   "cell_type": "code",
   "execution_count": 4,
   "metadata": {},
   "outputs": [
    {
     "name": "stdout",
     "output_type": "stream",
     "text": [
      "1 > 2 or 5 < 12 True\n",
      "24 > 8: False\n",
      "10 > 20: 20\n"
     ]
    }
   ],
   "source": [
    "print(\"1 > 2 or 5 < 12\", 1 > 2 or 5 < 12)\n",
    "# Output TRUE  using OR ^\n",
    "\n",
    "\n",
    "# Output FALSE using NOT\n",
    "print(\"24 > 8:\", not 24 > 8)\n",
    "\n",
    "# Output FALSE using AND\n",
    "print(\"10 > 20:\", 10 > 20)"
   ]
  },
  {
   "cell_type": "code",
   "execution_count": 6,
   "metadata": {},
   "outputs": [
    {
     "name": "stdout",
     "output_type": "stream",
     "text": [
      "140\n"
     ]
    }
   ],
   "source": [
    "num1 = 20\n",
    "num2 = 120\n",
    "sum = num1 + num2\n",
    "\n",
    "if sum == 200:\n",
    "    print(sum)\n",
    "else:\n",
    "    print(sum)"
   ]
  }
 ],
 "metadata": {
  "kernelspec": {
   "display_name": "Python 3.9.12",
   "language": "python",
   "name": "python3"
  },
  "language_info": {
   "codemirror_mode": {
    "name": "ipython",
    "version": 3
   },
   "file_extension": ".py",
   "mimetype": "text/x-python",
   "name": "python",
   "nbconvert_exporter": "python",
   "pygments_lexer": "ipython3",
   "version": "3.9.12"
  },
  "orig_nbformat": 4,
  "vscode": {
   "interpreter": {
    "hash": "61a57a4b5406d2de388e2f91097d4e4bcd7d5f4a46f53a795aa28a02eed27fc5"
   }
  }
 },
 "nbformat": 4,
 "nbformat_minor": 2
}
