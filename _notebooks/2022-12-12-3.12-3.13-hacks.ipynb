{
 "cells": [
  {
   "attachments": {},
   "cell_type": "markdown",
   "metadata": {},
   "source": [
    "# 3.12 & 3.13 Hacks\n",
    "\n",
    "- toc: true \n",
    "- badges: true\n",
    "- comments: true\n",
    "- categories: [jupyter]\n",
    "- author: Evan Aparri\n",
    "- permalink: /unit3/sections12-13hacks"
   ]
  },
  {
   "attachments": {},
   "cell_type": "markdown",
   "metadata": {},
   "source": [
    "**Procedure to help with my assignments**"
   ]
  },
  {
   "cell_type": "code",
   "execution_count": 1,
   "metadata": {},
   "outputs": [
    {
     "name": "stdout",
     "output_type": "stream",
     "text": [
      "Here are your assignments:\n",
      "Physics Mini-Lab - Due on 12/12/2022\n",
      "Read and annotate Scarlet Letter chapter 18 - Due on 12/12/2022\n",
      "3.12-3.13 hacks and notes - Due on 12/12/2022\n"
     ]
    }
   ],
   "source": [
    "# create a class for assignments\n",
    "class Assignment:\n",
    "    def __init__(self, name, due_date):\n",
    "        self.name = name\n",
    "        self.due_date = due_date\n",
    "\n",
    "# create a list to store all the assignments\n",
    "assignments = []\n",
    "\n",
    "# prompt the user to input their assignments and due dates\n",
    "while True:\n",
    "    # ask the user if they want to add an assignment\n",
    "    add_assignment = input(\"Do you want to add an assignment? (yes/no) \")\n",
    "    if add_assignment.lower() == \"yes\":\n",
    "        # if yes, ask for the assignment name and due date\n",
    "        name = input(\"Enter the assignment name: \")\n",
    "        due_date = input(\"Enter the due date (MM/DD/YYYY): \")\n",
    "\n",
    "        # create an assignment object and add it to the list\n",
    "        assignment = Assignment(name, due_date)\n",
    "        assignments.append(assignment)\n",
    "    else:\n",
    "        # if no, break out of the loop\n",
    "        break\n",
    "\n",
    "# print out the assignments and their due dates\n",
    "print(\"Here are your assignments:\")\n",
    "for assignment in assignments:\n",
    "    print(f\"{assignment.name} - Due on {assignment.due_date}\")"
   ]
  },
  {
   "attachments": {},
   "cell_type": "markdown",
   "metadata": {},
   "source": [
    "This code creates a `class` called `Assignment` that has two attributes: `name` and `due_date`. It also creates an empty list called `assignments` where we can store all of the assignment objects.\n",
    "\n",
    "The code then prompts the user to input their assignments and due dates. It keeps asking for input until the user says they don't want to add any more assignments.\n",
    "\n",
    "Finally, the code prints out all of the assignments and their due dates."
   ]
  }
 ],
 "metadata": {
  "kernelspec": {
   "display_name": "Python 3",
   "language": "python",
   "name": "python3"
  },
  "language_info": {
   "codemirror_mode": {
    "name": "ipython",
    "version": 3
   },
   "file_extension": ".py",
   "mimetype": "text/x-python",
   "name": "python",
   "nbconvert_exporter": "python",
   "pygments_lexer": "ipython3",
   "version": "3.9.12"
  },
  "orig_nbformat": 4,
  "vscode": {
   "interpreter": {
    "hash": "61a57a4b5406d2de388e2f91097d4e4bcd7d5f4a46f53a795aa28a02eed27fc5"
   }
  }
 },
 "nbformat": 4,
 "nbformat_minor": 2
}
