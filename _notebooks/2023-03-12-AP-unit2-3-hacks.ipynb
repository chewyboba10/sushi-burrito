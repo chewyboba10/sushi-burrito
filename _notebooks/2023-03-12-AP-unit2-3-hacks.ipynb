{
  "cells": [
    {
      "attachments": {},
      "cell_type": "markdown",
      "metadata": {},
      "source": [
        "# Hacks for 2.3\n",
        ">Getting this file to show in fastpages has been a pain II\n",
        "- title: 2.3 Hacks\n",
        "- layout: post\n",
        "- author: Evan Aparri\n",
        "- toc: true\n",
        "- categories: []\n",
        "- type: ap\n",
        "- week: 25"
      ]
    },
    {
      "cell_type": "markdown",
      "metadata": {
        "id": "nf9xqTUrjGwV"
      },
      "source": [
        "## **Pandas**\n"
      ]
    },
    {
      "attachments": {},
      "cell_type": "markdown",
      "metadata": {
        "id": "y29ENupcjOHC"
      },
      "source": [
        "A dataset of [Fortune 1000](https://www.kaggle.com/winston56/fortune-500-data-2021) from Kaggle datasets to explore pandas library will be used.\n",
        "\n",
        "The Fortune 1000 dataset is from the Fortune website. It contains U.S. company data for the year 2021. The dataset is 1000 rows and 18 columns.\n",
        "\n",
        "Features:\n",
        "* Company - values are the name of the company\n",
        "Rank - The 2021 rank established by Fortune (1-1000)\n",
        "* Rank Change - The change in the rank from 2020 to 2021. There is only a rank change listed if the company is currently in the top 500 and was previously in the top 500.\n",
        "* Revenue - Revenue of each company in millions. This is the criteria used to rank each company.\n",
        "* Profit - Profit of each company in millions.\n",
        "Num. of Employees - The number of employees each company employs.\n",
        "* Sector - The sector of the market the company operates in.\n",
        "* City - The city where the company's headquarters is located.\n",
        "* State - The state where the company's headquarters is located\n",
        "* Newcomer - Indicates whether or not the company is new to the top Fortune 500 (\"yes\" or \"no\"). No value will be listed for companies outside of the top 500.\n",
        "* CEO Founder - Indicates whether the CEO of the company is also the founder (\"yes\" or \"no\").\n",
        "* CEO Woman - Indicates whether the CEO of the company is a woman (\"yes\" or \"no\").\n",
        "* Profitable - Indicates whether the company is profitable or not (\"yes\" or \"no\").\n",
        "* Prev. Rank - The 2020 rank of the company, as established by Fortune. There will only be previous rank data for the top 500 companies.\n",
        "* CEO - The name of the CEO of the company\n",
        "* Website - The url of the company website\n",
        "* Ticker - The stock ticker symbol of public companies. Some rows will have empty values because the company is a private corporation.\n",
        "* Market Cap - The market cap (or value) of the company in millions. Some rows will have empty values because the company is private. Market valuations were determined on January 20, 2021."
      ]
    },
    {
      "cell_type": "code",
      "execution_count": 1,
      "metadata": {
        "colab": {
          "base_uri": "https://localhost:8080/"
        },
        "id": "BXNMZlWjdBDv",
        "outputId": "60b4c0e6-b90b-4cdb-e47d-b216c80cc519"
      },
      "outputs": [
        {
          "name": "stdout",
          "output_type": "stream",
          "text": [
            "/content/: Scheme missing.\n",
            "File ‘Fortune_1000.csv’ already there; not retrieving.\n",
            "\n"
          ]
        }
      ],
      "source": [
        "# download data file into Google Colab server\n",
        "!wget -nc /content/ https://datasets21.s3-us-west-1.amazonaws.com/Fortune_1000.csv"
      ]
    },
    {
      "cell_type": "code",
      "execution_count": 1,
      "metadata": {
        "id": "No2oRDXqlK2B"
      },
      "outputs": [],
      "source": [
        "# import data by pandas.read_csv\n",
        "import pandas as pd\n",
        "f1000 = pd.read_csv('Fortune_1000.csv',index_col=0)"
      ]
    },
    {
      "cell_type": "code",
      "execution_count": 23,
      "metadata": {
        "colab": {
          "base_uri": "https://localhost:8080/"
        },
        "id": "zQkIwKcvlmwC",
        "outputId": "16653c39-56a3-4469-d2dd-2f394b2dbf0a"
      },
      "outputs": [
        {
          "name": "stdout",
          "output_type": "stream",
          "text": [
            "<class 'pandas.core.frame.DataFrame'>\n",
            "Index: 1000 entries, Walmart to Liberty Oilfield Services\n",
            "Data columns (total 17 columns):\n",
            " #   Column             Non-Null Count  Dtype  \n",
            "---  ------             --------------  -----  \n",
            " 0   rank               1000 non-null   int64  \n",
            " 1   rank_change        1000 non-null   float64\n",
            " 2   revenue            1000 non-null   float64\n",
            " 3   profit             998 non-null    float64\n",
            " 4   num. of employees  1000 non-null   int64  \n",
            " 5   sector             1000 non-null   object \n",
            " 6   city               1000 non-null   object \n",
            " 7   state              1000 non-null   object \n",
            " 8   newcomer           500 non-null    object \n",
            " 9   ceo_founder        1000 non-null   object \n",
            " 10  ceo_woman          1000 non-null   object \n",
            " 11  profitable         1000 non-null   object \n",
            " 12  prev_rank          1000 non-null   object \n",
            " 13  CEO                992 non-null    object \n",
            " 14  Website            1000 non-null   object \n",
            " 15  Ticker             938 non-null    object \n",
            " 16  Market Cap         960 non-null    object \n",
            "dtypes: float64(3), int64(2), object(12)\n",
            "memory usage: 140.6+ KB\n"
          ]
        }
      ],
      "source": [
        "# explore the dataset\n",
        "f1000.info()"
      ]
    },
    {
      "cell_type": "code",
      "execution_count": 24,
      "metadata": {
        "colab": {
          "base_uri": "https://localhost:8080/",
          "height": 295
        },
        "id": "Mc4lk5azu6uf",
        "outputId": "ad142e2d-02ae-4474-a773-7d3d38b41f76"
      },
      "outputs": [
        {
          "data": {
            "text/html": [
              "<div>\n",
              "<style scoped>\n",
              "    .dataframe tbody tr th:only-of-type {\n",
              "        vertical-align: middle;\n",
              "    }\n",
              "\n",
              "    .dataframe tbody tr th {\n",
              "        vertical-align: top;\n",
              "    }\n",
              "\n",
              "    .dataframe thead th {\n",
              "        text-align: right;\n",
              "    }\n",
              "</style>\n",
              "<table border=\"1\" class=\"dataframe\">\n",
              "  <thead>\n",
              "    <tr style=\"text-align: right;\">\n",
              "      <th></th>\n",
              "      <th>rank</th>\n",
              "      <th>rank_change</th>\n",
              "      <th>revenue</th>\n",
              "      <th>profit</th>\n",
              "      <th>num. of employees</th>\n",
              "      <th>sector</th>\n",
              "      <th>city</th>\n",
              "      <th>state</th>\n",
              "      <th>newcomer</th>\n",
              "      <th>ceo_founder</th>\n",
              "      <th>ceo_woman</th>\n",
              "      <th>profitable</th>\n",
              "      <th>prev_rank</th>\n",
              "      <th>CEO</th>\n",
              "      <th>Website</th>\n",
              "      <th>Ticker</th>\n",
              "      <th>Market Cap</th>\n",
              "    </tr>\n",
              "    <tr>\n",
              "      <th>company</th>\n",
              "      <th></th>\n",
              "      <th></th>\n",
              "      <th></th>\n",
              "      <th></th>\n",
              "      <th></th>\n",
              "      <th></th>\n",
              "      <th></th>\n",
              "      <th></th>\n",
              "      <th></th>\n",
              "      <th></th>\n",
              "      <th></th>\n",
              "      <th></th>\n",
              "      <th></th>\n",
              "      <th></th>\n",
              "      <th></th>\n",
              "      <th></th>\n",
              "      <th></th>\n",
              "    </tr>\n",
              "  </thead>\n",
              "  <tbody>\n",
              "    <tr>\n",
              "      <th>Walmart</th>\n",
              "      <td>1</td>\n",
              "      <td>0.0</td>\n",
              "      <td>523964.0</td>\n",
              "      <td>14881.0</td>\n",
              "      <td>2200000</td>\n",
              "      <td>Retailing</td>\n",
              "      <td>Bentonville</td>\n",
              "      <td>AR</td>\n",
              "      <td>no</td>\n",
              "      <td>no</td>\n",
              "      <td>no</td>\n",
              "      <td>yes</td>\n",
              "      <td>1.0</td>\n",
              "      <td>C. Douglas McMillon</td>\n",
              "      <td>https://www.stock.walmart.com</td>\n",
              "      <td>WMT</td>\n",
              "      <td>411690</td>\n",
              "    </tr>\n",
              "    <tr>\n",
              "      <th>Amazon</th>\n",
              "      <td>2</td>\n",
              "      <td>3.0</td>\n",
              "      <td>280522.0</td>\n",
              "      <td>11588.0</td>\n",
              "      <td>798000</td>\n",
              "      <td>Retailing</td>\n",
              "      <td>Seattle</td>\n",
              "      <td>WA</td>\n",
              "      <td>no</td>\n",
              "      <td>yes</td>\n",
              "      <td>no</td>\n",
              "      <td>yes</td>\n",
              "      <td>5.0</td>\n",
              "      <td>Jeffrey P. Bezos</td>\n",
              "      <td>https://www.amazon.com</td>\n",
              "      <td>AMZN</td>\n",
              "      <td>1637405</td>\n",
              "    </tr>\n",
              "    <tr>\n",
              "      <th>Exxon Mobil</th>\n",
              "      <td>3</td>\n",
              "      <td>-1.0</td>\n",
              "      <td>264938.0</td>\n",
              "      <td>14340.0</td>\n",
              "      <td>74900</td>\n",
              "      <td>Energy</td>\n",
              "      <td>Irving</td>\n",
              "      <td>TX</td>\n",
              "      <td>no</td>\n",
              "      <td>no</td>\n",
              "      <td>no</td>\n",
              "      <td>yes</td>\n",
              "      <td>2.0</td>\n",
              "      <td>Darren W. Woods</td>\n",
              "      <td>https://www.exxonmobil.com</td>\n",
              "      <td>XOM</td>\n",
              "      <td>177923</td>\n",
              "    </tr>\n",
              "  </tbody>\n",
              "</table>\n",
              "</div>"
            ],
            "text/plain": [
              "             rank  rank_change   revenue   profit  num. of employees  \\\n",
              "company                                                                \n",
              "Walmart         1          0.0  523964.0  14881.0            2200000   \n",
              "Amazon          2          3.0  280522.0  11588.0             798000   \n",
              "Exxon Mobil     3         -1.0  264938.0  14340.0              74900   \n",
              "\n",
              "                sector         city state newcomer ceo_founder ceo_woman  \\\n",
              "company                                                                    \n",
              "Walmart      Retailing  Bentonville    AR       no          no        no   \n",
              "Amazon       Retailing      Seattle    WA       no         yes        no   \n",
              "Exxon Mobil     Energy       Irving    TX       no          no        no   \n",
              "\n",
              "            profitable prev_rank                  CEO  \\\n",
              "company                                                 \n",
              "Walmart            yes       1.0  C. Douglas McMillon   \n",
              "Amazon             yes       5.0     Jeffrey P. Bezos   \n",
              "Exxon Mobil        yes       2.0      Darren W. Woods   \n",
              "\n",
              "                                   Website Ticker Market Cap  \n",
              "company                                                       \n",
              "Walmart      https://www.stock.walmart.com    WMT     411690  \n",
              "Amazon              https://www.amazon.com   AMZN    1637405  \n",
              "Exxon Mobil     https://www.exxonmobil.com    XOM     177923  "
            ]
          },
          "execution_count": 24,
          "metadata": {},
          "output_type": "execute_result"
        }
      ],
      "source": [
        "f1000.head(3)"
      ]
    },
    {
      "cell_type": "markdown",
      "metadata": {
        "id": "8JifR8XFqMK8"
      },
      "source": [
        "### Select data using those labels\n",
        "\n",
        "Because the axes in pandas have labels, I can select data using those labels — unlike in NumPy, where I needed to know the exact index location. To do this, I can use the `DataFrame.loc[]` attribute. The syntax for `DataFrame.loc[]` is:\n",
        "\n",
        "`df.loc[row_label, column_label]`"
      ]
    },
    {
      "cell_type": "markdown",
      "metadata": {
        "id": "RnCkyLYOyh2f"
      },
      "source": [
        "#### Select Single Column"
      ]
    },
    {
      "cell_type": "code",
      "execution_count": 25,
      "metadata": {
        "id": "9q7mB1M8q6Rb"
      },
      "outputs": [
        {
          "name": "stdout",
          "output_type": "stream",
          "text": [
            "company\n",
            "Walmart                      14881.0\n",
            "Amazon                       11588.0\n",
            "Exxon Mobil                  14340.0\n",
            "Apple                        55256.0\n",
            "CVS Health                    6634.0\n",
            "                              ...   \n",
            "Mr. Cooper Group               274.0\n",
            "Herc Holdings                   47.5\n",
            "Healthpeak Properties           45.5\n",
            "SPX FLOW                       -95.1\n",
            "Liberty Oilfield Services       39.0\n",
            "Name: profit, Length: 1000, dtype: float64\n",
            "<class 'pandas.core.frame.DataFrame'>\n",
            "<class 'pandas.core.series.Series'>\n"
          ]
        }
      ],
      "source": [
        "companies = f1000.loc[:,'profit']\n",
        "print(companies)\n",
        "print(type(f1000))\n",
        "print(type(companies))"
      ]
    },
    {
      "cell_type": "markdown",
      "metadata": {
        "id": "kg4b5tHIuEgf"
      },
      "source": [
        "#### Series object"
      ]
    },
    {
      "cell_type": "code",
      "execution_count": 26,
      "metadata": {
        "id": "b4uA2pLCuuwF"
      },
      "outputs": [
        {
          "name": "stdout",
          "output_type": "stream",
          "text": [
            "company\n",
            "Walmart                      523964.0\n",
            "Amazon                       280522.0\n",
            "Exxon Mobil                  264938.0\n",
            "Apple                        260174.0\n",
            "CVS Health                   256776.0\n",
            "                               ...   \n",
            "Mr. Cooper Group               2007.0\n",
            "Herc Holdings                  1999.0\n",
            "Healthpeak Properties          1997.4\n",
            "SPX FLOW                       1996.3\n",
            "Liberty Oilfield Services      1990.3\n",
            "Name: revenue, Length: 1000, dtype: float64\n",
            "260174.0\n"
          ]
        }
      ],
      "source": [
        "#print(f1000['revenue'])\n",
        "print(f1000.loc[:,'revenue'])\n",
        "\n",
        "print(f1000.loc['Apple','revenue'])"
      ]
    },
    {
      "cell_type": "markdown",
      "metadata": {
        "id": "gOR0cK29w3pt"
      },
      "source": [
        "#### Select multiple columns\n",
        "* List of columns\n",
        "* Slice of columns"
      ]
    },
    {
      "cell_type": "code",
      "execution_count": 27,
      "metadata": {
        "id": "hgYAmgO2vwSL"
      },
      "outputs": [
        {
          "data": {
            "text/html": [
              "<div>\n",
              "<style scoped>\n",
              "    .dataframe tbody tr th:only-of-type {\n",
              "        vertical-align: middle;\n",
              "    }\n",
              "\n",
              "    .dataframe tbody tr th {\n",
              "        vertical-align: top;\n",
              "    }\n",
              "\n",
              "    .dataframe thead th {\n",
              "        text-align: right;\n",
              "    }\n",
              "</style>\n",
              "<table border=\"1\" class=\"dataframe\">\n",
              "  <thead>\n",
              "    <tr style=\"text-align: right;\">\n",
              "      <th></th>\n",
              "      <th>rank</th>\n",
              "      <th>revenue</th>\n",
              "    </tr>\n",
              "    <tr>\n",
              "      <th>company</th>\n",
              "      <th></th>\n",
              "      <th></th>\n",
              "    </tr>\n",
              "  </thead>\n",
              "  <tbody>\n",
              "    <tr>\n",
              "      <th>Walmart</th>\n",
              "      <td>1</td>\n",
              "      <td>523964.0</td>\n",
              "    </tr>\n",
              "    <tr>\n",
              "      <th>Amazon</th>\n",
              "      <td>2</td>\n",
              "      <td>280522.0</td>\n",
              "    </tr>\n",
              "    <tr>\n",
              "      <th>Exxon Mobil</th>\n",
              "      <td>3</td>\n",
              "      <td>264938.0</td>\n",
              "    </tr>\n",
              "    <tr>\n",
              "      <th>Apple</th>\n",
              "      <td>4</td>\n",
              "      <td>260174.0</td>\n",
              "    </tr>\n",
              "    <tr>\n",
              "      <th>CVS Health</th>\n",
              "      <td>5</td>\n",
              "      <td>256776.0</td>\n",
              "    </tr>\n",
              "    <tr>\n",
              "      <th>...</th>\n",
              "      <td>...</td>\n",
              "      <td>...</td>\n",
              "    </tr>\n",
              "    <tr>\n",
              "      <th>Mr. Cooper Group</th>\n",
              "      <td>996</td>\n",
              "      <td>2007.0</td>\n",
              "    </tr>\n",
              "    <tr>\n",
              "      <th>Herc Holdings</th>\n",
              "      <td>997</td>\n",
              "      <td>1999.0</td>\n",
              "    </tr>\n",
              "    <tr>\n",
              "      <th>Healthpeak Properties</th>\n",
              "      <td>998</td>\n",
              "      <td>1997.4</td>\n",
              "    </tr>\n",
              "    <tr>\n",
              "      <th>SPX FLOW</th>\n",
              "      <td>999</td>\n",
              "      <td>1996.3</td>\n",
              "    </tr>\n",
              "    <tr>\n",
              "      <th>Liberty Oilfield Services</th>\n",
              "      <td>1000</td>\n",
              "      <td>1990.3</td>\n",
              "    </tr>\n",
              "  </tbody>\n",
              "</table>\n",
              "<p>1000 rows × 2 columns</p>\n",
              "</div>"
            ],
            "text/plain": [
              "                           rank   revenue\n",
              "company                                  \n",
              "Walmart                       1  523964.0\n",
              "Amazon                        2  280522.0\n",
              "Exxon Mobil                   3  264938.0\n",
              "Apple                         4  260174.0\n",
              "CVS Health                    5  256776.0\n",
              "...                         ...       ...\n",
              "Mr. Cooper Group            996    2007.0\n",
              "Herc Holdings               997    1999.0\n",
              "Healthpeak Properties       998    1997.4\n",
              "SPX FLOW                    999    1996.3\n",
              "Liberty Oilfield Services  1000    1990.3\n",
              "\n",
              "[1000 rows x 2 columns]"
            ]
          },
          "execution_count": 27,
          "metadata": {},
          "output_type": "execute_result"
        }
      ],
      "source": [
        "#f1000.loc[:,['rank','revenue', 'sector']]\n",
        "f1000[['rank','revenue']]\n",
        "\n",
        "#f1000.loc[:,'rank':'sector']"
      ]
    },
    {
      "cell_type": "markdown",
      "metadata": {
        "id": "Gy0mffWj0qG2"
      },
      "source": [
        "#### Select rows by labels\n"
      ]
    },
    {
      "cell_type": "code",
      "execution_count": 28,
      "metadata": {
        "id": "jO_KztIcxLEK"
      },
      "outputs": [
        {
          "data": {
            "text/html": [
              "<div>\n",
              "<style scoped>\n",
              "    .dataframe tbody tr th:only-of-type {\n",
              "        vertical-align: middle;\n",
              "    }\n",
              "\n",
              "    .dataframe tbody tr th {\n",
              "        vertical-align: top;\n",
              "    }\n",
              "\n",
              "    .dataframe thead th {\n",
              "        text-align: right;\n",
              "    }\n",
              "</style>\n",
              "<table border=\"1\" class=\"dataframe\">\n",
              "  <thead>\n",
              "    <tr style=\"text-align: right;\">\n",
              "      <th></th>\n",
              "      <th>rank</th>\n",
              "      <th>rank_change</th>\n",
              "      <th>revenue</th>\n",
              "      <th>profit</th>\n",
              "      <th>num. of employees</th>\n",
              "      <th>sector</th>\n",
              "      <th>city</th>\n",
              "      <th>state</th>\n",
              "      <th>newcomer</th>\n",
              "      <th>ceo_founder</th>\n",
              "      <th>ceo_woman</th>\n",
              "      <th>profitable</th>\n",
              "      <th>prev_rank</th>\n",
              "      <th>CEO</th>\n",
              "      <th>Website</th>\n",
              "      <th>Ticker</th>\n",
              "      <th>Market Cap</th>\n",
              "    </tr>\n",
              "    <tr>\n",
              "      <th>company</th>\n",
              "      <th></th>\n",
              "      <th></th>\n",
              "      <th></th>\n",
              "      <th></th>\n",
              "      <th></th>\n",
              "      <th></th>\n",
              "      <th></th>\n",
              "      <th></th>\n",
              "      <th></th>\n",
              "      <th></th>\n",
              "      <th></th>\n",
              "      <th></th>\n",
              "      <th></th>\n",
              "      <th></th>\n",
              "      <th></th>\n",
              "      <th></th>\n",
              "      <th></th>\n",
              "    </tr>\n",
              "  </thead>\n",
              "  <tbody>\n",
              "    <tr>\n",
              "      <th>Amazon</th>\n",
              "      <td>2</td>\n",
              "      <td>3.0</td>\n",
              "      <td>280522.0</td>\n",
              "      <td>11588.0</td>\n",
              "      <td>798000</td>\n",
              "      <td>Retailing</td>\n",
              "      <td>Seattle</td>\n",
              "      <td>WA</td>\n",
              "      <td>no</td>\n",
              "      <td>yes</td>\n",
              "      <td>no</td>\n",
              "      <td>yes</td>\n",
              "      <td>5.0</td>\n",
              "      <td>Jeffrey P. Bezos</td>\n",
              "      <td>https://www.amazon.com</td>\n",
              "      <td>AMZN</td>\n",
              "      <td>1637405</td>\n",
              "    </tr>\n",
              "    <tr>\n",
              "      <th>Apple</th>\n",
              "      <td>4</td>\n",
              "      <td>-1.0</td>\n",
              "      <td>260174.0</td>\n",
              "      <td>55256.0</td>\n",
              "      <td>137000</td>\n",
              "      <td>Technology</td>\n",
              "      <td>Cupertino</td>\n",
              "      <td>CA</td>\n",
              "      <td>no</td>\n",
              "      <td>no</td>\n",
              "      <td>no</td>\n",
              "      <td>yes</td>\n",
              "      <td>3.0</td>\n",
              "      <td>Timothy D. Cook</td>\n",
              "      <td>https://www.apple.com</td>\n",
              "      <td>AAPL</td>\n",
              "      <td>2221176</td>\n",
              "    </tr>\n",
              "  </tbody>\n",
              "</table>\n",
              "</div>"
            ],
            "text/plain": [
              "         rank  rank_change   revenue   profit  num. of employees      sector  \\\n",
              "company                                                                        \n",
              "Amazon      2          3.0  280522.0  11588.0             798000   Retailing   \n",
              "Apple       4         -1.0  260174.0  55256.0             137000  Technology   \n",
              "\n",
              "              city state newcomer ceo_founder ceo_woman profitable prev_rank  \\\n",
              "company                                                                        \n",
              "Amazon     Seattle    WA       no         yes        no        yes       5.0   \n",
              "Apple    Cupertino    CA       no          no        no        yes       3.0   \n",
              "\n",
              "                      CEO                 Website Ticker Market Cap  \n",
              "company                                                              \n",
              "Amazon   Jeffrey P. Bezos  https://www.amazon.com   AMZN    1637405  \n",
              "Apple     Timothy D. Cook   https://www.apple.com   AAPL    2221176  "
            ]
          },
          "execution_count": 28,
          "metadata": {},
          "output_type": "execute_result"
        }
      ],
      "source": [
        "#f1000.loc['Walmart']\n",
        "f1000.loc[['Amazon', 'Apple']]\n",
        "#f1000.loc['Amazon':'Apple']"
      ]
    },
    {
      "cell_type": "markdown",
      "metadata": {
        "id": "sjrvd78N2Awa"
      },
      "source": [
        "### Series.value_counts() method\n",
        "`Series.value_counts()` method. This method displays each unique non-null value in a column and their counts in order."
      ]
    },
    {
      "cell_type": "code",
      "execution_count": 29,
      "metadata": {
        "id": "JCjP06kg06Zh"
      },
      "outputs": [
        {
          "name": "stdout",
          "output_type": "stream",
          "text": [
            "Food & Drug Stores                10\n",
            "Telecommunications                11\n",
            "Apparel                           16\n",
            "Motor Vehicles & Parts            22\n",
            "Aerospace & Defense               22\n",
            "Media                             25\n",
            "Household Products                26\n",
            "Hotels, Restaurants & Leisure     27\n",
            "Chemicals                         27\n",
            "Engineering & Construction        30\n",
            "Wholesalers                       35\n",
            "Food, Beverages & Tobacco         37\n",
            "Transportation                    38\n",
            "Materials                         46\n",
            "Industrials                       50\n",
            "Business Services                 52\n",
            "Health Care                       71\n",
            "Retailing                         75\n",
            "Technology                       109\n",
            "Energy                           109\n",
            "Financials                       162\n",
            "Name: sector, dtype: int64\n"
          ]
        }
      ],
      "source": [
        "sector_value_counts = f1000['sector'].value_counts(ascending=True)\n",
        "print(sector_value_counts)"
      ]
    },
    {
      "cell_type": "code",
      "execution_count": 30,
      "metadata": {
        "id": "xcqfFwTx6f6H"
      },
      "outputs": [
        {
          "data": {
            "text/plain": [
              "109"
            ]
          },
          "execution_count": 30,
          "metadata": {},
          "output_type": "execute_result"
        }
      ],
      "source": [
        "f1000['sector'].value_counts().loc['Technology']"
      ]
    },
    {
      "cell_type": "markdown",
      "metadata": {
        "id": "bdFCk3r82wKa"
      },
      "source": []
    },
    {
      "cell_type": "code",
      "execution_count": 40,
      "metadata": {
        "id": "McphvMhz4aZC"
      },
      "outputs": [
        {
          "data": {
            "text/plain": [
              "count    1000.000000\n",
              "mean        0.426000\n",
              "std        22.424169\n",
              "min      -186.000000\n",
              "25%         0.000000\n",
              "50%         0.000000\n",
              "75%         0.000000\n",
              "max       224.000000\n",
              "Name: rank_change, dtype: float64"
            ]
          },
          "execution_count": 40,
          "metadata": {},
          "output_type": "execute_result"
        }
      ],
      "source": [
        "# find out the biggest increase and biggest decrease in rank\n",
        "#f1000['rank_change'].max()\n",
        "#f1000['rank_change'].min()\n",
        "f1000['rank_change'].describe()"
      ]
    },
    {
      "cell_type": "code",
      "execution_count": 32,
      "metadata": {
        "colab": {
          "base_uri": "https://localhost:8080/"
        },
        "id": "fGHiPXHLihGr",
        "outputId": "b23c07c1-55ae-4471-90e7-d86b4adec3e3"
      },
      "outputs": [
        {
          "data": {
            "text/plain": [
              " 0.0     544\n",
              "-1.0      22\n",
              "-2.0      18\n",
              " 2.0      16\n",
              " 4.0      15\n",
              "        ... \n",
              "-30.0      1\n",
              "-43.0      1\n",
              " 98.0      1\n",
              " 86.0      1\n",
              "-87.0      1\n",
              "Name: rank_change, Length: 118, dtype: int64"
            ]
          },
          "execution_count": 32,
          "metadata": {},
          "output_type": "execute_result"
        }
      ],
      "source": [
        "f1000['rank_change'].value_counts()"
      ]
    },
    {
      "attachments": {},
      "cell_type": "markdown",
      "metadata": {
        "id": "0q9E5yo57_Q9"
      },
      "source": [
        "*Example*:\n",
        "\n",
        "List out the numbers of companies in the Fortune 1000 of the top 3 states"
      ]
    },
    {
      "cell_type": "code",
      "execution_count": 33,
      "metadata": {
        "colab": {
          "base_uri": "https://localhost:8080/"
        },
        "id": "avX3qIfy6Sx4",
        "outputId": "838553c5-e3fc-42c7-d2e4-de17ebfbcaff"
      },
      "outputs": [
        {
          "name": "stdout",
          "output_type": "stream",
          "text": [
            "CA    121\n",
            "TX     95\n",
            "NY     89\n",
            "Name: state, dtype: int64\n"
          ]
        }
      ],
      "source": [
        "top_3_states = f1000['state'].value_counts().head(3)\n",
        "print(top_3_states)"
      ]
    },
    {
      "attachments": {},
      "cell_type": "markdown",
      "metadata": {
        "id": "V6ylgJL--Vw_"
      },
      "source": [
        "*Example:*\n",
        "\n",
        "find the company that employs the most people in California in the dataset.\n",
        "\n",
        "I can use the `DataFrame.sort_values()` method to sort the rows on the employees column"
      ]
    },
    {
      "cell_type": "code",
      "execution_count": 34,
      "metadata": {
        "colab": {
          "base_uri": "https://localhost:8080/",
          "height": 182
        },
        "id": "QfpVY5nk8nlv",
        "outputId": "7b0278db-8fb3-4750-8765-364e19b68246"
      },
      "outputs": [
        {
          "data": {
            "text/html": [
              "<div>\n",
              "<style scoped>\n",
              "    .dataframe tbody tr th:only-of-type {\n",
              "        vertical-align: middle;\n",
              "    }\n",
              "\n",
              "    .dataframe tbody tr th {\n",
              "        vertical-align: top;\n",
              "    }\n",
              "\n",
              "    .dataframe thead th {\n",
              "        text-align: right;\n",
              "    }\n",
              "</style>\n",
              "<table border=\"1\" class=\"dataframe\">\n",
              "  <thead>\n",
              "    <tr style=\"text-align: right;\">\n",
              "      <th></th>\n",
              "      <th>rank</th>\n",
              "      <th>rank_change</th>\n",
              "      <th>revenue</th>\n",
              "      <th>profit</th>\n",
              "      <th>num. of employees</th>\n",
              "      <th>sector</th>\n",
              "      <th>city</th>\n",
              "      <th>state</th>\n",
              "      <th>newcomer</th>\n",
              "      <th>ceo_founder</th>\n",
              "      <th>ceo_woman</th>\n",
              "      <th>profitable</th>\n",
              "      <th>prev_rank</th>\n",
              "      <th>CEO</th>\n",
              "      <th>Website</th>\n",
              "      <th>Ticker</th>\n",
              "      <th>Market Cap</th>\n",
              "    </tr>\n",
              "    <tr>\n",
              "      <th>company</th>\n",
              "      <th></th>\n",
              "      <th></th>\n",
              "      <th></th>\n",
              "      <th></th>\n",
              "      <th></th>\n",
              "      <th></th>\n",
              "      <th></th>\n",
              "      <th></th>\n",
              "      <th></th>\n",
              "      <th></th>\n",
              "      <th></th>\n",
              "      <th></th>\n",
              "      <th></th>\n",
              "      <th></th>\n",
              "      <th></th>\n",
              "      <th></th>\n",
              "      <th></th>\n",
              "    </tr>\n",
              "  </thead>\n",
              "  <tbody>\n",
              "    <tr>\n",
              "      <th>Wells Fargo</th>\n",
              "      <td>30</td>\n",
              "      <td>-1.0</td>\n",
              "      <td>103915.0</td>\n",
              "      <td>19549.0</td>\n",
              "      <td>259800</td>\n",
              "      <td>Financials</td>\n",
              "      <td>San Francisco</td>\n",
              "      <td>CA</td>\n",
              "      <td>no</td>\n",
              "      <td>no</td>\n",
              "      <td>no</td>\n",
              "      <td>yes</td>\n",
              "      <td>29.0</td>\n",
              "      <td>Charles W. Scharf</td>\n",
              "      <td>https://www.wellsfargo.com</td>\n",
              "      <td>WFC</td>\n",
              "      <td>99941</td>\n",
              "    </tr>\n",
              "  </tbody>\n",
              "</table>\n",
              "</div>"
            ],
            "text/plain": [
              "             rank  rank_change   revenue   profit  num. of employees  \\\n",
              "company                                                                \n",
              "Wells Fargo    30         -1.0  103915.0  19549.0             259800   \n",
              "\n",
              "                 sector           city state newcomer ceo_founder ceo_woman  \\\n",
              "company                                                                       \n",
              "Wells Fargo  Financials  San Francisco    CA       no          no        no   \n",
              "\n",
              "            profitable prev_rank                CEO  \\\n",
              "company                                               \n",
              "Wells Fargo        yes      29.0  Charles W. Scharf   \n",
              "\n",
              "                                Website Ticker Market Cap  \n",
              "company                                                    \n",
              "Wells Fargo  https://www.wellsfargo.com    WFC      99941  "
            ]
          },
          "execution_count": 34,
          "metadata": {},
          "output_type": "execute_result"
        }
      ],
      "source": [
        "f1000[f1000['state']=='CA'].sort_values('num. of employees',ascending=False).head(1)"
      ]
    },
    {
      "cell_type": "markdown",
      "metadata": {
        "id": "8Qw-8P76Pggl"
      },
      "source": [
        "*Exercise:*\n",
        "\n",
        "find the unique list of states in the dataset\n",
        "\n",
        "To identify the unique states, I can use the `Series.unique()` method. This method returns an array of unique values from any series. \n"
      ]
    },
    {
      "cell_type": "code",
      "execution_count": 35,
      "metadata": {
        "colab": {
          "base_uri": "https://localhost:8080/"
        },
        "id": "cahbt41IPJpj",
        "outputId": "0838c978-e47f-40a3-e717-b6e8cd731a6d"
      },
      "outputs": [
        {
          "name": "stdout",
          "output_type": "stream",
          "text": [
            "['AR' 'WA' 'TX' 'CA' 'RI' 'NE' 'MN' 'PA' 'MI' 'CT' 'OH' 'NY' 'IL' 'DC'\n",
            " 'NC' 'GA' 'IN' 'MA' 'NJ' 'VA' 'MO' 'TN' 'KY' 'ID' 'MD' 'OR' 'FL' 'WI'\n",
            " 'CO' 'OK' 'LA' 'DE' 'AZ' 'IA' 'NV' 'KS' 'AL' 'SC' 'ND' 'NH' 'MS' 'PR'\n",
            " 'UT' 'HI' 'VT' 'ME']\n"
          ]
        }
      ],
      "source": [
        "states = f1000['state'].unique()\n",
        "print(states)"
      ]
    },
    {
      "attachments": {},
      "cell_type": "markdown",
      "metadata": {
        "id": "XBy9FELsQRi-"
      },
      "source": [
        "***Demonstration:***\n",
        "\n",
        "I'm going to produce the following dictionary of the top employer in each state:\n",
        "\n",
        "1. create an empty dictionary, `top_employer_by_state` to store the results of the exercise.\n",
        "\n",
        "2. Use the `Series.unique()` method to create an array of unique values from the state column\n",
        "\n",
        "3. Use a for loop to iterate over the array unique states. In each iteration:\n",
        "* Select only the rows that have a state name equal to the current iteration.\n",
        "* Use `DataFrame.sort_values()` to sort those rows by the `num. of employees` column in descending order.\n",
        "* Select the first row from the sorted dataframe and convert the Dataframe into a series using `DataFrame.squeeze()`\n",
        "* Extract the company name from the index label company by `Series.name`.\n",
        "* Assign the results to the top_employer_by_state dictionary, using the state name as the key, and the company name as the value."
      ]
    },
    {
      "cell_type": "code",
      "execution_count": 2,
      "metadata": {
        "id": "EeE8SEZzQNcv"
      },
      "outputs": [],
      "source": [
        "top_exmployer_by_state = {}\n",
        "states = f1000['state'].unique()\n",
        "\n",
        "for state in states:\n",
        "  selected_companies = f1000[f1000['state']==state]\n",
        "  top_exmployer_by_state[state] = selected_companies.sort_values('num. of employees', ascending=False).head(1).squeeze().name\n",
        "  "
      ]
    },
    {
      "cell_type": "code",
      "execution_count": 37,
      "metadata": {
        "colab": {
          "base_uri": "https://localhost:8080/"
        },
        "id": "He-LbVZBYeEH",
        "outputId": "beae849b-4548-4c60-f2ef-3dd1790ac4d3"
      },
      "outputs": [
        {
          "name": "stdout",
          "output_type": "stream",
          "text": [
            "AR  :  Walmart\n",
            "WA  :  Amazon\n",
            "TX  :  Yum China Holdings\n",
            "CA  :  Wells Fargo\n",
            "RI  :  CVS Health\n",
            "NE  :  Berkshire Hathaway\n",
            "MN  :  Target\n",
            "PA  :  Aramark\n",
            "MI  :  Ford Motor\n",
            "CT  :  XPO Logistics\n",
            "OH  :  Kroger\n",
            "NY  :  IBM\n",
            "IL  :  Walgreens Boots Alliance\n",
            "DC  :  Danaher\n",
            "NC  :  Lowe&#8217;s\n",
            "GA  :  Home Depot\n",
            "IN  :  Anthem\n",
            "MA  :  TJX\n",
            "NJ  :  Cognizant Technology Solutions\n",
            "VA  :  Hilton Worldwide Holdings\n",
            "MO  :  Emerson Electric\n",
            "TN  :  FedEx\n",
            "KY  :  Humana\n",
            "ID  :  Albertsons\n",
            "MD  :  Marriott International\n",
            "OR  :  Nike\n",
            "FL  :  Publix Super Markets\n",
            "WI  :  Kohl&#8217;s\n",
            "CO  :  VF\n",
            "OK  :  Helmerich & Payne\n",
            "LA  :  Lumen Technologies\n",
            "DE  :  DuPont\n",
            "AZ  :  Republic Services\n",
            "IA  :  Casey&#8217;s General Stores\n",
            "NV  :  MGM Resorts International\n",
            "KS  :  Yellow\n",
            "AL  :  Encompass Health\n",
            "SC  :  Sonoco Products\n",
            "ND  :  MDU Resources Group\n",
            "NH  :  PC Connection\n",
            "MS  :  Sanderson Farms\n",
            "PR  :  Popular\n",
            "UT  :  Nu Skin Enterprises\n",
            "HI  :  Hawaiian Holdings\n",
            "VT  :  NLV Financial\n",
            "ME  :  IDEXX Laboratories\n"
          ]
        }
      ],
      "source": [
        "for key in top_exmployer_by_state:\n",
        "  print(key, ' : ', top_exmployer_by_state[key])"
      ]
    },
    {
      "cell_type": "markdown",
      "metadata": {
        "id": "HVmFaFJG8zzA"
      },
      "source": [
        "## Reference\n",
        "\n",
        "[pandas API reference](https://pandas.pydata.org/docs/reference/index.html)\n",
        "\n",
        "[pandas vs. NumPy](https://www.javatpoint.com/pandas-vs-numpy#:~:text=The%20Pandas%20module%20mainly%20works,works%20with%20the%20numerical%20data.&text=NumPy%20library%20provides%20objects%20for,memory%20as%20compared%20to%20Pandas.)"
      ]
    },
    {
      "attachments": {},
      "cell_type": "markdown",
      "metadata": {},
      "source": [
        "## CollegeBoard MCQ"
      ]
    },
    {
      "cell_type": "code",
      "execution_count": 3,
      "metadata": {},
      "outputs": [
        {
          "data": {
            "image/png": "[encoded data removed]",
            "text/plain": [
              "<IPython.core.display.Image object>"
            ]
          },
          "metadata": {},
          "output_type": "display_data"
        }
      ],
      "source": [
        "from IPython.display import Image, display\n",
        "from pathlib import Path  # https://medium.com/@ageitgey/python-3-quick-tip-the-easy-way-to-deal-with-file-paths-on-windows-mac-and-linux-11a072b58d5f\n",
        "\n",
        "# prepares a series of images\n",
        "def image_data(path=Path(\"images/\"), images=None):  # path of static images is defaulted\n",
        "    if images is None:  # default image\n",
        "        images = [\n",
        "            {'source': \"College Board\", 'label': \"Unit 2.2 Question\", 'file': \"2_3MCQ.png\"}\n",
        "        ]\n",
        "    for image in images:\n",
        "        # File to open\n",
        "        image['filename'] = path / image['file']  # file with path\n",
        "    return images\n",
        "\n",
        "def image_display(images):\n",
        "    for image in images:  \n",
        "        display(Image(filename=image['filename']))\n",
        "\n",
        "\n",
        "# Run this as standalone tester to see sample data printed in Jupyter terminal\n",
        "if __name__ == \"__main__\":\n",
        "    # print parameter supplied image\n",
        "\n",
        "    default_images = image_data()\n",
        "    image_display(default_images)"
      ]
    }
  ],
  "metadata": {
    "colab": {
      "name": "Class8_Pandas_2.ipynb",
      "provenance": []
    },
    "kernelspec": {
      "display_name": "Python 3",
      "language": "python",
      "name": "python3"
    },
    "language_info": {
      "codemirror_mode": {
        "name": "ipython",
        "version": 3
      },
      "file_extension": ".py",
      "mimetype": "text/x-python",
      "name": "python",
      "nbconvert_exporter": "python",
      "pygments_lexer": "ipython3",
      "version": "3.9.12"
    },
    "vscode": {
      "interpreter": {
        "hash": "61a57a4b5406d2de388e2f91097d4e4bcd7d5f4a46f53a795aa28a02eed27fc5"
      }
    }
  },
  "nbformat": 4,
  "nbformat_minor": 0
}
