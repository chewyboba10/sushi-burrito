{
 "cells": [
  {
   "cell_type": "markdown",
   "metadata": {},
   "source": [
    "# JavaScript Usage\n",
    "\n",
    "> Testing usage of JavaScript using Jupyter Notebooks\n",
    "\n",
    "- title: JavaScript Usage\n",
    "- permalink: /frontend/javascript\n",
    "- layout: default\n",
    "- categories: [Week 5]"
   ]
  },
  {
   "cell_type": "markdown",
   "metadata": {},
   "source": [
    "{% include nav_frontend.html %}"
   ]
  },
  {
   "cell_type": "markdown",
   "metadata": {},
   "source": [
    "# Solving Physics Problems\n",
    "\n",
    "> Lets see if we can use math in JavaScript to Solve for physics problems\n",
    "\n",
    "A car moves with a constant acceleration of 2.00 m/s² along a straight line from point A to point B starting from a speed of 5.00 m/s, taking 10 seconds. What distance does the car travel assuming the place where the car starts is the point of reference?"
   ]
  },
  {
   "cell_type": "code",
   "execution_count": 8,
   "metadata": {},
   "outputs": [
    {
     "name": "stdout",
     "output_type": "stream",
     "text": [
      "The car travels 150 meters\n"
     ]
    }
   ],
   "source": [
    "\n",
    "\n",
    "var t = 10 // Variable t represents time\n",
    "var a = 2 // Variable a represents acceleration\n",
    "var vᵢ = 5 // Variable v represents the initial velocity\n",
    "var Δx = (vᵢ * t) + (0.5 * a * Math.pow(t, 2)) // Kinematic Equation for position as a function of time\n",
    "\n",
    "function logIt() {\n",
    "    console.log(\"The car travels\", Δx, \"meters\");\n",
    "}\n",
    "\n",
    "logIt()"
   ]
  }
 ],
 "metadata": {
  "kernelspec": {
   "display_name": "JavaScript (Node.js)",
   "language": "javascript",
   "name": "javascript"
  },
  "language_info": {
   "file_extension": ".js",
   "mimetype": "application/javascript",
   "name": "javascript",
   "version": "6.11.2"
  },
  "orig_nbformat": 4
 },
 "nbformat": 4,
 "nbformat_minor": 2
}
