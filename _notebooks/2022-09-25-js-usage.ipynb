{
 "cells": [
  {
   "cell_type": "markdown",
   "metadata": {},
   "source": [
    "# HTML Fragments and JavaScript Data Table\n",
    "\n",
    "> Creating a table in Jupyter Notebooks using JavaScript\n",
    "\n",
    "- title: HTML Fragments and JavaScript Data Table\n",
    "- permalink: /frontend/table\n",
    "- layout: default\n",
    "- badges: true\n",
    "- categories: [Week 5]"
   ]
  },
  {
   "cell_type": "markdown",
   "metadata": {},
   "source": [
    "{% include nav_frontend.html %}"
   ]
  },
  {
   "cell_type": "markdown",
   "metadata": {},
   "source": [
    "## Testing\n",
    "\n",
    "Here is my usage of a Jupyter JavaScript kernel:"
   ]
  },
  {
   "cell_type": "code",
   "execution_count": 87,
   "metadata": {},
   "outputs": [
    {
     "data": {
      "text/html": [
       "<div style='display:inline-block;border: 2px solid grey;box-shadow: 0.8em 0.4em 0.4em grey;'><table><tr><th><mark>Name</mark></th><th><mark>GitHub ID</mark></th><th><mark>Class Of</mark></th><th><mark>Role</mark></th></tr><tr><td>Shaurya Goel</td><td>STG-7</td><td>2025</td><td>Scrum Master</td><tr><tr><td>Evan Aparri</td><td>chewyboba10</td><td>2024</td><td>Dev Op</td><tr><tr><td>Haseeb Beg</td><td>h4seeb-cmd</td><td>2024</td><td>Frontend Dev</td><tr><tr><td>Tirth Thakkar</td><td>Tirth-Thakkar</td><td>2024</td><td>Frontend Dev</td><tr><tr><td>Alex Lu</td><td>YLu-1258</td><td>2024</td><td>Backend Dev</td><tr></table></div>"
      ]
     },
     "execution_count": 87,
     "metadata": {},
     "output_type": "execute_result"
    }
   ],
   "source": [
    "function Person(name, ghID, classOf) {\n",
    "    this.name = name;\n",
    "    this.ghID = ghID;\n",
    "    this.classOf = classOf;\n",
    "    this.role = \"\";\n",
    "  }\n",
    "  \n",
    "  Person.prototype.setRole = function(role) {\n",
    "    this.role = role;\n",
    "  }\n",
    "  \n",
    "  Person.prototype.toJSON = function() {\n",
    "    const obj = {name: this.name, ghID: this.ghID, classOf: this.classOf, role: this.role};\n",
    "    const json = JSON.stringify(obj);\n",
    "    return json;\n",
    "  }\n",
    "  \n",
    "  var ScrumMaster = new Person(\"Shaurya Goel\", \"STG-7\", 2025);\n",
    "  ScrumMaster.setRole(\"Scrum Master\");\n",
    "  \n",
    "  var DevOp = new Person(\"Evan Aparri\", \"chewyboba10\", 2024);\n",
    "  \n",
    "  var FrontendDevs = [ \n",
    "    new Person(\"Haseeb Beg\", \"h4seeb-cmd\", 2024),\n",
    "    new Person(\"Tirth Thakkar\", \"Tirth-Thakkar\", 2024),\n",
    "  \n",
    "  ];\n",
    "  \n",
    "  var BackendDev = new Person(\"Alex Lu\", \"YLu-1258\", 2024);\n",
    "  \n",
    "  function Group(DevOp, BackendDevs, ScrumMaster, FrontendDevs){\n",
    "    ScrumMaster.setRole(\"Scrum Master\");\n",
    "    this.ScrumMaster = ScrumMaster;\n",
    "    this.group = [ScrumMaster];\n",
    "  \n",
    "    this.DevOp = DevOp;\n",
    "    DevOp.setRole(\"Dev Op\");\n",
    "    this.group.push(DevOp);\n",
    "  \n",
    "    this.FrontendDevs = FrontendDevs;\n",
    "    this.FrontendDevs.forEach(FrontendDev => { FrontendDev.setRole(\"Frontend Dev\"); this.group.push(FrontendDev); });\n",
    "    \n",
    "    this.BackendDev = BackendDev;\n",
    "    BackendDev.setRole(\"Backend Dev\"); \n",
    "    this.group.push(BackendDev);\n",
    "  \n",
    "    this.json = [];\n",
    "    this.group.forEach(person => this.json.push(person.toJSON()));\n",
    "  }\n",
    "  \n",
    "  compsci = new Group(DevOp, BackendDev, ScrumMaster, FrontendDevs);\n",
    "  \n",
    "  Group.prototype._toHtml = function() {\n",
    "      var style = (\n",
    "        \"display:inline-block;\" +\n",
    "        \"border: 2px solid grey;\" +\n",
    "        \"box-shadow: 0.8em 0.4em 0.4em grey;\"\n",
    "      );\n",
    "  \n",
    "      var body = \"\";\n",
    "      body += \"<tr>\";\n",
    "      body += \"<th><mark>\" + \"Name\" + \"</mark></th>\";\n",
    "      body += \"<th><mark>\" + \"GitHub ID\" + \"</mark></th>\";\n",
    "      body += \"<th><mark>\" + \"Class Of\" + \"</mark></th>\";\n",
    "      body += \"<th><mark>\" + \"Role\" + \"</mark></th>\";\n",
    "      body += \"</tr>\";\n",
    "  \n",
    "      for (var row of compsci.group) {\n",
    "        body += \"<tr>\";\n",
    "        body += \"<td>\" + row.name + \"</td>\";\n",
    "        body += \"<td>\" + row.ghID + \"</td>\";\n",
    "        body += \"<td>\" + row.classOf + \"</td>\";\n",
    "        body += \"<td>\" + row.role + \"</td>\";\n",
    "        body += \"<tr>\";\n",
    "      }\n",
    "    \n",
    "      return (\n",
    "        \"<div style='\" + style + \"'>\" +\n",
    "          \"<table>\" +\n",
    "            body +\n",
    "          \"</table>\" +\n",
    "        \"</div>\"\n",
    "      );\n",
    "    \n",
    "    };\n",
    "    \n",
    "    $$.html(compsci._toHtml());"
   ]
  }
 ],
 "metadata": {
  "kernelspec": {
   "display_name": "JavaScript (Node.js)",
   "language": "javascript",
   "name": "javascript"
  },
  "language_info": {
   "file_extension": ".js",
   "mimetype": "application/javascript",
   "name": "javascript",
   "version": "6.11.2"
  },
  "orig_nbformat": 4,
  "vscode": {
   "interpreter": {
    "hash": "61a57a4b5406d2de388e2f91097d4e4bcd7d5f4a46f53a795aa28a02eed27fc5"
   }
  }
 },
 "nbformat": 4,
 "nbformat_minor": 2
}
