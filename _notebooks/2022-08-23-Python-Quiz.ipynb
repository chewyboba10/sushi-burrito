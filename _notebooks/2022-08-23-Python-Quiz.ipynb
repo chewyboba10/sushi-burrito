{
 "cells": [
  {
   "cell_type": "markdown",
   "metadata": {},
   "source": [
    "# Python Quiz\n",
    "> Week 1 quiz testing basic knowledge\n",
    "\n",
    "- toc: true \n",
    "- badges: true\n",
    "- comments: true\n",
    "- images: true\n",
    "- categories: [jupyter]\n",
    "- author: Evan Aparri"
   ]
  },
  {
   "cell_type": "markdown",
   "metadata": {},
   "source": [
    "## Original Quiz by Mr. Mortenson\n",
    "\n",
    "Below shows the initial code created by Mr. Mortenson in [Hello to Python](https://nighthawkcoders.github.io/APCSP/collegeboard/python)."
   ]
  },
  {
   "cell_type": "code",
   "execution_count": 2,
   "metadata": {},
   "outputs": [
    {
     "name": "stdout",
     "output_type": "stream",
     "text": [
      "Hello, root running /bin/python3\n",
      "You will be asked 3 questions.\n",
      "Question: Are you ready to take a test?\n",
      "Question: What command is used to include other functions that were previously developed?\n",
      "yes is incorrect!\n",
      "Question: What command is used to evaluate correct or incorrect response in this example?\n",
      "if is correct!\n",
      "Question: Each 'if' command contains an '_________' to determine a true or false condition?\n",
      "expression is correct!\n",
      "root you scored 2/3\n"
     ]
    }
   ],
   "source": [
    "import getpass, sys\n",
    "\n",
    "def question_with_response(prompt):\n",
    "    print(\"Question: \" + prompt)\n",
    "    msg = input()\n",
    "    return msg\n",
    "\n",
    "questions = 3\n",
    "correct = 0\n",
    "\n",
    "print('Hello, ' + getpass.getuser() + \" running \" + sys.executable)\n",
    "print(\"You will be asked \" + str(questions) + \" questions.\")\n",
    "question_with_response(\"Are you ready to take a test?\")\n",
    "\n",
    "rsp = question_with_response(\"What command is used to include other functions that were previously developed?\")\n",
    "if rsp == \"import\":\n",
    "    print(rsp + \" is correct!\")\n",
    "    correct += 1\n",
    "else:\n",
    "    print(rsp + \" is incorrect!\")\n",
    "\n",
    "rsp = question_with_response(\"What command is used to evaluate correct or incorrect response in this example?\")\n",
    "if rsp == \"if\":\n",
    "    print(rsp + \" is correct!\")\n",
    "    correct += 1\n",
    "else:\n",
    "    print(rsp + \" is incorrect!\")\n",
    "\n",
    "rsp = question_with_response(\"Each 'if' command contains an '_________' to determine a true or false condition?\")\n",
    "if rsp == \"expression\":\n",
    "    print(rsp + \" is correct!\")\n",
    "    correct += 1\n",
    "else:\n",
    "    print(rsp + \" is incorrect!\")\n",
    "\n",
    "print(getpass.getuser() + \" you scored \" + str(correct) +\"/\" + str(questions))"
   ]
  },
  {
   "cell_type": "code",
   "execution_count": 1,
   "metadata": {},
   "outputs": [
    {
     "name": "stdout",
     "output_type": "stream",
     "text": [
      "Question: Name the Python output command mentioned in this lesson?\n",
      "Answer: sequence\n",
      "Question: If you see many lines of code in order, what would College Board call it?\n",
      "Answer: sequence\n",
      "Question: Describe a keyword used in Python to define a function?\n",
      "Answer: sequence\n"
     ]
    }
   ],
   "source": [
    "def question_and_answer(prompt):\n",
    "    print(\"Question: \" + prompt)\n",
    "    msg = input()\n",
    "    print(\"Answer: \" + msg)\n",
    "\n",
    "question_and_answer(\"Name the Python output command mentioned in this lesson?\")\n",
    "question_and_answer(\"If you see many lines of code in order, what would College Board call it?\")\n",
    "question_and_answer(\"Describe a keyword used in Python to define a function?\")"
   ]
  },
  {
   "cell_type": "markdown",
   "metadata": {},
   "source": [
    "## Changes Made by Me\n",
    "Compared to my friend [Alex Lu's quiz](https://ylu-1258.github.io/YLu-Blog/jupyter/2022/08/23/alex-quiz.html), this will be very lacking, but I think that this is a good representation of my current abilities."
   ]
  },
  {
   "cell_type": "code",
   "execution_count": 7,
   "metadata": {},
   "outputs": [
    {
     "name": "stdout",
     "output_type": "stream",
     "text": [
      "Hello, chewyboba10 running /bin/python3\n",
      "You will be asked 3 questions.\n",
      "Question: Are you ready to take a test? Answer 'yes' or 'no'\n",
      "too bad\n",
      "Question: What command is used to include other functions that were previously developed?\n",
      "skipping question\n",
      "Question: What command is used to evaluate correct or incorrect response in this example?\n",
      "if is correct!\n",
      "Question: Each 'if' command contains an '_________' to determine a true or false condition?\n",
      "expression is correct!\n",
      "chewyboba10 you scored 2/3, with 0 skipped questions\n"
     ]
    }
   ],
   "source": [
    "import getpass, sys\n",
    "\n",
    "def question_with_response(prompt):\n",
    "    print(\"Question: \" + prompt)\n",
    "    msg = input()\n",
    "    return msg\n",
    "\n",
    "questions = 3\n",
    "correct = 0\n",
    "skipped = 0\n",
    "\n",
    "print('Hello, ' + getpass.getuser() + \" running \" + sys.executable)\n",
    "print(\"You will be asked \" + str(questions) + \" questions.\")\n",
    "rsp = question_with_response(\"Are you ready to take a test? Answer 'yes' or 'no'\")\n",
    "if rsp == \"yes\":\n",
    "    print(\"good luck\")\n",
    "if rsp == \"no\":\n",
    "    print(\"too bad\")\n",
    "\n",
    "rsp = question_with_response(\"What command is used to include other functions that were previously developed?\")\n",
    "if rsp == \"import\":\n",
    "    print(rsp + \" is correct!\")\n",
    "    correct += 1\n",
    "elif rsp == \"skip\":\n",
    "    print(\"skipping question\")\n",
    "    skipped += 1\n",
    "else:\n",
    "    print(rsp + \" is incorrect!\")\n",
    "\n",
    "rsp = question_with_response(\"What command is used to evaluate correct or incorrect response in this example?\")\n",
    "if rsp == \"if\":\n",
    "    print(rsp + \" is correct!\")\n",
    "    correct += 1\n",
    "elif rsp == \"skip\":\n",
    "    print(\"skipping question\")\n",
    "    skipped += 1\n",
    "else:\n",
    "    print(rsp + \" is incorrect!\")\n",
    "\n",
    "rsp = question_with_response(\"Each 'if' command contains an '_________' to determine a true or false condition?\")\n",
    "if rsp == \"expression\":\n",
    "    print(rsp + \" is correct!\")\n",
    "    correct += 1\n",
    "elif rsp == \"skip\":\n",
    "    print(\"skipping question\")\n",
    "    skipped += 1\n",
    "else:\n",
    "    print(rsp + \" is incorrect!\")\n",
    "\n",
    "print(getpass.getuser() + \" you scored \" + str(correct) + \"/\" + str(questions) + \", with \" + str(skipped) + \" skipped questions\")"
   ]
  },
  {
   "cell_type": "markdown",
   "metadata": {},
   "source": [
    "## Getting Rid of Repeating Code\n",
    "It will take a long time to add these lines of code multiple times, so I'll try to reduce the amount I make when creating more questions."
   ]
  },
  {
   "cell_type": "code",
   "execution_count": 8,
   "metadata": {},
   "outputs": [
    {
     "name": "stdout",
     "output_type": "stream",
     "text": [
      "Hello, chewyboba10 running /bin/python3\n",
      "You will be asked 10 questions.\n",
      "Are you ready to take a test?\n",
      "too bad\n",
      "Question: Name the Python output command mentioned in this lesson?\n",
      "print is correct\n",
      "Question: If you see many lines of code in order, what would College Board call it?\n",
      "sequence is correct\n",
      "Question: Describe a keyword used in Python to define a function?\n",
      "Question has been skipped\n",
      "Question: What command is used to evaluate correct or incorrect response in this quiz?\n",
      "if is correct\n",
      "Question: Each 'if' command contains an '_________' to determine a true or false condition?\n",
      "expression is correct\n",
      "Question: What is an input to a function or method called?\n",
      "parameter is correct\n",
      "Question: If Input is data the computer receives, what is the data that the computer sends back?\n",
      "output is correct\n",
      "Question: What is a reusable block of code called?\n",
      "idk is incorrect\n",
      "Question: What operator is used for string concatenation in Python?\n",
      "+ is correct\n",
      "Question: Which function can be used to turn numbers turned into string in Python?\n",
      "str() function is correct\n",
      "Congratulations chewyboba10! You got 80.0% and skipped 1 questions!\n"
     ]
    }
   ],
   "source": [
    "import getpass, sys\n",
    "\n",
    "questions = 10\n",
    "correct = 0\n",
    "skipped = 0\n",
    "\n",
    "def question_with_response(question, answer):\n",
    "    print(\"Question: \" + question)\n",
    "    msg = input()\n",
    "    if msg == answer:\n",
    "        print(msg + \" is correct\")\n",
    "        global correct\n",
    "        correct += 1\n",
    "    elif msg == \"skip\":\n",
    "        print(\"Question has been skipped\")\n",
    "        global skipped\n",
    "        skipped += 1\n",
    "    else:\n",
    "        print(msg + \" is incorrect\")\n",
    "\n",
    "def percentage(right, wrong):\n",
    "    percentage = 100 * float(right)/float(wrong)\n",
    "    return str(percentage) + \"%\" \n",
    "\n",
    "print('Hello, ' + getpass.getuser() + \" running \" + sys.executable)\n",
    "print(\"You will be asked \" + str(questions) + \" questions.\")\n",
    "print(\"Are you ready to take a test?\")\n",
    "rsp = input()\n",
    "if rsp == \"yes\":\n",
    "    print(\"Great! Good luck!\")\n",
    "if rsp == \"no\":\n",
    "    print(\"too bad\")\n",
    "\n",
    "question_with_response(\"Name the Python output command mentioned in this lesson?\", \"print\")\n",
    "question_with_response(\"If you see many lines of code in order, what would College Board call it?\", \"sequence\")\n",
    "question_with_response(\"Describe a keyword used in Python to define a function?\", \"def\")\n",
    "question_with_response(\"What command is used to evaluate correct or incorrect response in this quiz?\", \"if\")\n",
    "question_with_response(\"Each 'if' command contains an '_________' to determine a true or false condition?\", \"expression\")\n",
    "question_with_response(\"What is an input to a function or method called?\", \"parameter\")\n",
    "question_with_response(\"If Input is data the computer receives, what is the data that the computer sends back?\", \"output\")\n",
    "question_with_response(\"What is a reusable block of code called?\", \"function\")\n",
    "question_with_response(\"What operator is used for string concatenation in Python?\", \"+\")\n",
    "question_with_response(\"Which function can be used to turn numbers turned into string in Python?\", \"str() function\")\n",
    "\n",
    "print(\"Congratulations \" + getpass.getuser() + \"! You got \" + percentage(correct, questions) + \" and skipped \" + str(skipped) + \" questions!\")"
   ]
  },
  {
   "cell_type": "markdown",
   "metadata": {},
   "source": [
    "I am satisfied with how this turned out! Please comment if there is any problems or things I can work on."
   ]
  }
 ],
 "metadata": {
  "kernelspec": {
   "display_name": "Python 3.9.12",
   "language": "python",
   "name": "python3"
  },
  "language_info": {
   "codemirror_mode": {
    "name": "ipython",
    "version": 3
   },
   "file_extension": ".py",
   "mimetype": "text/x-python",
   "name": "python",
   "nbconvert_exporter": "python",
   "pygments_lexer": "ipython3",
   "version": "3.9.12"
  },
  "orig_nbformat": 4,
  "vscode": {
   "interpreter": {
    "hash": "61a57a4b5406d2de388e2f91097d4e4bcd7d5f4a46f53a795aa28a02eed27fc5"
   }
  }
 },
 "nbformat": 4,
 "nbformat_minor": 2
}
