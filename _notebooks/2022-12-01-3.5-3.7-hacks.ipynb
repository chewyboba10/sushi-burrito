{
 "cells": [
  {
   "cell_type": "markdown",
   "metadata": {},
   "source": [
    "# 3.5-3.7 Notes and Hacks\n",
    "\n",
    "- toc: true \n",
    "- badges: true\n",
    "- comments: true\n",
    "- categories: [jupyter]\n",
    "- author: Evan Aparri\n",
    "- permalink: /unit3/sections5-7hacks"
   ]
  },
  {
   "cell_type": "markdown",
   "metadata": {},
   "source": [
    "## Boolean and Binary"
   ]
  },
  {
   "cell_type": "code",
   "execution_count": 1,
   "metadata": {
    "vscode": {
     "languageId": "javascript"
    }
   },
   "outputs": [
    {
     "name": "stdout",
     "output_type": "stream",
     "text": [
      "89.0% > 80% True\n"
     ]
    }
   ],
   "source": [
    "grade1 = 90\n",
    "grade2 = 65\n",
    "grade3 = 60\n",
    "grade4 = 75\n",
    "grade5 = 95\n",
    "\n",
    "totalGrade = grade1 + grade2 + grade3 + grade3 + grade4 + grade5\n",
    "gradeAvg = totalGrade/5\n",
    "\n",
    "print(str(gradeAvg) + \"% > 80%\", gradeAvg>80)\n",
    "\n"
   ]
  },
  {
   "cell_type": "markdown",
   "metadata": {},
   "source": []
  },
  {
   "cell_type": "code",
   "execution_count": 4,
   "metadata": {
    "vscode": {
     "languageId": "javascript"
    }
   },
   "outputs": [
    {
     "name": "stdout",
     "output_type": "stream",
     "text": [
      "1 > 2 or 5 < 12 True\n",
      "24 > 8: False\n",
      "10 > 20: 20\n"
     ]
    }
   ],
   "source": [
    "print(\"1 > 2 or 5 < 12\", 1 > 2 or 5 < 12)\n",
    "# Output TRUE  using OR ^\n",
    "\n",
    "\n",
    "# Output FALSE using NOT\n",
    "print(\"24 > 8:\", not 24 > 8)\n",
    "\n",
    "# Output FALSE using AND\n",
    "print(\"10 > 20:\", 10 > 20)"
   ]
  },
  {
   "cell_type": "code",
   "execution_count": 6,
   "metadata": {
    "vscode": {
     "languageId": "javascript"
    }
   },
   "outputs": [
    {
     "name": "stdout",
     "output_type": "stream",
     "text": [
      "140\n"
     ]
    }
   ],
   "source": [
    "num1 = 20\n",
    "num2 = 120\n",
    "sum = num1 + num2\n",
    "\n",
    "if sum == 200:\n",
    "    print(sum)\n",
    "else:\n",
    "    print(sum)"
   ]
  },
  {
   "cell_type": "markdown",
   "metadata": {},
   "source": [
    "If a person has at least 8 hours, they are experienced\n",
    "If a person is experienced their salary is 90k, if they have ten hours or above their salary 150k\n",
    "If a person is inexperienced their salary is always 50k\n",
    "print the salary of the person at the end and whether they are experienced or not"
   ]
  },
  {
   "cell_type": "code",
   "execution_count": 17,
   "metadata": {
    "vscode": {
     "languageId": "javascript"
    }
   },
   "outputs": [
    {
     "name": "stdout",
     "output_type": "stream",
     "text": [
      "they are experienced\n",
      "Their salary is 90K\n"
     ]
    }
   ],
   "source": [
    "hours = 8\n",
    "\n",
    "if (hours < 8)\n",
    "{\n",
    "    console.log(\"they are inexperienced and their salary is 50K\")\n",
    "}\n",
    "else\n",
    "{\n",
    "    console.log(\"they are experienced\")\n",
    "    if (hours >= 10)\n",
    "    {\n",
    "        console.log(\"Their salary is 150K\")\n",
    "    }\n",
    "    else\n",
    "    {\n",
    "        console.log(\"Their salary is 90K\")\n",
    "    }\n",
    "}"
   ]
  },
  {
   "cell_type": "markdown",
   "metadata": {},
   "source": [
    "## Hacks"
   ]
  },
  {
   "cell_type": "code",
   "execution_count": 3,
   "metadata": {},
   "outputs": [
    {
     "name": "stdout",
     "output_type": "stream",
     "text": [
      "The item is $34 and is 57 days old\n",
      "this is a regular product\n"
     ]
    }
   ],
   "source": [
    "import random\n",
    "\n",
    "itemCost = random.randint(0,100)\n",
    "itemDaysOld = random.randint(0,100)\n",
    "\n",
    "print(\"The item is $\" + str(itemCost), \"and is\", str(itemDaysOld), \"days old\")\n",
    "\n",
    "if itemDaysOld < 100:\n",
    "    if itemCost < 50:\n",
    "        if itemCost > 25:\n",
    "            print(\"this is a regular product\")\n",
    "        else:\n",
    "            print(\"this is a cheap product\")\n",
    "    else:\n",
    "        print(\"this product is too expensive\")\n",
    "else:\n",
    "    print(\"this product is expired\")"
   ]
  },
  {
   "cell_type": "markdown",
   "metadata": {},
   "source": [
    "Quiz"
   ]
  },
  {
   "cell_type": "code",
   "execution_count": 10,
   "metadata": {},
   "outputs": [
    {
     "name": "stdout",
     "output_type": "stream",
     "text": [
      "Welcome chewyboba10! Beginning quiz.\n",
      "Question 1: \n",
      "Suppose that there is a lightbulb connected to two light switches. When both light switches are on off, the lightbulb does not light up. When only one light switch is on, the lightbulb is on. Finally, when both of the light switches are on, the lightbulb is off. Which logical operator does this lightbulb follow?\n",
      "A. AND\n",
      "B. OR\n",
      "C. XOR\n",
      "D. NOT\n",
      "you have selected option A\n",
      "Sorry that is incorrect.\n",
      "Question 2: Let presume that the light switches from Question1 are rewired to follow an AND logical operator. Which of the following would result in the lightbulb turning on?\n",
      "A. True and True = \n",
      "B. True and False = \n",
      "C. False and True\n",
      "D. False and False\n",
      "you have selected option V\n",
      "Sorry that is incorrect. The answer is A. True and True which would output False\n",
      "Question 3: What would not(x < 5 and x < 10) output if x = 5?\n",
      "you have answered true\n",
      "Sorry that is incorrect. The answer is False. not(x < 5 and x < 10) would output False\n"
     ]
    }
   ],
   "source": [
    "import getpass\n",
    "\n",
    "q1options = [\"A. AND\", \"B. OR\", \"C. XOR\", \"D. NOT\"]\n",
    "q2options = [\"A. True and True = \", \"B. True and False = \", \"C. False and True\", \"D. False and False\"]\n",
    "\n",
    "ans1 = q1options[2]\n",
    "ans2 = q2options[0]\n",
    "\n",
    "x = 5\n",
    "\n",
    "print(\"Welcome\", getpass.getuser() + \"! Beginning quiz.\")\n",
    "\n",
    "print(\"Question 1: \\nSuppose that there is a lightbulb connected to two light switches. When both light switches are on off, the lightbulb does not light up. When only one light switch is on, the lightbulb is on. Finally, when both of the light switches are on, the lightbulb is off. Which logical operator does this lightbulb follow?\")\n",
    "for i in q1options:\n",
    "    print(i)\n",
    "\n",
    "input1 = input(\"Please select an option:\")\n",
    "\n",
    "print(\"you have selected option\", str(input1.upper()))\n",
    "\n",
    "if input1.upper() == ans1[0]:\n",
    "    print(\"Congratulations! That is correct\")\n",
    "else:\n",
    "    print(\"Sorry that is incorrect.\")\n",
    "\n",
    "print(\"Question 2: Let presume that the light switches from Question1 are rewired to follow an AND logical operator. Which of the following would result in the lightbulb turning on?\")\n",
    "for i in q2options:\n",
    "    print(i)\n",
    "\n",
    "input2 = input(\"Please select an option:\")\n",
    "\n",
    "print(\"you have selected option\", str(input2.upper()))\n",
    "\n",
    "if input2.upper() == ans1[0]:\n",
    "    print(\"Congratulations! That is correct. True and True = \"+  True and False)\n",
    "else:\n",
    "    print(\"Sorry that is incorrect. The answer is A. True and True which would output\", True and False)\n",
    "\n",
    "print(\"Question 3: What would not(x < 5 and x < 10) output if x = 5?\")\n",
    "input3 = input()\n",
    "\n",
    "print(\"you have answered\", str(input3.lower()))\n",
    "\n",
    "if input3.lower() == \"False\":\n",
    "    print(\"Congratulations! That is correct. not(x < 5 and x < 10) would output\", not(x < 5 and x < 10))\n",
    "else:\n",
    "\n",
    "    print(\"Sorry that is incorrect. The answer is False. not(x < 5 and x < 10) would output\", True and False)\n",
    "\n",
    "\n",
    "\n",
    "\n",
    "\n",
    "\n"
   ]
  },
  {
   "cell_type": "code",
   "execution_count": null,
   "metadata": {},
   "outputs": [],
   "source": []
  }
 ],
 "metadata": {
  "kernelspec": {
   "display_name": "Python 3.9.12",
   "language": "python",
   "name": "python3"
  },
  "language_info": {
   "codemirror_mode": {
    "name": "ipython",
    "version": 3
   },
   "file_extension": ".py",
   "mimetype": "text/x-python",
   "name": "python",
   "nbconvert_exporter": "python",
   "pygments_lexer": "ipython3",
   "version": "3.9.12"
  },
  "orig_nbformat": 4,
  "vscode": {
   "interpreter": {
    "hash": "61a57a4b5406d2de388e2f91097d4e4bcd7d5f4a46f53a795aa28a02eed27fc5"
   }
  }
 },
 "nbformat": 4,
 "nbformat_minor": 2
}
