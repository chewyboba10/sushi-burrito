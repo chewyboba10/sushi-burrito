{
 "cells": [
  {
   "attachments": {},
   "cell_type": "markdown",
   "metadata": {},
   "source": [
    "#  API Binary Hacks\n",
    "- toc: true \n",
    "- badges: true\n",
    "- comments: true\n",
    "- categories: [jupyter, lesson]"
   ]
  },
  {
   "cell_type": "code",
   "execution_count": 3,
   "metadata": {},
   "outputs": [
    {
     "name": "stdout",
     "output_type": "stream",
     "text": [
      "World Totals\n",
      "total_cases: 509,268,964\n",
      "new_cases: 204,268\n",
      "total_deaths: 6,242,509\n",
      "new_deaths: 630\n",
      "total_recovered: 461,827,849\n",
      "active_cases: 41,198,606\n",
      "serious_critical: 42,510\n",
      "total_cases_per_1m_population: 65,334\n",
      "deaths_per_1m_population: 800.9\n",
      "statistic_taken_at: 2022-04-24 11:18:01\n",
      "\n",
      "Country Totals\n",
      "country_name: China\n",
      "cases: 200,654\n",
      "deaths: 4,725\n",
      "region: \n",
      "total_recovered: 166,398\n",
      "new_deaths: 39\n",
      "new_cases: 1,580\n",
      "serious_critical: 236\n",
      "active_cases: 29,531\n",
      "total_cases_per_1m_population: 139\n",
      "deaths_per_1m_population: 3\n",
      "total_tests: 160,000,000\n",
      "tests_per_1m_population: 111,163\n"
     ]
    }
   ],
   "source": [
    "import requests\n",
    "\n",
    "\"\"\"\n",
    "RapidAPI is the world's largest API Marketplace. \n",
    "Developers use Rapid API to discover and connect to thousands of APIs. \n",
    "\"\"\"\n",
    "url = \"https://corona-virus-world-and-india-data.p.rapidapi.com/api\"\n",
    "headers = {\n",
    "    'x-rapidapi-key': \"26d9a3c8fbmshd1c8fc32ca8acc3p190a69jsn54f737b8e33b\",\n",
    "    'x-rapidapi-host': \"corona-virus-world-and-india-data.p.rapidapi.com\"\n",
    "}\n",
    "\n",
    "# Request Covid Data\n",
    "response = requests.request(\"GET\", url, headers=headers)\n",
    "# print(response.text)  # uncomment this line to see raw data\n",
    "# This code looks for \"world data\"\n",
    "print(\"World Totals\")\n",
    "world = response.json().get('world_total')  # turn response to json() so we can extract \"world_total\"\n",
    "for key, value in world.items():  # this finds key, value pairs in country\n",
    "    print(key + \":\", value)\n",
    "\n",
    "print()\n",
    "\n",
    "# This code looks for China in \"countries_stats\"\n",
    "print(\"Country Totals\")\n",
    "countries = response.json().get('countries_stat')\n",
    "for country in countries:  # countries is a list\n",
    "    if country[\"country_name\"] == \"China\":  # this filters for China\n",
    "        for key, value in country.items():  # this finds key, value pairs in country\n",
    "            print(key + \":\", value)"
   ]
  }
 ],
 "metadata": {
  "kernelspec": {
   "display_name": "Python 3",
   "language": "python",
   "name": "python3"
  },
  "language_info": {
   "codemirror_mode": {
    "name": "ipython",
    "version": 3
   },
   "file_extension": ".py",
   "mimetype": "text/x-python",
   "name": "python",
   "nbconvert_exporter": "python",
   "pygments_lexer": "ipython3",
   "version": "3.9.12"
  },
  "orig_nbformat": 4
 },
 "nbformat": 4,
 "nbformat_minor": 2
}
