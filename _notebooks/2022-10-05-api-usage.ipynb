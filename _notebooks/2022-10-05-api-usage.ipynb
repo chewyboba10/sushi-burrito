{
 "cells": [
  {
   "cell_type": "markdown",
   "metadata": {},
   "source": [
    "# API Usage\n",
    "- title: Using API\n",
    "- toc: true\n",
    "- permalink: /api/api-usage\n",
    "- categories: [Tri 1, Week 7]\n",
    "- week: 7"
   ]
  },
  {
   "cell_type": "markdown",
   "metadata": {},
   "source": [
    "{% include nav_api.html %}"
   ]
  },
  {
   "cell_type": "code",
   "execution_count": 1,
   "metadata": {},
   "outputs": [
    {
     "name": "stdout",
     "output_type": "stream",
     "text": [
      "Song Information: \n",
      "\tSong Name:  Ed Sheeran - Photograph\n",
      "\tGenre:  Pop\n",
      "\tSong Length:  04:16\n",
      "\tNumber of Times played:  32388771\n"
     ]
    }
   ],
   "source": [
    "import requests\n",
    "\n",
    "url = \"https://soundcloud-scraper.p.rapidapi.com/v1/track/metadata\"\n",
    "\n",
    "querystring = {\"track\":\"https://soundcloud.com/edsheeran/photograph\"}\n",
    "\n",
    "headers = {\n",
    "\t\"X-RapidAPI-Key\": \"982d09f4b6msha36abf60bba5931p11f8b1jsn17c33bd8dbf4\",\n",
    "\t\"X-RapidAPI-Host\": \"soundcloud-scraper.p.rapidapi.com\"\n",
    "}\n",
    "\n",
    "response = requests.request(\"GET\", url, headers=headers, params=querystring)\n",
    "\n",
    "#print(response.text)\n",
    "#print(response.json())\n",
    "data = response.json()\n",
    "\n",
    "print(\"Song Information: \")\n",
    "print(\"\tSong Name: \", data[\"title\"])\n",
    "print(\"\tGenre: \", data[\"genre\"])\n",
    "print(\"\tSong Length: \", data[\"durationText\"])\n",
    "print(\"\tNumber of Times played: \", data[\"playCount\"])"
   ]
  }
 ],
 "metadata": {
  "kernelspec": {
   "display_name": "Python 3.9.12 ('base')",
   "language": "python",
   "name": "python3"
  },
  "language_info": {
   "codemirror_mode": {
    "name": "ipython",
    "version": 3
   },
   "file_extension": ".py",
   "mimetype": "text/x-python",
   "name": "python",
   "nbconvert_exporter": "python",
   "pygments_lexer": "ipython3",
   "version": "3.9.12"
  },
  "orig_nbformat": 4,
  "vscode": {
   "interpreter": {
    "hash": "50eb5c5e037dc743ccc573af38682ac22d606742d961d395276bd4be46d9dae4"
   }
  }
 },
 "nbformat": 4,
 "nbformat_minor": 2
}
