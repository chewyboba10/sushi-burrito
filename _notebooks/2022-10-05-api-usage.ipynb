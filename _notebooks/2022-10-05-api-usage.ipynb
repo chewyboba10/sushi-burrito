{
 "cells": [
  {
   "cell_type": "markdown",
   "metadata": {},
   "source": [
    "# API Usage\n",
    "- title: Using API\n",
    "- toc: true\n",
    "- permalink: /api/api-usage\n",
    "- categories: [Tri 1, Week 7]\n",
    "- week: 7"
   ]
  },
  {
   "cell_type": "markdown",
   "metadata": {},
   "source": [
    "{% include nav_api.html %}"
   ]
  }
 ],
 "metadata": {
  "kernelspec": {
   "display_name": "Python 3.9.12 ('base')",
   "language": "python",
   "name": "python3"
  },
  "language_info": {
   "codemirror_mode": {
    "name": "ipython",
    "version": 3
   },
   "file_extension": ".py",
   "mimetype": "text/x-python",
   "name": "python",
   "nbconvert_exporter": "python",
   "pygments_lexer": "ipython3",
   "version": "3.9.12"
  },
  "orig_nbformat": 4,
  "vscode": {
   "interpreter": {
    "hash": "50eb5c5e037dc743ccc573af38682ac22d606742d961d395276bd4be46d9dae4"
   }
  }
 },
 "nbformat": 4,
 "nbformat_minor": 2
}
