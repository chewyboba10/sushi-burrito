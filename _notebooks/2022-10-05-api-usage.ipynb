{
 "cells": [
  {
   "cell_type": "markdown",
   "metadata": {},
   "source": [
    "# API Usage\n",
    "- title: Using API\n",
    "- toc: true\n",
    "- permalink: /api/api-usage\n",
    "- categories: [Tri 1, Week 7]\n",
    "- week: 7"
   ]
  },
  {
   "cell_type": "markdown",
   "metadata": {},
   "source": [
    "{% include nav_api.html %}"
   ]
  },
  {
   "cell_type": "code",
   "execution_count": 2,
   "metadata": {},
   "outputs": [
    {
     "name": "stdout",
     "output_type": "stream",
     "text": [
      "Song Name:  Ed Sheeran - Photograph\n",
      "Genre:  Pop\n",
      "Song Length:  04:16\n",
      "Number of Times played:  32382588\n"
     ]
    }
   ],
   "source": [
    "import requests\n",
    "\n",
    "url = \"https://soundcloud-scraper.p.rapidapi.com/v1/track/metadata\"\n",
    "\n",
    "querystring = {\"track\":\"https://soundcloud.com/edsheeran/photograph\"}\n",
    "\n",
    "headers = {\n",
    "\t\"X-RapidAPI-Key\": \"982d09f4b6msha36abf60bba5931p11f8b1jsn17c33bd8dbf4\",\n",
    "\t\"X-RapidAPI-Host\": \"soundcloud-scraper.p.rapidapi.com\"\n",
    "}\n",
    "\n",
    "response = requests.request(\"GET\", url, headers=headers, params=querystring)\n",
    "\n",
    "#print(response.text)\n",
    "#print(response.json())\n",
    "data = response.json()\n",
    "\n",
    "print(\"Song Name: \", data[\"title\"])\n",
    "print(\"Genre: \", data[\"genre\"])\n",
    "print(\"Song Length: \", data[\"durationText\"])\n",
    "print(\"Number of Times played: \", data[\"playCount\"])"
   ]
  }
 ],
 "metadata": {
  "kernelspec": {
   "display_name": "Python 3.9.12",
   "language": "python",
   "name": "python3"
  },
  "language_info": {
   "codemirror_mode": {
    "name": "ipython",
    "version": 3
   },
   "file_extension": ".py",
   "mimetype": "text/x-python",
   "name": "python",
   "nbconvert_exporter": "python",
   "pygments_lexer": "ipython3",
   "version": "3.9.12"
  },
  "orig_nbformat": 4,
  "vscode": {
   "interpreter": {
    "hash": "61a57a4b5406d2de388e2f91097d4e4bcd7d5f4a46f53a795aa28a02eed27fc5"
   }
  }
 },
 "nbformat": 4,
 "nbformat_minor": 2
}
