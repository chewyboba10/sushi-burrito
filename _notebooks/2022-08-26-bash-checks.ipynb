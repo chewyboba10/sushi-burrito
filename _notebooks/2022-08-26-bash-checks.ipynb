{
 "cells": [
  {
   "cell_type": "markdown",
   "metadata": {},
   "source": [
    "# Installation Checks for Evan Aparri\n",
    "> Starters for Bash installation\n",
    "\n",
    "- toc: true \n",
    "- badges: true\n",
    "- comments: true\n",
    "- images: true\n",
    "- categories: [jupyter]\n",
    "- author: Evan Aparri"
   ]
  },
  {
   "cell_type": "markdown",
   "metadata": {},
   "source": [
    "# Python Intstallation Checks"
   ]
  },
  {
   "cell_type": "code",
   "execution_count": 1,
   "metadata": {
    "vscode": {
     "languageId": "shellscript"
    }
   },
   "outputs": [
    {
     "name": "stdout",
     "output_type": "stream",
     "text": [
      "Python 3.9.12\n",
      "Python 3.9.12\n"
     ]
    }
   ],
   "source": [
    "python --version\n",
    "python3 --version\n"
   ]
  },
  {
   "cell_type": "code",
   "execution_count": 12,
   "metadata": {
    "vscode": {
     "languageId": "shellscript"
    }
   },
   "outputs": [
    {
     "name": "stdout",
     "output_type": "stream",
     "text": [
      "Checking python version\n",
      "     - Python version  has already been installed"
     ]
    }
   ],
   "source": [
    "function PythonInstallationCheck () {\n",
    "    printf \"Checking python version\\n\"\n",
    "    if [[ $(python3 --version) ]]; then\n",
    "        py3version=$(python3 --version | cut -d\" \" -f2)\n",
    "            printf \"     - Python version $py3version has already been installed\"\n",
    "    else\n",
    "        printf \"Python not found\"\n",
    "    fi\n",
    "}\n",
    "\n",
    "PythonInstallationCheck"
   ]
  },
  {
   "cell_type": "markdown",
   "metadata": {},
   "source": [
    "# Java Installation Checks"
   ]
  },
  {
   "cell_type": "code",
   "execution_count": 19,
   "metadata": {
    "vscode": {
     "languageId": "shellscript"
    }
   },
   "outputs": [
    {
     "name": "stdout",
     "output_type": "stream",
     "text": [
      "Checking java version\n",
      "     - Java version 11.0.16\n",
      "Runtime\n",
      "64-Bit has already been installed\n",
      "Checking javaC version\n",
      "     - JavaC version 11.0.16 has already been installed\n"
     ]
    }
   ],
   "source": [
    "function JavaInstallationCheck () {\n",
    "    printf \"Checking java version\\n\"\n",
    "    if [[ $(java --version) ]]; then\n",
    "        javaversion=$(java --version | cut -d\" \" -f2)\n",
    "            printf \"     - Java version $javaversion has already been installed\\n\"\n",
    "    else\n",
    "        printf \"Java not found\\n\"\n",
    "    fi\n",
    "}\n",
    "\n",
    "function JavaCInstallationCheck () {\n",
    "    printf \"Checking javaC version\\n\"\n",
    "    if [[ $(javac --version) ]]; then\n",
    "        javacversion=$(javac --version | cut -d\" \" -f2)\n",
    "            printf \"     - JavaC version $javacversion has already been installed\\n\"\n",
    "    else\n",
    "        printf \"JavaC not found\\n\"\n",
    "    fi\n",
    "}\n",
    "\n",
    "JavaInstallationCheck\n",
    "JavaCInstallationCheck"
   ]
  },
  {
   "cell_type": "markdown",
   "metadata": {},
   "source": [
    "# Anaconda"
   ]
  },
  {
   "cell_type": "markdown",
   "metadata": {},
   "source": [
    "## Anaconda Installation Checks"
   ]
  },
  {
   "cell_type": "code",
   "execution_count": 21,
   "metadata": {
    "vscode": {
     "languageId": "shellscript"
    }
   },
   "outputs": [
    {
     "name": "stdout",
     "output_type": "stream",
     "text": [
      "Checking anaconda version\n",
      "     - anaconda version 4.13.0 has already been installed"
     ]
    }
   ],
   "source": [
    "function AnacondaInstallationCheck () {\n",
    "    printf \"Checking anaconda version\\n\"\n",
    "    if [[ $(conda --version) ]]; then\n",
    "        anacondaversion=$(conda --version | cut -d\" \" -f2)\n",
    "            printf \"     - anaconda version $anacondaversion has already been installed\"\n",
    "    else\n",
    "        printf \"Anaconda not found\"\n",
    "    fi\n",
    "}\n",
    "\n",
    "AnacondaInstallationCheck"
   ]
  },
  {
   "cell_type": "markdown",
   "metadata": {},
   "source": [
    "## Anaconda Package Installation Check"
   ]
  },
  {
   "cell_type": "code",
   "execution_count": 28,
   "metadata": {
    "vscode": {
     "languageId": "shellscript"
    }
   },
   "outputs": [
    {
     "name": "stdout",
     "output_type": "stream",
     "text": [
      "Checking Anaconda package version\n",
      "     - Conda package nodejs version 6.11.2 has already been installed"
     ]
    }
   ],
   "source": [
    "function AnacondaPackageCheck () {\n",
    "    printf \"Checking Anaconda package version\\n\"\n",
    "    if [[ $(conda list | grep $1) ]]; then\n",
    "        anacondapackageversion=$(conda list | grep $1 | awk '{print $2}')\n",
    "        printf \"     - Conda package $1 version $anacondapackageversion has already been installed\"\n",
    "    else\n",
    "        printf \"     - Conda Package not found\"\n",
    "    fi\n",
    "}\n",
    "\n",
    "AnacondaPackageCheck \"nodejs\""
   ]
  },
  {
   "cell_type": "markdown",
   "metadata": {},
   "source": [
    "# Jupyter"
   ]
  },
  {
   "cell_type": "markdown",
   "metadata": {},
   "source": [
    "## Jupyter Kernels Check"
   ]
  },
  {
   "cell_type": "code",
   "execution_count": 32,
   "metadata": {
    "vscode": {
     "languageId": "shellscript"
    }
   },
   "outputs": [
    {
     "name": "stdout",
     "output_type": "stream",
     "text": [
      "Checking jupyter kernel installationUsage: grep [OPTION]... PATTERNS [FILE]...\n",
      "Try 'grep --help' for more information.\n",
      "Traceback (most recent call last):\n",
      "  File \"/home/chewyboba10/anaconda3/bin/jupyter-kernelspec\", line 10, in <module>\n",
      "    sys.exit(KernelSpecApp.launch_instance())\n",
      "  File \"/home/chewyboba10/anaconda3/lib/python3.9/site-packages/traitlets/config/application.py\", line 846, in launch_instance\n",
      "    app.start()\n",
      "  File \"/home/chewyboba10/anaconda3/lib/python3.9/site-packages/jupyter_client/kernelspecapp.py\", line 266, in start\n",
      "    return self.subapp.start()\n",
      "  File \"/home/chewyboba10/anaconda3/lib/python3.9/site-packages/jupyter_client/kernelspecapp.py\", line 54, in start\n",
      "    print(\"Available kernels:\")\n",
      "BrokenPipeError: [Errno 32] Broken pipe\n",
      "     - Jupyter  kernel not foundChecking jupyter kernel installationUsage: grep [OPTION]... PATTERNS [FILE]...\n",
      "Try 'grep --help' for more information.\n",
      "Traceback (most recent call last):\n",
      "  File \"/home/chewyboba10/anaconda3/bin/jupyter-kernelspec\", line 10, in <module>\n",
      "    sys.exit(KernelSpecApp.launch_instance())\n",
      "  File \"/home/chewyboba10/anaconda3/lib/python3.9/site-packages/traitlets/config/application.py\", line 846, in launch_instance\n",
      "    app.start()\n",
      "  File \"/home/chewyboba10/anaconda3/lib/python3.9/site-packages/jupyter_client/kernelspecapp.py\", line 266, in start\n",
      "    return self.subapp.start()\n",
      "  File \"/home/chewyboba10/anaconda3/lib/python3.9/site-packages/jupyter_client/kernelspecapp.py\", line 54, in start\n",
      "    print(\"Available kernels:\")\n",
      "BrokenPipeError: [Errno 32] Broken pipe\n",
      "     - Jupyter  kernel not foundChecking jupyter kernel installationUsage: grep [OPTION]... PATTERNS [FILE]...\n",
      "Try 'grep --help' for more information.\n",
      "Traceback (most recent call last):\n",
      "  File \"/home/chewyboba10/anaconda3/bin/jupyter-kernelspec\", line 10, in <module>\n",
      "    sys.exit(KernelSpecApp.launch_instance())\n",
      "  File \"/home/chewyboba10/anaconda3/lib/python3.9/site-packages/traitlets/config/application.py\", line 846, in launch_instance\n",
      "    app.start()\n",
      "  File \"/home/chewyboba10/anaconda3/lib/python3.9/site-packages/jupyter_client/kernelspecapp.py\", line 266, in start\n",
      "    return self.subapp.start()\n",
      "  File \"/home/chewyboba10/anaconda3/lib/python3.9/site-packages/jupyter_client/kernelspecapp.py\", line 54, in start\n",
      "    print(\"Available kernels:\")\n",
      "BrokenPipeError: [Errno 32] Broken pipe\n",
      "     - Jupyter  kernel not found"
     ]
    }
   ],
   "source": [
    "function JupyterKernelsCheck () {\n",
    "    printf \"Checking jupyter kernel installation\"\n",
    "    if [[ $(jupyter kernelspec list | grep $1) ]]; then\n",
    "        kernelpath=$(jupyter kernelspec list | grep $1 | awk '{print $2}')\n",
    "        printf \"     - Jupyter $1 kernel has been found at $kernelpath\"\n",
    "    else\n",
    "        printf \"     - Jupyter $1 kernel not found\"\n",
    "    fi\n",
    "}\n",
    "\n",
    "kernels=\"bash javascript python3\"\n",
    "for i in $kernels; do\n",
    "    JupyterKernelsCheck $1\n",
    "done"
   ]
  }
 ],
 "metadata": {
  "kernelspec": {
   "display_name": "Bash",
   "language": "bash",
   "name": "bash"
  },
  "language_info": {
   "codemirror_mode": "shell",
   "file_extension": ".sh",
   "mimetype": "text/x-sh",
   "name": "bash"
  },
  "orig_nbformat": 4,
  "vscode": {
   "interpreter": {
    "hash": "916dbcbb3f70747c44a77c7bcd40155683ae19c65e1c03b4aa3499c5328201f1"
   }
  }
 },
 "nbformat": 4,
 "nbformat_minor": 2
}
