{
 "cells": [
  {
   "cell_type": "markdown",
   "metadata": {},
   "source": [
    "# Lecture Notes - HTML Fragments\n",
    "> What Lists, Dictionaries, and Iterations are and how to use them\n",
    "\n",
    "- toc: true\n",
    "- layout: post\n",
    "- description: Lecture Notes August 31, 2022\n",
    "- categories: [T1, Notes, Week 2]\n",
    "- title: Lecture Notes - HTML Fragments\n",
    "- author: Evan Aparri\n",
    "- show_tags: true\n",
    "- comments: true\n"
   ]
  },
  {
   "cell_type": "markdown",
   "metadata": {},
   "source": [
    "\n",
    "# HTML Fragments\n",
    "\n",
    "procedural abstraction and data abstraction - taking little pieces of information and putting them into different files so that something can take it in the bigger system\n",
    "\n",
    "markdown gets converted into html\n",
    "everything in your website gets converted to html"
   ]
  },
  {
   "cell_type": "markdown",
   "metadata": {},
   "source": [
    "# HTML Write Analysis\n",
    "\n",
    "The theme of the Blog could be changed in the `_config.yml` file in the home directory of the blog. Either `theme` or `remote_theme` key pair value can be altered. The `remote_theme` method needs to have the `jekyll-remote-theme` to be defined in the `plugins` key. I decided to change to the midnight theme because I thought the theme name sounded cool. \n",
    "\n",
    "I ran into a minor problem of naming the remote theme wrong, but that was quickly fixed\n",
    "\n",
    "![](images/theme-mistake.png)\n"
   ]
  },
  {
   "cell_type": "markdown",
   "metadata": {},
   "source": [
    "![](images/theme-mistake.png)"
   ]
  }
 ],
 "metadata": {
  "kernelspec": {
   "display_name": "Python 3.8.10 64-bit",
   "language": "python",
   "name": "python3"
  },
  "language_info": {
   "codemirror_mode": {
    "name": "ipython",
    "version": 3
   },
   "file_extension": ".py",
   "mimetype": "text/x-python",
   "name": "python",
   "nbconvert_exporter": "python",
   "pygments_lexer": "ipython3",
   "version": "3.8.10"
  },
  "orig_nbformat": 4,
  "vscode": {
   "interpreter": {
    "hash": "916dbcbb3f70747c44a77c7bcd40155683ae19c65e1c03b4aa3499c5328201f1"
   }
  }
 },
 "nbformat": 4,
 "nbformat_minor": 2
}
