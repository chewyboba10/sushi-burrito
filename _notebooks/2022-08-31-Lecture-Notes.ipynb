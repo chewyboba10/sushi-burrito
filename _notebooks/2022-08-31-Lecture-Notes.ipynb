{
 "cells": [
  {
   "cell_type": "markdown",
   "metadata": {},
   "source": [
    "Lecture Notes - HTML Fragments\n",
    "> Notes on what HTML Fragments are\n",
    "\n",
    "- toc: true\n",
    "- layout: post\n",
    "- description: Lecture Notes September 1, 2022\n",
    "- categories: [T1, Notes, Week 2]\n",
    "- title: Lecture Notes - HTML Fragments\n",
    "- author: Evan Aparri\n",
    "- show_tags: true\n",
    "- comments: true"
   ]
  },
  {
   "cell_type": "markdown",
   "metadata": {},
   "source": [
    "\n",
    "# HTML Fragments\n",
    "\n",
    "procedural abstraction and data abstraction - taking little pieces of information and putting them into different files so that something can take it in the bigger system\n",
    "\n",
    "markdown gets converted into html\n",
    "everything in your website gets converted to html"
   ]
  }
 ],
 "metadata": {
  "kernelspec": {
   "display_name": "Python 3.8.10 64-bit",
   "language": "python",
   "name": "python3"
  },
  "language_info": {
   "name": "python",
   "version": "3.8.10"
  },
  "orig_nbformat": 4,
  "vscode": {
   "interpreter": {
    "hash": "916dbcbb3f70747c44a77c7bcd40155683ae19c65e1c03b4aa3499c5328201f1"
   }
  }
 },
 "nbformat": 4,
 "nbformat_minor": 2
}
