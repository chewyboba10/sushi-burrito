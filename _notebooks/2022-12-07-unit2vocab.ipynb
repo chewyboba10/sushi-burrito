{
 "cells": [
  {
   "attachments": {},
   "cell_type": "markdown",
   "metadata": {},
   "source": [
    "# Unit 2 Vocabulary\n",
    "\n",
    "- toc: true \n",
    "- badges: true\n",
    "- comments: true\n",
    "- categories: [jupyter]\n",
    "- author: Evan Aparri\n",
    "- permalink: /vocab/unit2"
   ]
  },
  {
   "attachments": {},
   "cell_type": "markdown",
   "metadata": {},
   "source": [
    "{% include nav_vocab.html %}"
   ]
  },
  {
   "attachments": {},
   "cell_type": "markdown",
   "metadata": {},
   "source": [
    "## Bits\n",
    "\n",
    "## Bytes\n",
    "\n",
    "## Hexadecimal / Nibbles\n",
    "\n",
    "## Binary Numbers\n",
    "### Unsigned Integer \n",
    "### Signed Integer \n",
    "### Floating Point\n",
    "\n",
    "## Binary Data Abstractions\n",
    "### Boolean\n",
    "### ASCII\n",
    "### Unicode\n",
    "### RGB\n",
    "\n",
    "## Data Compression\n",
    "### Lossy\n",
    "### Lossless (note discussed yet)"
   ]
  }
 ],
 "metadata": {
  "kernelspec": {
   "display_name": "Python 3.9.12",
   "language": "python",
   "name": "python3"
  },
  "language_info": {
   "name": "python",
   "version": "3.9.12"
  },
  "orig_nbformat": 4,
  "vscode": {
   "interpreter": {
    "hash": "61a57a4b5406d2de388e2f91097d4e4bcd7d5f4a46f53a795aa28a02eed27fc5"
   }
  }
 },
 "nbformat": 4,
 "nbformat_minor": 2
}
