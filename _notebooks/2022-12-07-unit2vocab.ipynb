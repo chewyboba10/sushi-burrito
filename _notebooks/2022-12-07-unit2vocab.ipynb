{
 "cells": [
  {
   "attachments": {},
   "cell_type": "markdown",
   "metadata": {},
   "source": [
    "# Unit 2 Vocabulary\n",
    "\n",
    "- toc: true \n",
    "- badges: true\n",
    "- comments: true\n",
    "- categories: [jupyter]\n",
    "- author: Evan Aparri\n",
    "- permalink: /vocab/unit2"
   ]
  },
  {
   "attachments": {},
   "cell_type": "markdown",
   "metadata": {},
   "source": [
    "{% include nav_vocab.html %}"
   ]
  },
  {
   "attachments": {},
   "cell_type": "markdown",
   "metadata": {},
   "source": [
    "**Examples coming in the future!**\n",
    "\n",
    "## Bits\n",
    ">a bit (short for binary digit) is the basic unit of information used in computing and digital communications. It is a binary digit, that is, it can have only two values: 0 or 1. These two values are typically used to represent the two logical states of a system, such as \"on\" or \"off,\" \"true\" or \"false,\" or \"high\" or \"low.\" A bit is the smallest unit of information that can be processed by a computer, and it is typically used to store and manipulate data in a computer's memory or storage.\n",
    "\n",
    "\n",
    "## Bytes\n",
    ">In computer science, a byte is a unit of information that typically consists of 8 bits. It is a basic unit of measurement used to represent the amount of data in computer memory or storage. A byte is used to store a single character in a computer's memory or on disk. Bytes are often used to represent larger values or data types, such as integers, floating-point numbers, or text strings.\n",
    "\n",
    "## Hexadecimal\n",
    ">In computer science and digital technology, hexadecimal is a positional numeral system with a base of 16. It uses 16 distinct symbols, most often the symbols 0-9 to represent values zero to nine, and A, B, C, D, E, F to represent values ten to fifteen. Hexadecimal is commonly used in computer science to represent binary data in a more compact and readable form. Each hexadecimal digit represents four binary digits (bits), which means that two hexadecimal digits can represent a byte (8 bits) of information. For example, the hexadecimal number 3F represents the binary number 0011 1111.\n",
    "\n",
    "## Nibbles\n",
    ">A nibble is a term used in computer science to refer to a group of four bits, or half of a byte. It is often used to represent a single hexadecimal digit, which can be used to represent binary data in a more compact and readable form.\n",
    "\n",
    "## Binary Numbers\n",
    ">In computer science and digital technology, the term \"binary\" refers to a system of representing numbers or information using only two different digits, usually 0 and 1. This system is known as the binary numeral system, and it is used by most computers and other digital devices because it is a simple and efficient way to represent and manipulate data.\n",
    "\n",
    "### Unsigned Integer \n",
    "### Signed Integer \n",
    "### Floating Point\n",
    "\n",
    "## Binary Data Abstractions\n",
    "### Boolean\n",
    "### ASCII\n",
    "### Unicode\n",
    "### RGB\n",
    "\n",
    "## Data Compression\n",
    "### Lossy\n",
    "### Lossless (note discussed yet)"
   ]
  }
 ],
 "metadata": {
  "kernelspec": {
   "display_name": "Python 3.9.12",
   "language": "python",
   "name": "python3"
  },
  "language_info": {
   "name": "python",
   "version": "3.9.12"
  },
  "orig_nbformat": 4,
  "vscode": {
   "interpreter": {
    "hash": "61a57a4b5406d2de388e2f91097d4e4bcd7d5f4a46f53a795aa28a02eed27fc5"
   }
  }
 },
 "nbformat": 4,
 "nbformat_minor": 2
}
