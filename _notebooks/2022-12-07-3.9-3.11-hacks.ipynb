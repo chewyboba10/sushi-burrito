{
 "cells": [
  {
   "attachments": {},
   "cell_type": "markdown",
   "metadata": {},
   "source": [
    "# 3.9 & 3.11 Notes and Hacks\n",
    "\n",
    "- toc: true \n",
    "- badges: true\n",
    "- comments: true\n",
    "- categories: [jupyter]\n",
    "- author: Evan Aparri\n",
    "- permalink: /unit3/sections9&11hacks"
   ]
  },
  {
   "attachments": {},
   "cell_type": "markdown",
   "metadata": {},
   "source": [
    "**Hacks**"
   ]
  },
  {
   "cell_type": "code",
   "execution_count": 30,
   "metadata": {},
   "outputs": [
    {
     "name": "stdout",
     "output_type": "stream",
     "text": [
      "Numbers being compared: 744 & 810\n",
      "The greatest common divisor between 744 & 810 is:\n"
     ]
    },
    {
     "data": {
      "text/plain": [
       "6"
      ]
     },
     "execution_count": 30,
     "metadata": {},
     "output_type": "execute_result"
    }
   ],
   "source": [
    "import random\n",
    "\n",
    "def gcd(a, b):\n",
    "    # base case\n",
    "    if a == 0:\n",
    "        return b\n",
    "    if b == 0:\n",
    "        return a\n",
    "\n",
    "    # recursive step\n",
    "    if a >= b:\n",
    "        return gcd(a % b, b)\n",
    "    else:\n",
    "        return gcd(a, b % a)\n",
    "\n",
    "num1 = random.randint(0,1000)\n",
    "num2 = random.randint(0,1000)\n",
    "\n",
    "print(\"Numbers being compared:\", num1, \"&\", num2)\n",
    "print(\"The greatest common divisor between\", num1, \"&\", num2, \"is:\")\n",
    "gcd(num1, num2)"
   ]
  },
  {
   "attachments": {},
   "cell_type": "markdown",
   "metadata": {},
   "source": [
    "1. The function starts by defining a base case where `gcd(a, b)` is equal to `a` if `b` is 0, and `b` if `a` is 0. This is because the GCD of a number and 0 is always the number itself.\n",
    "2. The next step is the recursive step, where the function calls itself with the arguments `(a % b, b)` if `a` is greater than or equal to `b`, or `(a, b % a)` if `b` is greater than `a`. This step is based on the Euclidean algorithm, which states that the GCD of two numbers `a` and `b` is the same as the GCD of `b` and the remainder of `a` divided by `b` (i.e. `a % b`).\n",
    "3. This recursive step continues until the base case is reached, at which point the function returns the GCD of `a` and `b`."
   ]
  }
 ],
 "metadata": {
  "kernelspec": {
   "display_name": "Python 3.9.12",
   "language": "python",
   "name": "python3"
  },
  "language_info": {
   "codemirror_mode": {
    "name": "ipython",
    "version": 3
   },
   "file_extension": ".py",
   "mimetype": "text/x-python",
   "name": "python",
   "nbconvert_exporter": "python",
   "pygments_lexer": "ipython3",
   "version": "3.9.12"
  },
  "orig_nbformat": 4,
  "vscode": {
   "interpreter": {
    "hash": "61a57a4b5406d2de388e2f91097d4e4bcd7d5f4a46f53a795aa28a02eed27fc5"
   }
  }
 },
 "nbformat": 4,
 "nbformat_minor": 2
}
