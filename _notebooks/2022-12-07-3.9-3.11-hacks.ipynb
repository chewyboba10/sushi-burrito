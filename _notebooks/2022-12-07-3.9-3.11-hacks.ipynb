{
 "cells": [
  {
   "attachments": {},
   "cell_type": "markdown",
   "metadata": {},
   "source": [
    "# 3.9 & 3.11 Notes and Hacks\n",
    "\n",
    "- toc: true \n",
    "- badges: true\n",
    "- comments: true\n",
    "- categories: [jupyter]\n",
    "- author: Evan Aparri\n",
    "- permalink: /unit3/sections9&11hacks"
   ]
  },
  {
   "attachments": {},
   "cell_type": "markdown",
   "metadata": {},
   "source": [
    "**Hacks**"
   ]
  },
  {
   "cell_type": "code",
   "execution_count": 30,
   "metadata": {},
   "outputs": [
    {
     "name": "stdout",
     "output_type": "stream",
     "text": [
      "Numbers being compared: 744 & 810\n",
      "The greatest common divisor between 744 & 810 is:\n"
     ]
    },
    {
     "data": {
      "text/plain": [
       "6"
      ]
     },
     "execution_count": 30,
     "metadata": {},
     "output_type": "execute_result"
    }
   ],
   "source": [
    "import random\n",
    "\n",
    "def gcd(a, b):\n",
    "    # base case\n",
    "    if a == 0:\n",
    "        return b\n",
    "    if b == 0:\n",
    "        return a\n",
    "\n",
    "    # recursive step\n",
    "    if a >= b:\n",
    "        return gcd(a % b, b)\n",
    "    else:\n",
    "        return gcd(a, b % a)\n",
    "\n",
    "num1 = random.randint(0,1000)\n",
    "num2 = random.randint(0,1000)\n",
    "\n",
    "print(\"Numbers being compared:\", num1, \"&\", num2)\n",
    "print(\"The greatest common divisor between\", num1, \"&\", num2, \"is:\")\n",
    "gcd(num1, num2)"
   ]
  },
  {
   "attachments": {},
   "cell_type": "markdown",
   "metadata": {},
   "source": [
    "1. The function starts by defining a base case where `gcd(a, b)` is equal to `a` if `b` is 0, and `b` if `a` is 0. This is because the GCD of a number and 0 is always the number itself.\n",
    "2. The next step is the recursive step, where the function calls itself with the arguments `(a % b, b)` if `a` is greater than or equal to `b`, or `(a, b % a)` if `b` is greater than `a`. This step is based on the Euclidean algorithm, which states that the GCD of two numbers `a` and `b` is the same as the GCD of `b` and the remainder of `a` divided by `b` (i.e. `a % b`).\n",
    "3. This recursive step continues until the base case is reached, at which point the function returns the GCD of `a` and `b`."
   ]
  },
  {
   "attachments": {},
   "cell_type": "markdown",
   "metadata": {},
   "source": [
    "**Binary Search Hacks**"
   ]
  },
  {
   "cell_type": "code",
   "execution_count": 31,
   "metadata": {},
   "outputs": [
    {
     "name": "stdout",
     "output_type": "stream",
     "text": [
      "Element is present at index 1\n"
     ]
    }
   ],
   "source": [
    "def binary_search(array, x):\n",
    "  low = 0\n",
    "  high = len(array) - 1\n",
    "  \n",
    "  while low <= high:\n",
    "    mid = low + (high - low) // 2\n",
    "\n",
    "    if array[mid] == x:\n",
    "      return mid\n",
    "    elif array[mid] < x:\n",
    "      low = mid + 1\n",
    "    else:\n",
    "      high = mid - 1\n",
    "\n",
    "  return -1\n",
    "\n",
    "array = [3, 4, 5, 6, 7, 8, 9]\n",
    "x = 4\n",
    "\n",
    "result = binary_search(array, x)\n",
    "\n",
    "if result != -1:\n",
    "  print(\"Element is present at index \" + str(result))\n",
    "else:\n",
    "  print(\"Element is not present in the array\")\n"
   ]
  },
  {
   "attachments": {},
   "cell_type": "markdown",
   "metadata": {},
   "source": [
    "This implementation follows the steps outlined in the previous section:\n",
    "\n",
    "1. It initializes the `low` and `high` pointers to the start and end of the array, respectively.\n",
    "2. It uses a `while` loop to iterate until the `low` and `high` pointers meet each other.\n",
    "3. In each iteration, it finds the middle element of the current subarray (defined by the `low` and `high` pointers) and compares it to the target `x`.\n",
    "4. If the middle element is equal to `x`, it returns the index of the middle element.\n",
    "5. If `x` is greater than the middle element, it updates the `low` pointer to be the element immediately after the middle element, so that the search will continue on the right (greater) half of the array.\n",
    "6. If `x` is smaller than the middle element, it updates the `high` pointer to be the element immediately before the middle element, so that the search will continue on the left (lower) half of the array.\n",
    "7. If the `while` loop completes without finding `x`, it returns -1 to indicate that `x` is not present in the array.\n",
    "\n",
    "\n"
   ]
  }
 ],
 "metadata": {
  "kernelspec": {
   "display_name": "Python 3.9.12",
   "language": "python",
   "name": "python3"
  },
  "language_info": {
   "codemirror_mode": {
    "name": "ipython",
    "version": 3
   },
   "file_extension": ".py",
   "mimetype": "text/x-python",
   "name": "python",
   "nbconvert_exporter": "python",
   "pygments_lexer": "ipython3",
   "version": "3.9.12"
  },
  "orig_nbformat": 4,
  "vscode": {
   "interpreter": {
    "hash": "61a57a4b5406d2de388e2f91097d4e4bcd7d5f4a46f53a795aa28a02eed27fc5"
   }
  }
 },
 "nbformat": 4,
 "nbformat_minor": 2
}
