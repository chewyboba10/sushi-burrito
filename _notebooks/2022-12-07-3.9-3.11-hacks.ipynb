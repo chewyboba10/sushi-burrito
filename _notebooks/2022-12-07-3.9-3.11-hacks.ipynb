{
 "cells": [
  {
   "attachments": {},
   "cell_type": "markdown",
   "metadata": {},
   "source": [
    "# 3.9 & 3.11 Notes and Hacks\n",
    "\n",
    "- toc: true \n",
    "- badges: true\n",
    "- comments: true\n",
    "- categories: [jupyter]\n",
    "- author: Evan Aparri\n",
    "- permalink: /unit3/sections9&11hacks"
   ]
  },
  {
   "attachments": {},
   "cell_type": "markdown",
   "metadata": {},
   "source": [
    "**Hacks**"
   ]
  },
  {
   "cell_type": "code",
   "execution_count": 4,
   "metadata": {},
   "outputs": [
    {
     "ename": "ZeroDivisionError",
     "evalue": "integer division or modulo by zero",
     "output_type": "error",
     "traceback": [
      "\u001b[0;31m---------------------------------------------------------------------------\u001b[0m",
      "\u001b[0;31mZeroDivisionError\u001b[0m                         Traceback (most recent call last)",
      "\u001b[1;32m/home/chewyboba10/vscode/sushi-burrito/_notebooks/2022-12-07-3.9-3.11-hacks.ipynb Cell 3\u001b[0m in \u001b[0;36m<cell line: 29>\u001b[0;34m()\u001b[0m\n\u001b[1;32m     <a href='vscode-notebook-cell://wsl%2Bubuntu/home/chewyboba10/vscode/sushi-burrito/_notebooks/2022-12-07-3.9-3.11-hacks.ipynb#W3sdnNjb2RlLXJlbW90ZQ%3D%3D?line=25'>26</a>\u001b[0m     \u001b[39m# Return a as the result\u001b[39;00m\n\u001b[1;32m     <a href='vscode-notebook-cell://wsl%2Bubuntu/home/chewyboba10/vscode/sushi-burrito/_notebooks/2022-12-07-3.9-3.11-hacks.ipynb#W3sdnNjb2RlLXJlbW90ZQ%3D%3D?line=26'>27</a>\u001b[0m     \u001b[39mreturn\u001b[39;00m a\n\u001b[0;32m---> <a href='vscode-notebook-cell://wsl%2Bubuntu/home/chewyboba10/vscode/sushi-burrito/_notebooks/2022-12-07-3.9-3.11-hacks.ipynb#W3sdnNjb2RlLXJlbW90ZQ%3D%3D?line=28'>29</a>\u001b[0m gcd(\u001b[39m15\u001b[39;49m, \u001b[39m10\u001b[39;49m)\n",
      "\u001b[1;32m/home/chewyboba10/vscode/sushi-burrito/_notebooks/2022-12-07-3.9-3.11-hacks.ipynb Cell 3\u001b[0m in \u001b[0;36mgcd\u001b[0;34m(a, b)\u001b[0m\n\u001b[1;32m     <a href='vscode-notebook-cell://wsl%2Bubuntu/home/chewyboba10/vscode/sushi-burrito/_notebooks/2022-12-07-3.9-3.11-hacks.ipynb#W3sdnNjb2RlLXJlbW90ZQ%3D%3D?line=20'>21</a>\u001b[0m     b \u001b[39m=\u001b[39m remainder\n\u001b[1;32m     <a href='vscode-notebook-cell://wsl%2Bubuntu/home/chewyboba10/vscode/sushi-burrito/_notebooks/2022-12-07-3.9-3.11-hacks.ipynb#W3sdnNjb2RlLXJlbW90ZQ%3D%3D?line=22'>23</a>\u001b[0m     \u001b[39m# Update the remainder\u001b[39;00m\n\u001b[0;32m---> <a href='vscode-notebook-cell://wsl%2Bubuntu/home/chewyboba10/vscode/sushi-burrito/_notebooks/2022-12-07-3.9-3.11-hacks.ipynb#W3sdnNjb2RlLXJlbW90ZQ%3D%3D?line=23'>24</a>\u001b[0m     remainder \u001b[39m=\u001b[39m a \u001b[39m%\u001b[39;49m b\n\u001b[1;32m     <a href='vscode-notebook-cell://wsl%2Bubuntu/home/chewyboba10/vscode/sushi-burrito/_notebooks/2022-12-07-3.9-3.11-hacks.ipynb#W3sdnNjb2RlLXJlbW90ZQ%3D%3D?line=25'>26</a>\u001b[0m \u001b[39m# Return a as the result\u001b[39;00m\n\u001b[1;32m     <a href='vscode-notebook-cell://wsl%2Bubuntu/home/chewyboba10/vscode/sushi-burrito/_notebooks/2022-12-07-3.9-3.11-hacks.ipynb#W3sdnNjb2RlLXJlbW90ZQ%3D%3D?line=26'>27</a>\u001b[0m \u001b[39mreturn\u001b[39;00m a\n",
      "\u001b[0;31mZeroDivisionError\u001b[0m: integer division or modulo by zero"
     ]
    }
   ],
   "source": [
    "def gcd(a, b):\n",
    "    # Check if a is greater than b\n",
    "    if a > b:\n",
    "        # Swap the values of a and b\n",
    "        a, b = b, a\n",
    "    \n",
    "    # Check if b is equal to 0\n",
    "    if b == 0:\n",
    "        # Return a as the result\n",
    "        return a\n",
    "    \n",
    "    # Initialize the remainder\n",
    "    remainder = a % b\n",
    "    \n",
    "    # Use a while loop to repeatedly apply the Euclidean algorithm\n",
    "    while b != 0:\n",
    "        # Set a equal to b\n",
    "        a = b\n",
    "        \n",
    "        # Set b equal to the remainder\n",
    "        b = remainder\n",
    "        \n",
    "        # Update the remainder\n",
    "        remainder = a % b\n",
    "    \n",
    "    # Return a as the result\n",
    "    return a\n",
    "\n",
    "gcd(15, 10)"
   ]
  }
 ],
 "metadata": {
  "kernelspec": {
   "display_name": "Python 3.9.12",
   "language": "python",
   "name": "python3"
  },
  "language_info": {
   "codemirror_mode": {
    "name": "ipython",
    "version": 3
   },
   "file_extension": ".py",
   "mimetype": "text/x-python",
   "name": "python",
   "nbconvert_exporter": "python",
   "pygments_lexer": "ipython3",
   "version": "3.9.12 (main, Apr  5 2022, 06:56:58) \n[GCC 7.5.0]"
  },
  "orig_nbformat": 4,
  "vscode": {
   "interpreter": {
    "hash": "61a57a4b5406d2de388e2f91097d4e4bcd7d5f4a46f53a795aa28a02eed27fc5"
   }
  }
 },
 "nbformat": 4,
 "nbformat_minor": 2
}
