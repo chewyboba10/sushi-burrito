{
 "cells": [
  {
   "cell_type": "markdown",
   "metadata": {},
   "source": [
    "# Project Video\n",
    "> Here is our team project video and what we have been doing as a team\n",
    "\n",
    "- toc: true\n",
    "- layout: post\n",
    "- description: Here is information on our team's project progress and what each member has been doing\n",
    "- categories: [T1, Notes]\n",
    "- title: Project Video\n",
    "- author: Evan Aparri\n",
    "- show_tags: true\n",
    "- comments: true"
   ]
  },
  {
   "cell_type": "markdown",
   "metadata": {},
   "source": [
    "# Video Transcript"
   ]
  },
  {
   "cell_type": "markdown",
   "metadata": {},
   "source": [
    "<html>\n",
    "<head>\n",
    "<meta name=\"viewport\" content=\"width=device-width, initial-scale=1\">\n",
    "<style>\n",
    ".collapsible {\n",
    "  background-color: #777;\n",
    "  color: white;\n",
    "  cursor: pointer;\n",
    "  padding: 18px;\n",
    "  width: 100%;\n",
    "  border: none;\n",
    "  text-align: left;\n",
    "  outline: none;\n",
    "  font-size: 15px;\n",
    "}\n",
    "\n",
    ".active, .collapsible:hover {\n",
    "  background-color: #555;\n",
    "}\n",
    "\n",
    ".content {\n",
    "  padding: 0 18px;\n",
    "  display: none;\n",
    "  overflow: hidden;\n",
    "  background-color: #f1f1f1;\n",
    "}\n",
    "</style>\n",
    "</head>\n",
    "<body>\n",
    "\n",
    "<h2>Collapsibles</h2>\n",
    "\n",
    "<p>A Collapsible:</p>\n",
    "<button type=\"button\" class=\"collapsible\">Open Collapsible</button>\n",
    "<div class=\"content\">\n",
    "  <p>\n",
    "  Hi my name is Evan Aparri and I am the DevOps of Frost. This week I changed the nginx configuration file to add PUT in places specified by Mr. Mortenson on Slack. (SWITCH TO NGINX FILE) PUT requests allow us to create resources in our project. For example, our Backend Developer, Alex, can make it so we could use PUT to create new accounts in order to keep track of our game's attempts done by different people. Alex has found a different way to do create users, and their info can be viewed using GET in our website(SWITCH TO API), but this user creation is not without its problems, which will be shown by our Frontend Developer, Haseeb. (SWITCH TO VSCODE)But as you can see, he has been making much progress in the creation of the API for users and score tracking in our flask repository. Alex will be going into more detail in the API later in the video. Our Scrum Master will now show us what our project is and its purpose.\n",
    "  \n",
    "\n",
    "  </p>\n",
    "</div>"
   ]
  },
  {
   "cell_type": "markdown",
   "metadata": {},
   "source": [
    "<style>\n",
    "    body {\n",
    "  padding: 20px;\n",
    "  color: #333;\n",
    "  background-color: lightblue;\n",
    "}\n",
    ".plus-minus:after,\n",
    ".plus-minus.collapsed:after {\n",
    "  display: inline-block;\n",
    "  width: 1em;\n",
    "  text-align: center;\n",
    "  position: relative;\n",
    "}\n",
    ".plus-minus:after {\n",
    "  content:\"-\";\n",
    "  top: -1px;\n",
    "}\n",
    ".plus-minus.collapsed:after {\n",
    "  content:\"+\";\n",
    "  top: 0;\n",
    "}\n",
    "</style>\n",
    "\n",
    "<body>\n",
    "<div>\n",
    "<a class=\"btn btn-primary plus-minus\" data-toggle=\"collapse\" href=\"#collapseExample1\" aria-expanded=\"true\" aria-controls=\"collapseExample1\">\n",
    "  Link with href\n",
    "</a> \n",
    "\n",
    "<div class=\"collapse in\" id=\"collapseExample1\">\n",
    "me\n",
    "</div>\n",
    "<br/>\n",
    "<button class=\"btn btn-primary plus-minus collapsed\" type=\"button\" data-toggle=\"collapse\" data-target=\"#collapseExample2\" aria-expanded=\"false\" aria-controls=\"collapseExample2\">\n",
    "  Button with data-target\n",
    "</button>\n",
    "<div class=\"collapse\" id=\"collapseExample2\">\n",
    "  me2\n",
    "</div>\n",
    "\n",
    "\n",
    "<br/>\n",
    "<span class=\"btn btn-primary plus-minus collapsed\" type=\"button\" data-toggle=\"collapse\" data-target=\"#collapseExample3\" aria-expanded=\"false\" aria-controls=\"collapseExample3\">\n",
    "  Button with data-target\n",
    "</span>\n",
    "<div class=\"collapse\" id=\"collapseExample3\">\n",
    "  me3\n",
    "</div>\n",
    "</div>\n",
    "</body>"
   ]
  }
 ],
 "metadata": {
  "kernelspec": {
   "display_name": "Python 3.9.12",
   "language": "python",
   "name": "python3"
  },
  "language_info": {
   "codemirror_mode": {
    "name": "ipython",
    "version": 3
   },
   "file_extension": ".py",
   "mimetype": "text/x-python",
   "name": "python",
   "nbconvert_exporter": "python",
   "pygments_lexer": "ipython3",
   "version": "3.9.12"
  },
  "orig_nbformat": 4,
  "vscode": {
   "interpreter": {
    "hash": "61a57a4b5406d2de388e2f91097d4e4bcd7d5f4a46f53a795aa28a02eed27fc5"
   }
  }
 },
 "nbformat": 4,
 "nbformat_minor": 2
}
