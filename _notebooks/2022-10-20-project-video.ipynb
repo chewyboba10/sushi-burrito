{
 "cells": [
  {
   "cell_type": "markdown",
   "metadata": {},
   "source": [
    "# Project Video\n",
    "> Here is our team project video and what we have been doing as a team\n",
    "\n",
    "- toc: true\n",
    "- layout: post\n",
    "- description: Here is information on our team's project progress and what each member has been doing\n",
    "- categories: [T1, Notes]\n",
    "- title: Project Video\n",
    "- author: Evan Aparri\n",
    "- show_tags: true\n",
    "- comments: true"
   ]
  },
  {
   "cell_type": "code",
   "execution_count": 3,
   "metadata": {},
   "outputs": [
    {
     "ename": "SyntaxError",
     "evalue": "invalid syntax (2093813918.py, line 1)",
     "output_type": "error",
     "traceback": [
      "\u001b[0;36m  Input \u001b[0;32mIn [3]\u001b[0;36m\u001b[0m\n\u001b[0;31m    <div class=\"cell border-box-sizing text_cell rendered\"><div class=\"inner_cell\">\u001b[0m\n\u001b[0m    ^\u001b[0m\n\u001b[0;31mSyntaxError\u001b[0m\u001b[0;31m:\u001b[0m invalid syntax\n"
     ]
    }
   ],
   "source": []
  },
  {
   "cell_type": "markdown",
   "metadata": {},
   "source": [
    "# Video Transcript"
   ]
  },
  {
   "cell_type": "markdown",
   "metadata": {},
   "source": [
    "<html>\n",
    "<head>\n",
    "<meta name=\"viewport\" content=\"width=device-width, initial-scale=1\">\n",
    "<style>\n",
    ".collapsible {\n",
    "  background-color: #777;\n",
    "  color: white;\n",
    "  cursor: pointer;\n",
    "  padding: 18px;\n",
    "  width: 100%;\n",
    "  border: none;\n",
    "  text-align: left;\n",
    "  outline: none;\n",
    "  font-size: 15px;\n",
    "}\n",
    "\n",
    ".active, .collapsible:hover {\n",
    "  background-color: #555;\n",
    "}\n",
    "\n",
    ".content {\n",
    "  padding: 0 18px;\n",
    "  display: none;\n",
    "  overflow: hidden;\n",
    "  background-color: #f1f1f1;\n",
    "}\n",
    "</style>\n",
    "</head>\n",
    "<body>\n",
    "\n",
    "<h2>Collapsibles</h2>\n",
    "\n",
    "<p>A Collapsible:</p>\n",
    "<button type=\"button\" class=\"collapsible\">Open Collapsible</button>\n",
    "<div class=\"content\">\n",
    "  <p>\n",
    "  Hi my name is Evan Aparri and I am Frost's DevOps. This week I changed the nginx configuration file to add PUT in places specified by Mr. Mortenson on Slack. This ensure that we could create resources in our project. For example, our Backend Developer, Alex, can make it so we could use PUT to create new accounts in order to keep track of our game's attempts done by different people. Alex has found a different way to do create users, and their info can be viewed using GET, but it is not without its problems, which will be shown by our Frontend Developer, Haseeb. But as you can see, he has been making much progress in the creation of the API for users and score tracking. Alex will be going into more detail in the API later in the video. Our Scrum Master will now show us what our project is and its purpose.\n",
    "  \n",
    "\n",
    "  </p>\n",
    "</div>"
   ]
  }
 ],
 "metadata": {
  "kernelspec": {
   "display_name": "Python 3.9.12",
   "language": "python",
   "name": "python3"
  },
  "language_info": {
   "codemirror_mode": {
    "name": "ipython",
    "version": 3
   },
   "file_extension": ".py",
   "mimetype": "text/x-python",
   "name": "python",
   "nbconvert_exporter": "python",
   "pygments_lexer": "ipython3",
   "version": "3.9.12"
  },
  "orig_nbformat": 4,
  "vscode": {
   "interpreter": {
    "hash": "61a57a4b5406d2de388e2f91097d4e4bcd7d5f4a46f53a795aa28a02eed27fc5"
   }
  }
 },
 "nbformat": 4,
 "nbformat_minor": 2
}
