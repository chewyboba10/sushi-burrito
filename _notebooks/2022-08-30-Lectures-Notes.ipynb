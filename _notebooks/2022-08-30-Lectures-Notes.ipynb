{
 "cells": [
  {
   "cell_type": "markdown",
   "metadata": {},
   "source": [
    "# Lecture Notes - Lists, Dictionaries, Iteration\n",
    "> What Lists, Dictionaries, and Iterations are and how to use them\n",
    "\n",
    "- toc: true\n",
    "- layout: post\n",
    "- description: Lecture Notes August 30, 2022\n",
    "- categories: [T1, Notes, Week 2]\n",
    "- title: Lecture Notes - Lists, Dictionaries, Iteration\n",
    "- author: Evan Aparri\n",
    "- show_tags: true\n",
    "- comments: true\n",
    "\n",
    "# Lecture 8/30/22\n",
    "\n",
    "## Purpose of List and Dictionary\n",
    "\n",
    "Lists and Dictionaries are used to collect information"
   ]
  },
  {
   "cell_type": "markdown",
   "metadata": {},
   "source": [
    "### Lists\n",
    "Starts with square brackets [], then list the values, quote each value, with commas after each variable"
   ]
  },
  {
   "cell_type": "code",
   "execution_count": null,
   "metadata": {},
   "outputs": [],
   "source": [
    "list = [1, 2, 3, 4]\n",
    "print(\"list\", list, type(list), \"length\", len(list))\n",
    "print('- list[3]', list[3], type(list[3]))\n",
    "\n",
    "langs = [\"Python\", \"JavaScript\", \"Java\", \"bash\"]\n",
    "print(\"langs\", langs, type(langs))\n",
    "print(\"- langs[0]\", langs[0], type(langs[0]))"
   ]
  },
  {
   "cell_type": "code",
   "execution_count": null,
   "metadata": {},
   "outputs": [],
   "source": [
    "name = \"Evan\"\n",
    "print(\"What is the value of variable name:\", name)"
   ]
  },
  {
   "cell_type": "markdown",
   "metadata": {},
   "source": [
    "Notes can be made this way."
   ]
  },
  {
   "cell_type": "markdown",
   "metadata": {},
   "source": [
    "### Dictionary\n",
    "Starts with squiggly brackets {}\n",
    "Define data patterns"
   ]
  },
  {
   "cell_type": "markdown",
   "metadata": {},
   "source": [
    "# A list of dictionaries"
   ]
  },
  {
   "cell_type": "code",
   "execution_count": null,
   "metadata": {},
   "outputs": [],
   "source": [
    "# Define an empty List called InfoDb\n",
    "InfoDb = []\n",
    "\n",
    "# Append to List a Dictionary of key/values related to a person and cars\n",
    "InfoDb.append({\n",
    "    \"FirstName\": \"Evan\",\n",
    "    \"LastName\": \"Aparri\",\n",
    "    \"DOB\": \"November 10, 2005\",\n",
    "    \"Residence\": \"San Diego\",\n",
    "    \"Email\": \"evanaparri@gmail.com\",\n",
    "    \"Owns_Cars\": \"none\",\n",
    "    \"Hobbies\": [\"sleeping\"]\n",
    "})\n",
    "\n",
    "print(InfoDb)\n",
    "\n",
    "# Append to List a 2nd Dictionary of key/values\n",
    "InfoDb.append({\n",
    "    \"FirstName\": \"Sunny\",\n",
    "    \"LastName\": \"Naidu\",\n",
    "    \"DOB\": \"August 2\",\n",
    "    \"Residence\": \"Temecula\",\n",
    "    \"Email\": \"snaidu@powayusd.com\",\n",
    "    \"Owns_Cars\": \"4Runner\",\n",
    "    \"Hobbies\": [\"eating\"]\n",
    "})\n",
    "\n",
    "print()\n",
    "print()\n",
    "\n",
    "\n",
    "# Print the data structure\n",
    "print(InfoDb)"
   ]
  },
  {
   "cell_type": "markdown",
   "metadata": {},
   "source": [
    "## Formatting output of List/Dictionary\n",
    "\n"
   ]
  },
  {
   "cell_type": "code",
   "execution_count": null,
   "metadata": {
    "vscode": {
     "languageId": "html"
    }
   },
   "outputs": [],
   "source": []
  }
 ],
 "metadata": {
  "kernelspec": {
   "display_name": "Python 3.8.10 64-bit",
   "language": "python",
   "name": "python3"
  },
  "language_info": {
   "name": "python",
   "version": "3.8.10"
  },
  "orig_nbformat": 4,
  "vscode": {
   "interpreter": {
    "hash": "916dbcbb3f70747c44a77c7bcd40155683ae19c65e1c03b4aa3499c5328201f1"
   }
  }
 },
 "nbformat": 4,
 "nbformat_minor": 2
}
