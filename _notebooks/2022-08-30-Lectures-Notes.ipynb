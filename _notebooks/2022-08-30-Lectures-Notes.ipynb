{
 "cells": [
  {
   "cell_type": "markdown",
   "metadata": {},
   "source": [
    "# Lecture Notes - Lists, Dictionaries, Iteration\n",
    "> What Lists, Dictionaries, and Iterations are and how to use them\n",
    "\n",
    "- toc: true\n",
    "- layout: post\n",
    "- description: Lecture Notes August 30, 2022\n",
    "- categories: [T1, Notes, Week 2]\n",
    "- title: Lecture Notes - Lists, Dictionaries, Iteration\n",
    "- author: Evan Aparri\n",
    "- show_tags: true\n",
    "- comments: true\n",
    "\n",
    "# Lecture 8/30/22\n",
    "\n",
    "## Purpose of List and Dictionary\n",
    "\n",
    "Lists and Dictionaries are used to collect information"
   ]
  },
  {
   "cell_type": "markdown",
   "metadata": {},
   "source": [
    "### Lists\n",
    "Starts with square brackets [], then list the values, quote each value, with commas after each variable"
   ]
  },
  {
   "cell_type": "code",
   "execution_count": 3,
   "metadata": {},
   "outputs": [
    {
     "name": "stdout",
     "output_type": "stream",
     "text": [
      "list [1, 2, 3, 4] <class 'list'> length 4\n",
      "- list[3] 4 <class 'int'>\n",
      "langs ['Python', 'JavaScript', 'Java', 'bash'] <class 'list'>\n",
      "- langs[0] Python <class 'str'>\n"
     ]
    }
   ],
   "source": [
    "list = [1, 2, 3, 4]\n",
    "print(\"list\", list, type(list), \"length\", len(list))\n",
    "print('- list[3]', list[3], type(list[3]))\n",
    "\n",
    "langs = [\"Python\", \"JavaScript\", \"Java\", \"bash\"]\n",
    "print(\"langs\", langs, type(langs))\n",
    "print(\"- langs[0]\", langs[0], type(langs[0]))"
   ]
  },
  {
   "cell_type": "code",
   "execution_count": 4,
   "metadata": {},
   "outputs": [
    {
     "name": "stdout",
     "output_type": "stream",
     "text": [
      "What is the value of variable name: Evan\n"
     ]
    }
   ],
   "source": [
    "name = \"Evan\"\n",
    "print(\"What is the value of variable name:\", name)"
   ]
  },
  {
   "cell_type": "markdown",
   "metadata": {},
   "source": [
    "Notes can be made this way."
   ]
  },
  {
   "cell_type": "markdown",
   "metadata": {},
   "source": [
    "### Dictionary\n",
    "Starts with squiggly brackets {}\n",
    "Define data patterns"
   ]
  },
  {
   "cell_type": "markdown",
   "metadata": {},
   "source": [
    "# A list of dictionaries"
   ]
  },
  {
   "cell_type": "code",
   "execution_count": 2,
   "metadata": {},
   "outputs": [
    {
     "name": "stdout",
     "output_type": "stream",
     "text": [
      "[{'FirstName': 'Evan', 'LastName': 'Aparri', 'DOB': 'November 10, 2005', 'Residence': 'San Diego', 'Email': 'evanaparri@gmail.com', 'Owns_Cars': 'none', 'Hobbies': ['sleeping']}]\n",
      "\n",
      "\n",
      "[{'FirstName': 'Evan', 'LastName': 'Aparri', 'DOB': 'November 10, 2005', 'Residence': 'San Diego', 'Email': 'evanaparri@gmail.com', 'Owns_Cars': 'none', 'Hobbies': ['sleeping']}, {'FirstName': 'Sunny', 'LastName': 'Naidu', 'DOB': 'August 2', 'Residence': 'Temecula', 'Email': 'snaidu@powayusd.com', 'Owns_Cars': '4Runner', 'Hobbies': ['eating']}]\n"
     ]
    }
   ],
   "source": [
    "# Define an empty List called InfoDb\n",
    "InfoDb = []\n",
    "\n",
    "# Append to List a Dictionary of key/values related to a person and cars\n",
    "InfoDb.append({\n",
    "    \"FirstName\": \"Evan\",\n",
    "    \"LastName\": \"Aparri\",\n",
    "    \"DOB\": \"November 10, 2005\",\n",
    "    \"Residence\": \"San Diego\",\n",
    "    \"Email\": \"evanaparri@gmail.com\",\n",
    "    \"Owns_Cars\": \"none\",\n",
    "    \"Hobbies\": [\"sleeping\"]\n",
    "})\n",
    "\n",
    "print(InfoDb)\n",
    "\n",
    "# Append to List a 2nd Dictionary of key/values\n",
    "InfoDb.append({\n",
    "    \"FirstName\": \"Sunny\",\n",
    "    \"LastName\": \"Naidu\",\n",
    "    \"DOB\": \"August 2\",\n",
    "    \"Residence\": \"Temecula\",\n",
    "    \"Email\": \"snaidu@powayusd.com\",\n",
    "    \"Owns_Cars\": \"4Runner\",\n",
    "    \"Hobbies\": [\"eating\"]\n",
    "})\n",
    "\n",
    "print()\n",
    "print()\n",
    "\n",
    "\n",
    "# Print the data structure\n",
    "print(InfoDb)"
   ]
  },
  {
   "cell_type": "markdown",
   "metadata": {},
   "source": [
    "# Hacks\n",
    "\n",
    "## .append()\n",
    "\n"
   ]
  },
  {
   "cell_type": "code",
   "execution_count": 8,
   "metadata": {},
   "outputs": [
    {
     "name": "stdout",
     "output_type": "stream",
     "text": [
      "[{'FirstName': 'John', 'LastName': 'Mortensen', 'Gender': 'Male', 'DOB': 'October 21', 'Residence': 'San Diego', 'Email': 'jmortensen@powayusd.com', 'Fav_Color': 'Unknown', 'Sleep_Schedule': 'Unknown', 'is_Teacher': True, 'Hobbies': ['Teaching', 'Programming'], 'Games': [], 'Owns_Cars': ['2015-Fusion', '2011-Ranger', '2003-Excursion', '1997-F350', '1969-Cadillac']}, {'FirstName': 'Evan', 'LastName': 'Aparri', 'Gender': 'Male', 'DOB': 'November 10, 2005', 'Residence': 'San Diego', 'Email': 'evanaparri@gmail.com', 'Fav_Color': 'Blue', 'Sleep_Schedule': '2am', 'is_Teacher': False, 'Hobbies': ['Running', 'Reading', 'Eating Asian Food/ Food Connoisseur', 'Sleeping', 'Homework', 'Programming'], 'Games': [], 'Owns_Cars': ['2001-Camry']}, {'FirstName': 'Alex', 'LastName': 'Lu', 'Gender': 'Male', 'DOB': 'November 29, 2006', 'Residence': 'San Diego', 'Email': 'maodou1258@gmail.com', 'Fav_Color': 'White', 'Sleep_Schedule': '1am', 'is_Teacher': False, 'Hobbies': ['Programming', 'Tennis', 'Reading', 'Sleeping'], 'Games': ['League of Legends', 'VALORANT', 'Minecraft', 'OSU'], 'Owns_Cars': []}]\n"
     ]
    }
   ],
   "source": [
    "InfoDb = []\n",
    "\n",
    "# InfoDB is a data structure with expected Keys and Values\n",
    "\n",
    "# Append to List a Dictionary of key/values related to a person\n",
    "\n",
    "InfoDb.append({\n",
    "    \"FirstName\": \"John\",\n",
    "    \"LastName\": \"Mortensen\",\n",
    "    \"Gender\": \"Male\",\n",
    "    \"DOB\": \"October 21\",\n",
    "    \"Residence\": \"San Diego\",\n",
    "    \"Email\": \"jmortensen@powayusd.com\",\n",
    "    \"Fav_Color\": \"Unknown\",\n",
    "    \"Sleep_Schedule\" : \"Unknown\",\n",
    "    \"is_Teacher\": True,\n",
    "    \"Hobbies\": [\"Teaching\", \"Programming\"],\n",
    "    \"Games\": [],\n",
    "    \"Owns_Cars\": [\"2015-Fusion\", \"2011-Ranger\", \"2003-Excursion\", \"1997-F350\", \"1969-Cadillac\"]\n",
    "})\n",
    "\n",
    "InfoDb.append({\n",
    "    \"FirstName\": \"Evan\",\n",
    "    \"LastName\": \"Aparri\",\n",
    "    \"Gender\": \"Male\",\n",
    "    \"DOB\": \"November 10, 2005\",\n",
    "    \"Residence\": \"San Diego\",\n",
    "    \"Email\": \"evanaparri@gmail.com\",\n",
    "    \"Fav_Color\": \"Blue\",\n",
    "    \"Sleep_Schedule\" : \"2am\",\n",
    "    \"is_Teacher\": False,\n",
    "    \"Hobbies\": [\"Running\", \"Reading\", \"Eating Asian Food/ Food Connoisseur\", \"Sleeping\", \"Homework\", \"Programming\"],\n",
    "    \"Games\": [],\n",
    "    \"Owns_Cars\": [\"2001-Camry\"] \n",
    "})\n",
    "\n",
    "InfoDb.append({\n",
    "    \"FirstName\": \"Alex\",\n",
    "    \"LastName\": \"Lu\",\n",
    "    \"Gender\": \"Male\",\n",
    "    \"DOB\": \"November 29, 2006\",\n",
    "    \"Residence\": \"San Diego\",\n",
    "    \"Email\": \"maodou1258@gmail.com\",\n",
    "    \"Fav_Color\": \"White\",\n",
    "    \"Sleep_Schedule\" : \"1am\",\n",
    "    \"is_Teacher\": False,\n",
    "    \"Hobbies\": [\"Programming\", \"Tennis\", \"Reading\", \"Sleeping\"],\n",
    "    \"Games\": [\"League of Legends\", \"VALORANT\", \"Minecraft\", \"OSU\"],\n",
    "    \"Owns_Cars\": []\n",
    "    \n",
    "})\n",
    "\n",
    "\n",
    "\n",
    "# Print the data structure\n",
    "print(InfoDb)"
   ]
  },
  {
   "cell_type": "markdown",
   "metadata": {},
   "source": [
    "## For loop"
   ]
  },
  {
   "cell_type": "code",
   "execution_count": 11,
   "metadata": {},
   "outputs": [
    {
     "name": "stdout",
     "output_type": "stream",
     "text": [
      "For loop output\n",
      "\n",
      "John Mortensen\n",
      "\t Residence: San Diego\n",
      "\t Birth Day: October 21\n",
      "\t Email: jmortensen@powayusd.com\n",
      "\t Favorite Color: Unknown\n",
      "\t Is Teacher?: True\n",
      "\t Hours of Sleep: Unknown\n",
      "\t Hobbies: Teaching, Programming\n",
      "\t Games: \n",
      "\t Cars Owned: 2015-Fusion, 2011-Ranger, 2003-Excursion, 1997-F350, 1969-Cadillac\n",
      "\n",
      "Evan Aparri\n",
      "\t Residence: San Diego\n",
      "\t Birth Day: November 10, 2005\n",
      "\t Email: evanaparri@gmail.com\n",
      "\t Favorite Color: Blue\n",
      "\t Is Teacher?: False\n",
      "\t Hours of Sleep: 2am\n",
      "\t Hobbies: Running, Reading, Eating Asian Food/ Food Connoisseur, Sleeping, Homework, Programming\n",
      "\t Games: \n",
      "\t Cars Owned: 2001-Camry\n",
      "\n",
      "Alex Lu\n",
      "\t Residence: San Diego\n",
      "\t Birth Day: November 29, 2006\n",
      "\t Email: maodou1258@gmail.com\n",
      "\t Favorite Color: White\n",
      "\t Is Teacher?: False\n",
      "\t Hours of Sleep: 1am\n",
      "\t Hobbies: Programming, Tennis, Reading, Sleeping\n",
      "\t Games: League of Legends, VALORANT, Minecraft, OSU\n",
      "\t Cars Owned: \n",
      "\n"
     ]
    }
   ],
   "source": [
    "def print_data(d_rec):\n",
    "    print(d_rec[\"FirstName\"], d_rec[\"LastName\"])  # using comma puts space between values\n",
    "    print(\"\\t\", \"Residence:\", d_rec[\"Residence\"]) # \\t is a tab indent\n",
    "    print(\"\\t\", \"Birth Day:\", d_rec[\"DOB\"])\n",
    "    print(\"\\t\", \"Email:\", d_rec[\"Email\"])\n",
    "    print(\"\\t\", \"Favorite Color:\", d_rec[\"Fav_Color\"])\n",
    "    print(\"\\t\", \"Is Teacher?:\", d_rec[\"is_Teacher\"])\n",
    "    print(\"\\t\", \"Hours of Sleep:\", d_rec[\"Sleep_Schedule\"])\n",
    "    print(\"\\t\", \"Hobbies: \" + \", \".join(d_rec[\"Hobbies\"]))\n",
    "    print(\"\\t\", \"Games: \" + \", \".join(d_rec[\"Games\"]))\n",
    "    print(\"\\t\", \"Cars Owned: \" + \", \".join(d_rec[\"Owns_Cars\"]))\n",
    "    print()\n",
    "\n",
    "\n",
    "# for loop algorithm iterates on length of InfoDb\n",
    "def for_loop():\n",
    "    print(\"For loop output\\n\")\n",
    "    for record in InfoDb:\n",
    "        print_data(record)\n",
    "\n",
    "for_loop()"
   ]
  },
  {
   "cell_type": "markdown",
   "metadata": {},
   "source": [
    "## While loop"
   ]
  },
  {
   "cell_type": "code",
   "execution_count": 14,
   "metadata": {},
   "outputs": [
    {
     "name": "stdout",
     "output_type": "stream",
     "text": [
      "While loop output\n",
      "\n",
      "John Mortensen\n",
      "\t Residence: San Diego\n",
      "\t Birth Day: October 21\n",
      "\t Email: jmortensen@powayusd.com\n",
      "\t Favorite Color: Unknown\n",
      "\t Is Teacher?: True\n",
      "\t Hours of Sleep: Unknown\n",
      "\t Hobbies: Teaching, Programming\n",
      "\t Games: \n",
      "\t Cars Owned: 2015-Fusion, 2011-Ranger, 2003-Excursion, 1997-F350, 1969-Cadillac\n",
      "\n",
      "Evan Aparri\n",
      "\t Residence: San Diego\n",
      "\t Birth Day: November 10, 2005\n",
      "\t Email: evanaparri@gmail.com\n",
      "\t Favorite Color: Blue\n",
      "\t Is Teacher?: False\n",
      "\t Hours of Sleep: 2am\n",
      "\t Hobbies: Running, Reading, Eating Asian Food/ Food Connoisseur, Sleeping, Homework, Programming\n",
      "\t Games: \n",
      "\t Cars Owned: 2001-Camry\n",
      "\n",
      "Alex Lu\n",
      "\t Residence: San Diego\n",
      "\t Birth Day: November 29, 2006\n",
      "\t Email: maodou1258@gmail.com\n",
      "\t Favorite Color: White\n",
      "\t Is Teacher?: False\n",
      "\t Hours of Sleep: 1am\n",
      "\t Hobbies: Programming, Tennis, Reading, Sleeping\n",
      "\t Games: League of Legends, VALORANT, Minecraft, OSU\n",
      "\t Cars Owned: \n",
      "\n"
     ]
    }
   ],
   "source": [
    "def while_loop():\n",
    "    print(\"While loop output\\n\")\n",
    "    i = 0\n",
    "    while i < len(InfoDb):\n",
    "        record = InfoDb[i]\n",
    "        print_data(record)\n",
    "        i += 1\n",
    "    return\n",
    "\n",
    "while_loop()"
   ]
  },
  {
   "cell_type": "markdown",
   "metadata": {},
   "source": [
    "## Printing in reverse"
   ]
  },
  {
   "cell_type": "code",
   "execution_count": 16,
   "metadata": {},
   "outputs": [
    {
     "name": "stdout",
     "output_type": "stream",
     "text": [
      "Reversed output of For loop:\n",
      "Alex Lu\n",
      "\t Residence: San Diego\n",
      "\t Birth Day: November 29, 2006\n",
      "\t Email: maodou1258@gmail.com\n",
      "\t Favorite Color: White\n",
      "\t Is Teacher?: False\n",
      "\t Hours of Sleep: 1am\n",
      "\t Hobbies: Programming, Tennis, Reading, Sleeping\n",
      "\t Games: League of Legends, VALORANT, Minecraft, OSU\n",
      "\t Cars Owned: \n",
      "\n",
      "Evan Aparri\n",
      "\t Residence: San Diego\n",
      "\t Birth Day: November 10, 2005\n",
      "\t Email: evanaparri@gmail.com\n",
      "\t Favorite Color: Blue\n",
      "\t Is Teacher?: False\n",
      "\t Hours of Sleep: 2am\n",
      "\t Hobbies: Running, Reading, Eating Asian Food/ Food Connoisseur, Sleeping, Homework, Programming\n",
      "\t Games: \n",
      "\t Cars Owned: 2001-Camry\n",
      "\n",
      "John Mortensen\n",
      "\t Residence: San Diego\n",
      "\t Birth Day: October 21\n",
      "\t Email: jmortensen@powayusd.com\n",
      "\t Favorite Color: Unknown\n",
      "\t Is Teacher?: True\n",
      "\t Hours of Sleep: Unknown\n",
      "\t Hobbies: Teaching, Programming\n",
      "\t Games: \n",
      "\t Cars Owned: 2015-Fusion, 2011-Ranger, 2003-Excursion, 1997-F350, 1969-Cadillac\n",
      "\n"
     ]
    }
   ],
   "source": [
    "def reversed_for_loop(arr):\n",
    "    print(\"Reversed output of For loop:\")\n",
    "    for i in arr[::-1]:\n",
    "        print_data(i)\n",
    "\n",
    "reversed_for_loop(InfoDb)"
   ]
  },
  {
   "cell_type": "markdown",
   "metadata": {},
   "source": [
    "## Recursion"
   ]
  },
  {
   "cell_type": "code",
   "execution_count": 17,
   "metadata": {},
   "outputs": [
    {
     "name": "stdout",
     "output_type": "stream",
     "text": [
      "Recursive loop output\n",
      "\n",
      "John Mortensen\n",
      "\t Residence: San Diego\n",
      "\t Birth Day: October 21\n",
      "\t Email: jmortensen@powayusd.com\n",
      "\t Favorite Color: Unknown\n",
      "\t Is Teacher?: True\n",
      "\t Hours of Sleep: Unknown\n",
      "\t Hobbies: Teaching, Programming\n",
      "\t Games: \n",
      "\t Cars Owned: 2015-Fusion, 2011-Ranger, 2003-Excursion, 1997-F350, 1969-Cadillac\n",
      "\n",
      "Evan Aparri\n",
      "\t Residence: San Diego\n",
      "\t Birth Day: November 10, 2005\n",
      "\t Email: evanaparri@gmail.com\n",
      "\t Favorite Color: Blue\n",
      "\t Is Teacher?: False\n",
      "\t Hours of Sleep: 2am\n",
      "\t Hobbies: Running, Reading, Eating Asian Food/ Food Connoisseur, Sleeping, Homework, Programming\n",
      "\t Games: \n",
      "\t Cars Owned: 2001-Camry\n",
      "\n",
      "Alex Lu\n",
      "\t Residence: San Diego\n",
      "\t Birth Day: November 29, 2006\n",
      "\t Email: maodou1258@gmail.com\n",
      "\t Favorite Color: White\n",
      "\t Is Teacher?: False\n",
      "\t Hours of Sleep: 1am\n",
      "\t Hobbies: Programming, Tennis, Reading, Sleeping\n",
      "\t Games: League of Legends, VALORANT, Minecraft, OSU\n",
      "\t Cars Owned: \n",
      "\n"
     ]
    }
   ],
   "source": [
    "def recursive_loop(i):\n",
    "    if i < len(InfoDb):\n",
    "        record = InfoDb[i]\n",
    "        print_data(record)\n",
    "        recursive_loop(i + 1)\n",
    "    return\n",
    "    \n",
    "print(\"Recursive loop output\\n\")\n",
    "recursive_loop(0)"
   ]
  },
  {
   "cell_type": "markdown",
   "metadata": {},
   "source": [
    "## Adding to the List using Input"
   ]
  },
  {
   "cell_type": "code",
   "execution_count": 21,
   "metadata": {},
   "outputs": [
    {
     "name": "stdout",
     "output_type": "stream",
     "text": [
      "hobbies? \n",
      "Games? \n",
      "{'FirstName': 'Haseeb', 'LastName': 'Beg', 'Gender': 'male', 'DOB': 'december sixth 2007', 'Residence': 'san diego', 'Email': 'mirzahbeg123@gmail.com', 'Fav_Color': 'blbue', 'Sleep_Schedule': '11pm', 'is_Teacher': False, 'Hobbies': ['sleep', 'none'], 'Games': ['minecraft', 'none'], 'Owns_Cars': 'none'}\n"
     ]
    }
   ],
   "source": [
    "def add_entry():\n",
    "    name = input(\"First and last name seperated by spaces: \").split()\n",
    "    gender = input(\"What is your gender? \")\n",
    "    birthdate = input(\"When were you born? \")\n",
    "    residence = input(\"City you live in? \")\n",
    "    email = input(\"email? \")\n",
    "    color = input(\"favorite color? \")\n",
    "    sleep = input(\"When do you go to bed? \")\n",
    "    is_teacher = bool_input(\"Are you a teacher? [yes/no] \")\n",
    "    hobbies = []\n",
    "    print(\"hobbies? \")\n",
    "    hobbies = multi_input(hobbies)\n",
    "    games = []\n",
    "    print(\"Games? \")\n",
    "    games = multi_input(games)\n",
    "    cars = input(\"What car(s) do you own? \")\n",
    "\n",
    "\n",
    "    entry = {\n",
    "    \"FirstName\": name[0],\n",
    "    \"LastName\": name[1],\n",
    "    \"Gender\": gender,\n",
    "    \"DOB\": birthdate,\n",
    "    \"Residence\": residence,\n",
    "    \"Email\": email,\n",
    "    \"Fav_Color\": color,\n",
    "    \"Sleep_Schedule\": sleep, \n",
    "    \"is_Teacher\": is_teacher,\n",
    "    \"Hobbies\": hobbies, \n",
    "    \"Games\" : games,\n",
    "    \"Owns_Cars\": cars\n",
    "    }\n",
    "    return entry\n",
    "\n",
    "def bool_input(prompt):\n",
    "    while True:\n",
    "        try:\n",
    "           return {\"yes\":True,\"no\":False}[input(prompt).lower()]\n",
    "        except KeyError:\n",
    "           print(\"Invalid input please enter yes or no\")\n",
    "\n",
    "def multi_input(arr):\n",
    "    i = 0\n",
    "    temp = \"\"\n",
    "    while temp != \"none\":\n",
    "        i+=1\n",
    "        temp = input(\"Please enter item number {0}, type none to proceede \".format(str(i)))\n",
    "        if temp.lower != \"none\":\n",
    "            arr.append(temp)\n",
    "    return arr\n",
    "    \n",
    "\n",
    "\n",
    "new_entry = add_entry()\n",
    "InfoDb.append(new_entry)\n",
    "print(InfoDb[-1])"
   ]
  },
  {
   "cell_type": "markdown",
   "metadata": {},
   "source": [
    "## Quiz"
   ]
  },
  {
   "cell_type": "code",
   "execution_count": 22,
   "metadata": {},
   "outputs": [
    {
     "name": "stdout",
     "output_type": "stream",
     "text": [
      "2 was correct!\n",
      "1 was correct!\n",
      "0 was incorrect, the correct answer was: 1\n",
      "undefined was correct!\n",
      "Congratulations, you got 75.00% on this quiz\n"
     ]
    }
   ],
   "source": [
    "Questions_Answers = {\n",
    "    \"What is 1 + 1 equal to?\" : [\"2\"],\n",
    "    \"What is 1 times 1 equal to?\" : [\"1\"],\n",
    "    \"What is 1 divided by 1 equal to?\" : [\"1\"],\n",
    "    \"What is 1 divided by 0 equal to?\" : [\"Undefined\", \"undefined\"]\n",
    "}\n",
    "\n",
    "def get_pair(dict):\n",
    "    return [q for q, a in dict.items()], [a for q, a in dict.items()]\n",
    "\n",
    "def percentage(x, y):\n",
    "\n",
    "        return '{0:.2f}'.format(100 * float(x)/float(y))\n",
    "\n",
    "correct = 0\n",
    "total = len(Questions_Answers)\n",
    "\n",
    "Questions_Answers_pairs = get_pair(Questions_Answers)\n",
    "\n",
    "for i in range(0,len(Questions_Answers_pairs[0])):\n",
    "    rsp = input(\"Question: \" + Questions_Answers_pairs[0][i])\n",
    "    if rsp in Questions_Answers_pairs[1][i]:\n",
    "        print(rsp + \" was correct!\")\n",
    "        correct+=1\n",
    "    else:\n",
    "        print(\"{0} was incorrect, the correct answer was: {1}\".format(rsp, \", \".join(Questions_Answers_pairs[1][i])))\n",
    "print(\"Congratulations, you got {0}% on this quiz\".format(percentage(correct,total)))"
   ]
  }
 ],
 "metadata": {
  "kernelspec": {
   "display_name": "Python 3.8.10 64-bit",
   "language": "python",
   "name": "python3"
  },
  "language_info": {
   "codemirror_mode": {
    "name": "ipython",
    "version": 3
   },
   "file_extension": ".py",
   "mimetype": "text/x-python",
   "name": "python",
   "nbconvert_exporter": "python",
   "pygments_lexer": "ipython3",
   "version": "3.8.10"
  },
  "orig_nbformat": 4,
  "vscode": {
   "interpreter": {
    "hash": "916dbcbb3f70747c44a77c7bcd40155683ae19c65e1c03b4aa3499c5328201f1"
   }
  }
 },
 "nbformat": 4,
 "nbformat_minor": 2
}
