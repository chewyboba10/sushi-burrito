{
 "cells": [
  {
   "attachments": {},
   "cell_type": "markdown",
   "metadata": {},
   "source": [
    "# Pandas - Mati & Caleb\n",
    "> This lesson introduces students to the Pandas library in Python for data analysis and manipulation, covering topics such as data loading, table creation, manipulation, and visualization using real-world examples.\n",
    "\n",
    "- toc: true \n",
    "- badges: true\n",
    "- comments: true\n",
    "- categories: [jupyter, lesson]"
   ]
  },
  {
   "attachments": {},
   "cell_type": "markdown",
   "metadata": {},
   "source": [
    "# before we start this portion of the lesson:\n",
    "check if you have pip installed since we are going to be installing some libraries today!!!!!!\n",
    "if you arnt sure if you have pip, check it by running this command:\n",
    "```zsh \n",
    "pip\n",
    "```\n",
    "if your terminal says \"command not found\" or something else on linux, run this:\n",
    "```zsh\n",
    "python3 -m ensurepip --default-pip\n",
    "```"
   ]
  },
  {
   "attachments": {},
   "cell_type": "markdown",
   "metadata": {},
   "source": [
    "# Overview:\n",
    "Pandas is a powerful tool in Python that is used for data analysis and manipulation. In this lesson, we will explore how to use Pandas to work with datasets, analyze them, and visualize the results.\n",
    "\n",
    "# Learning Objectives:\n",
    "By the end of this lesson, students should be able to:\n",
    "\n",
    "- Understand what Pandas is and why it is useful for data analysis\n",
    "- Load data into Pandas and create tables to store it\n",
    "- Use different functions in Pandas to manipulate data, such as filtering, sorting, and grouping\n",
    "- Visualize data using graphs and charts\n"
   ]
  },
  {
   "attachments": {},
   "cell_type": "markdown",
   "metadata": {},
   "source": [
    "## Question\n",
    "Who here has used numpy????\n",
    "\n",
    "###### (should be all odf you because all of you have used it in this class before. )"
   ]
  },
  {
   "attachments": {},
   "cell_type": "markdown",
   "metadata": {},
   "source": [
    "# what is pandas?\n",
    "\n",
    "\n",
    "![image](pandas.jpeg)\n",
    "\n",
    "no not this\n",
    "\n",
    "this:\n",
    "\n",
    "- Pandas is a Python library used for data analysis and manipulation.\n",
    "- it can handle different types of data, including CSV files and databases.\n",
    "- it also allows you to create tables to store and work with your data.\n",
    "- it has functions for filtering, sorting, and grouping data to make it easier to work with.\n",
    "- it also has tools for visualizing data with graphs and charts.\n",
    "- it is widely used in the industry for data analysis and is a valuable skill to learn.\n",
    "- companies that use Pandas include JPMorgan Chase, Google, NASA, the New York Times, and many others. "
   ]
  },
  {
   "attachments": {},
   "cell_type": "markdown",
   "metadata": {},
   "source": [
    "# Question #2 & 3:\n",
    "- which companies use pandas? \n",
    "- what is pandas?"
   ]
  },
  {
   "attachments": {},
   "cell_type": "markdown",
   "metadata": {},
   "source": [
    "# but why is pandas useful? \n",
    "- it can provides tools for handling and manipulating tabular data, which is a common format for storing and analyzing data.\n",
    "- it can handle different types of data, including CSV files and databases.\n",
    "- it allows you to perform tasks such as filtering, sorting, and grouping data, making it easier to analyze and work with.\n",
    "- it has functions for handling missing data and can fill in or remove missing values, which is important for accurate data analysis.\n",
    "- it also has tools for creating visualizations such as graphs and charts, making it easier to communicate insights from the data.\n",
    "- it is fast and efficient, even for large datasets, which is important for time-critical data analysis.\n",
    "- it is widely used in the industry and has a large community of users and developers, making it easy to find support and resources."
   ]
  },
  {
   "attachments": {},
   "cell_type": "markdown",
   "metadata": {},
   "source": [
    "# Question #4:\n",
    "- why is pandas useful? "
   ]
  },
  {
   "attachments": {},
   "cell_type": "markdown",
   "metadata": {},
   "source": [
    "# how do i flipping use it? its so hard, my puny brain cant understand it\n",
    "it is actually really simple\n",
    "\n",
    "here is numpy doing simple math:"
   ]
  },
  {
   "cell_type": "code",
   "execution_count": 1,
   "metadata": {},
   "outputs": [
    {
     "ename": "FileNotFoundError",
     "evalue": "[Errno 2] No such file or directory: 'yourcsvfileidcjustpickoneidiot.csv'",
     "output_type": "error",
     "traceback": [
      "\u001b[0;31m---------------------------------------------------------------------------\u001b[0m",
      "\u001b[0;31mFileNotFoundError\u001b[0m                         Traceback (most recent call last)",
      "\u001b[1;32m/home/chewyboba10/vscode/sushi-burrito/_notebooks/2023-04-24-pandas.ipynb Cell 10\u001b[0m in \u001b[0;36m<cell line: 5>\u001b[0;34m()\u001b[0m\n\u001b[1;32m      <a href='vscode-notebook-cell://wsl%2Bubuntu/home/chewyboba10/vscode/sushi-burrito/_notebooks/2023-04-24-pandas.ipynb#X12sdnNjb2RlLXJlbW90ZQ%3D%3D?line=0'>1</a>\u001b[0m \u001b[39m# dummy code, just like you.\u001b[39;00m\n\u001b[1;32m      <a href='vscode-notebook-cell://wsl%2Bubuntu/home/chewyboba10/vscode/sushi-burrito/_notebooks/2023-04-24-pandas.ipynb#X12sdnNjb2RlLXJlbW90ZQ%3D%3D?line=2'>3</a>\u001b[0m \u001b[39mimport\u001b[39;00m \u001b[39mpandas\u001b[39;00m \u001b[39mas\u001b[39;00m \u001b[39mpd\u001b[39;00m\n\u001b[0;32m----> <a href='vscode-notebook-cell://wsl%2Bubuntu/home/chewyboba10/vscode/sushi-burrito/_notebooks/2023-04-24-pandas.ipynb#X12sdnNjb2RlLXJlbW90ZQ%3D%3D?line=4'>5</a>\u001b[0m df \u001b[39m=\u001b[39m pd\u001b[39m.\u001b[39;49mread_csv(\u001b[39m'\u001b[39;49m\u001b[39myourcsvfileidcjustpickoneidiot.csv\u001b[39;49m\u001b[39m'\u001b[39;49m)\n\u001b[1;32m      <a href='vscode-notebook-cell://wsl%2Bubuntu/home/chewyboba10/vscode/sushi-burrito/_notebooks/2023-04-24-pandas.ipynb#X12sdnNjb2RlLXJlbW90ZQ%3D%3D?line=6'>7</a>\u001b[0m \u001b[39mprint\u001b[39m(df\u001b[39m.\u001b[39mhead())\n\u001b[1;32m      <a href='vscode-notebook-cell://wsl%2Bubuntu/home/chewyboba10/vscode/sushi-burrito/_notebooks/2023-04-24-pandas.ipynb#X12sdnNjb2RlLXJlbW90ZQ%3D%3D?line=8'>9</a>\u001b[0m \u001b[39mprint\u001b[39m(\u001b[39m\"\u001b[39m\u001b[39mAverage age:\u001b[39m\u001b[39m\"\u001b[39m, df[\u001b[39m'\u001b[39m\u001b[39mAge\u001b[39m\u001b[39m'\u001b[39m]\u001b[39m.\u001b[39mmean())\n",
      "File \u001b[0;32m/root/anaconda3/lib/python3.9/site-packages/pandas/util/_decorators.py:311\u001b[0m, in \u001b[0;36mdeprecate_nonkeyword_arguments.<locals>.decorate.<locals>.wrapper\u001b[0;34m(*args, **kwargs)\u001b[0m\n\u001b[1;32m    305\u001b[0m \u001b[39mif\u001b[39;00m \u001b[39mlen\u001b[39m(args) \u001b[39m>\u001b[39m num_allow_args:\n\u001b[1;32m    306\u001b[0m     warnings\u001b[39m.\u001b[39mwarn(\n\u001b[1;32m    307\u001b[0m         msg\u001b[39m.\u001b[39mformat(arguments\u001b[39m=\u001b[39marguments),\n\u001b[1;32m    308\u001b[0m         \u001b[39mFutureWarning\u001b[39;00m,\n\u001b[1;32m    309\u001b[0m         stacklevel\u001b[39m=\u001b[39mstacklevel,\n\u001b[1;32m    310\u001b[0m     )\n\u001b[0;32m--> 311\u001b[0m \u001b[39mreturn\u001b[39;00m func(\u001b[39m*\u001b[39;49margs, \u001b[39m*\u001b[39;49m\u001b[39m*\u001b[39;49mkwargs)\n",
      "File \u001b[0;32m/root/anaconda3/lib/python3.9/site-packages/pandas/io/parsers/readers.py:680\u001b[0m, in \u001b[0;36mread_csv\u001b[0;34m(filepath_or_buffer, sep, delimiter, header, names, index_col, usecols, squeeze, prefix, mangle_dupe_cols, dtype, engine, converters, true_values, false_values, skipinitialspace, skiprows, skipfooter, nrows, na_values, keep_default_na, na_filter, verbose, skip_blank_lines, parse_dates, infer_datetime_format, keep_date_col, date_parser, dayfirst, cache_dates, iterator, chunksize, compression, thousands, decimal, lineterminator, quotechar, quoting, doublequote, escapechar, comment, encoding, encoding_errors, dialect, error_bad_lines, warn_bad_lines, on_bad_lines, delim_whitespace, low_memory, memory_map, float_precision, storage_options)\u001b[0m\n\u001b[1;32m    665\u001b[0m kwds_defaults \u001b[39m=\u001b[39m _refine_defaults_read(\n\u001b[1;32m    666\u001b[0m     dialect,\n\u001b[1;32m    667\u001b[0m     delimiter,\n\u001b[0;32m   (...)\u001b[0m\n\u001b[1;32m    676\u001b[0m     defaults\u001b[39m=\u001b[39m{\u001b[39m\"\u001b[39m\u001b[39mdelimiter\u001b[39m\u001b[39m\"\u001b[39m: \u001b[39m\"\u001b[39m\u001b[39m,\u001b[39m\u001b[39m\"\u001b[39m},\n\u001b[1;32m    677\u001b[0m )\n\u001b[1;32m    678\u001b[0m kwds\u001b[39m.\u001b[39mupdate(kwds_defaults)\n\u001b[0;32m--> 680\u001b[0m \u001b[39mreturn\u001b[39;00m _read(filepath_or_buffer, kwds)\n",
      "File \u001b[0;32m/root/anaconda3/lib/python3.9/site-packages/pandas/io/parsers/readers.py:575\u001b[0m, in \u001b[0;36m_read\u001b[0;34m(filepath_or_buffer, kwds)\u001b[0m\n\u001b[1;32m    572\u001b[0m _validate_names(kwds\u001b[39m.\u001b[39mget(\u001b[39m\"\u001b[39m\u001b[39mnames\u001b[39m\u001b[39m\"\u001b[39m, \u001b[39mNone\u001b[39;00m))\n\u001b[1;32m    574\u001b[0m \u001b[39m# Create the parser.\u001b[39;00m\n\u001b[0;32m--> 575\u001b[0m parser \u001b[39m=\u001b[39m TextFileReader(filepath_or_buffer, \u001b[39m*\u001b[39;49m\u001b[39m*\u001b[39;49mkwds)\n\u001b[1;32m    577\u001b[0m \u001b[39mif\u001b[39;00m chunksize \u001b[39mor\u001b[39;00m iterator:\n\u001b[1;32m    578\u001b[0m     \u001b[39mreturn\u001b[39;00m parser\n",
      "File \u001b[0;32m/root/anaconda3/lib/python3.9/site-packages/pandas/io/parsers/readers.py:933\u001b[0m, in \u001b[0;36mTextFileReader.__init__\u001b[0;34m(self, f, engine, **kwds)\u001b[0m\n\u001b[1;32m    930\u001b[0m     \u001b[39mself\u001b[39m\u001b[39m.\u001b[39moptions[\u001b[39m\"\u001b[39m\u001b[39mhas_index_names\u001b[39m\u001b[39m\"\u001b[39m] \u001b[39m=\u001b[39m kwds[\u001b[39m\"\u001b[39m\u001b[39mhas_index_names\u001b[39m\u001b[39m\"\u001b[39m]\n\u001b[1;32m    932\u001b[0m \u001b[39mself\u001b[39m\u001b[39m.\u001b[39mhandles: IOHandles \u001b[39m|\u001b[39m \u001b[39mNone\u001b[39;00m \u001b[39m=\u001b[39m \u001b[39mNone\u001b[39;00m\n\u001b[0;32m--> 933\u001b[0m \u001b[39mself\u001b[39m\u001b[39m.\u001b[39m_engine \u001b[39m=\u001b[39m \u001b[39mself\u001b[39;49m\u001b[39m.\u001b[39;49m_make_engine(f, \u001b[39mself\u001b[39;49m\u001b[39m.\u001b[39;49mengine)\n",
      "File \u001b[0;32m/root/anaconda3/lib/python3.9/site-packages/pandas/io/parsers/readers.py:1217\u001b[0m, in \u001b[0;36mTextFileReader._make_engine\u001b[0;34m(self, f, engine)\u001b[0m\n\u001b[1;32m   1213\u001b[0m     mode \u001b[39m=\u001b[39m \u001b[39m\"\u001b[39m\u001b[39mrb\u001b[39m\u001b[39m\"\u001b[39m\n\u001b[1;32m   1214\u001b[0m \u001b[39m# error: No overload variant of \"get_handle\" matches argument types\u001b[39;00m\n\u001b[1;32m   1215\u001b[0m \u001b[39m# \"Union[str, PathLike[str], ReadCsvBuffer[bytes], ReadCsvBuffer[str]]\"\u001b[39;00m\n\u001b[1;32m   1216\u001b[0m \u001b[39m# , \"str\", \"bool\", \"Any\", \"Any\", \"Any\", \"Any\", \"Any\"\u001b[39;00m\n\u001b[0;32m-> 1217\u001b[0m \u001b[39mself\u001b[39m\u001b[39m.\u001b[39mhandles \u001b[39m=\u001b[39m get_handle(  \u001b[39m# type: ignore[call-overload]\u001b[39;49;00m\n\u001b[1;32m   1218\u001b[0m     f,\n\u001b[1;32m   1219\u001b[0m     mode,\n\u001b[1;32m   1220\u001b[0m     encoding\u001b[39m=\u001b[39;49m\u001b[39mself\u001b[39;49m\u001b[39m.\u001b[39;49moptions\u001b[39m.\u001b[39;49mget(\u001b[39m\"\u001b[39;49m\u001b[39mencoding\u001b[39;49m\u001b[39m\"\u001b[39;49m, \u001b[39mNone\u001b[39;49;00m),\n\u001b[1;32m   1221\u001b[0m     compression\u001b[39m=\u001b[39;49m\u001b[39mself\u001b[39;49m\u001b[39m.\u001b[39;49moptions\u001b[39m.\u001b[39;49mget(\u001b[39m\"\u001b[39;49m\u001b[39mcompression\u001b[39;49m\u001b[39m\"\u001b[39;49m, \u001b[39mNone\u001b[39;49;00m),\n\u001b[1;32m   1222\u001b[0m     memory_map\u001b[39m=\u001b[39;49m\u001b[39mself\u001b[39;49m\u001b[39m.\u001b[39;49moptions\u001b[39m.\u001b[39;49mget(\u001b[39m\"\u001b[39;49m\u001b[39mmemory_map\u001b[39;49m\u001b[39m\"\u001b[39;49m, \u001b[39mFalse\u001b[39;49;00m),\n\u001b[1;32m   1223\u001b[0m     is_text\u001b[39m=\u001b[39;49mis_text,\n\u001b[1;32m   1224\u001b[0m     errors\u001b[39m=\u001b[39;49m\u001b[39mself\u001b[39;49m\u001b[39m.\u001b[39;49moptions\u001b[39m.\u001b[39;49mget(\u001b[39m\"\u001b[39;49m\u001b[39mencoding_errors\u001b[39;49m\u001b[39m\"\u001b[39;49m, \u001b[39m\"\u001b[39;49m\u001b[39mstrict\u001b[39;49m\u001b[39m\"\u001b[39;49m),\n\u001b[1;32m   1225\u001b[0m     storage_options\u001b[39m=\u001b[39;49m\u001b[39mself\u001b[39;49m\u001b[39m.\u001b[39;49moptions\u001b[39m.\u001b[39;49mget(\u001b[39m\"\u001b[39;49m\u001b[39mstorage_options\u001b[39;49m\u001b[39m\"\u001b[39;49m, \u001b[39mNone\u001b[39;49;00m),\n\u001b[1;32m   1226\u001b[0m )\n\u001b[1;32m   1227\u001b[0m \u001b[39massert\u001b[39;00m \u001b[39mself\u001b[39m\u001b[39m.\u001b[39mhandles \u001b[39mis\u001b[39;00m \u001b[39mnot\u001b[39;00m \u001b[39mNone\u001b[39;00m\n\u001b[1;32m   1228\u001b[0m f \u001b[39m=\u001b[39m \u001b[39mself\u001b[39m\u001b[39m.\u001b[39mhandles\u001b[39m.\u001b[39mhandle\n",
      "File \u001b[0;32m/root/anaconda3/lib/python3.9/site-packages/pandas/io/common.py:789\u001b[0m, in \u001b[0;36mget_handle\u001b[0;34m(path_or_buf, mode, encoding, compression, memory_map, is_text, errors, storage_options)\u001b[0m\n\u001b[1;32m    784\u001b[0m \u001b[39melif\u001b[39;00m \u001b[39misinstance\u001b[39m(handle, \u001b[39mstr\u001b[39m):\n\u001b[1;32m    785\u001b[0m     \u001b[39m# Check whether the filename is to be opened in binary mode.\u001b[39;00m\n\u001b[1;32m    786\u001b[0m     \u001b[39m# Binary mode does not support 'encoding' and 'newline'.\u001b[39;00m\n\u001b[1;32m    787\u001b[0m     \u001b[39mif\u001b[39;00m ioargs\u001b[39m.\u001b[39mencoding \u001b[39mand\u001b[39;00m \u001b[39m\"\u001b[39m\u001b[39mb\u001b[39m\u001b[39m\"\u001b[39m \u001b[39mnot\u001b[39;00m \u001b[39min\u001b[39;00m ioargs\u001b[39m.\u001b[39mmode:\n\u001b[1;32m    788\u001b[0m         \u001b[39m# Encoding\u001b[39;00m\n\u001b[0;32m--> 789\u001b[0m         handle \u001b[39m=\u001b[39m \u001b[39mopen\u001b[39;49m(\n\u001b[1;32m    790\u001b[0m             handle,\n\u001b[1;32m    791\u001b[0m             ioargs\u001b[39m.\u001b[39;49mmode,\n\u001b[1;32m    792\u001b[0m             encoding\u001b[39m=\u001b[39;49mioargs\u001b[39m.\u001b[39;49mencoding,\n\u001b[1;32m    793\u001b[0m             errors\u001b[39m=\u001b[39;49merrors,\n\u001b[1;32m    794\u001b[0m             newline\u001b[39m=\u001b[39;49m\u001b[39m\"\u001b[39;49m\u001b[39m\"\u001b[39;49m,\n\u001b[1;32m    795\u001b[0m         )\n\u001b[1;32m    796\u001b[0m     \u001b[39melse\u001b[39;00m:\n\u001b[1;32m    797\u001b[0m         \u001b[39m# Binary mode\u001b[39;00m\n\u001b[1;32m    798\u001b[0m         handle \u001b[39m=\u001b[39m \u001b[39mopen\u001b[39m(handle, ioargs\u001b[39m.\u001b[39mmode)\n",
      "\u001b[0;31mFileNotFoundError\u001b[0m: [Errno 2] No such file or directory: 'yourcsvfileidcjustpickoneidiot.csv'"
     ]
    }
   ],
   "source": [
    "# dummy code, just like you.\n",
    "\n",
    "import pandas as pd\n",
    "\n",
    "df = pd.read_csv('yourcsvfileidcjustpickoneidiot.csv')\n",
    "\n",
    "print(df.head())\n",
    "\n",
    "print(\"Average age:\", df['Age'].mean())\n",
    "\n",
    "females = df[df['Gender'] == 'Female']\n",
    "print(females)\n",
    "\n",
    "sorted_data = df.sort_values(by='Salary', ascending=False)\n",
    "print(sorted_data)\n",
    "\n"
   ]
  },
  {
   "attachments": {},
   "cell_type": "markdown",
   "metadata": {},
   "source": [
    "uh oh!!! no pandas 😢\n",
    "\n",
    "if see this error, enter these into your terminal: \n",
    "\n",
    "``` zsh\n",
    "pip install wheel\n",
    "pip install pandas\n",
    "```\n",
    "\n",
    "on stack overflow, it said pandas is disturbed through pip as a wheel. so you need that too. \n",
    "\n",
    "link to full forum if curious: \n",
    "https://stackoverflow.com/questions/33481974/importerror-no-module-named-pandas\n",
    "\n"
   ]
  },
  {
   "attachments": {},
   "cell_type": "markdown",
   "metadata": {},
   "source": [
    "ps: do this for this to work on ur laptop:\n",
    "``` zsh\n",
    "wget https://raw.githubusercontent.com/KKcbal/amongus/master/_notebooks/files/example.csv\n",
    "```"
   ]
  },
  {
   "attachments": {},
   "cell_type": "markdown",
   "metadata": {},
   "source": [
    "# example code on how to load a csv into a chart"
   ]
  },
  {
   "cell_type": "code",
   "execution_count": 4,
   "metadata": {},
   "outputs": [
    {
     "name": "stdout",
     "output_type": "stream",
     "text": [
      "           Name  Age  Gender Occupation\n",
      "0      John Doe   32    Male   Engineer\n",
      "1    Jane Smith   27  Female    Teacher\n",
      "2  Mike Johnson   45    Male    Manager\n",
      "3      Sara Lee   38  Female     Doctor\n",
      "4     David Kim   23    Male    Student\n",
      "Age Group\n",
      "30-40    7\n",
      "40-50    4\n",
      "<30      7\n",
      "Name: Name, dtype: int64\n"
     ]
    }
   ],
   "source": [
    "import pandas as pd\n",
    "\n",
    "# read the CSV file\n",
    "df = pd.read_csv('files/example.csv')\n",
    "\n",
    "# print the first five rows\n",
    "print(df.head())\n",
    "\n",
    "# define a function to assign each age to an age group\n",
    "def assign_age_group(age):\n",
    "    if age < 30:\n",
    "        return '<30'\n",
    "    elif age < 40:\n",
    "        return '30-40'\n",
    "    elif age < 50:\n",
    "        return '40-50'\n",
    "    else:\n",
    "        return '>50'\n",
    "\n",
    "# apply the function to the Age column to create a new column with age groups\n",
    "df['Age Group'] = df['Age'].apply(assign_age_group)\n",
    "\n",
    "# group by age group and count the number of people in each group\n",
    "age_counts = df.groupby('Age Group')['Name'].count()\n",
    "\n",
    "# print the age group counts\n",
    "print(age_counts)\n"
   ]
  },
  {
   "attachments": {},
   "cell_type": "markdown",
   "metadata": {},
   "source": [
    "# how to manipulate the data in pandas.  "
   ]
  },
  {
   "cell_type": "code",
   "execution_count": 3,
   "metadata": {},
   "outputs": [
    {
     "name": "stdout",
     "output_type": "stream",
     "text": [
      "           Name  Age  Gender Occupation\n",
      "0      John Doe   32    Male   Engineer\n",
      "1    Jane Smith   27  Female    Teacher\n",
      "2  Mike Johnson   45    Male    Manager\n",
      "3      Sara Lee   38  Female     Doctor\n",
      "4     David Kim   23    Male    Student\n",
      "                Name  Age  Gender               Occupation\n",
      "0           John Doe   32    Male                 Engineer\n",
      "2       Mike Johnson   45    Male                  Manager\n",
      "3           Sara Lee   38  Female                   Doctor\n",
      "6       Robert Green   41    Male                Architect\n",
      "7        Emily Davis   35  Female        Marketing Manager\n",
      "8   Carlos Hernandez   47    Male             Entrepreneur\n",
      "10         Kevin Lee   31    Male               Accountant\n",
      "12     Jacob Johnson   34    Male                   Lawyer\n",
      "13   Maria Rodriguez   39  Female               Consultant\n",
      "15    Victoria Brown   42  Female  Human Resources Manager\n",
      "17        Sophie Lee   30  Female          Project Manager\n",
      "                Name  Age  Gender               Occupation\n",
      "8   Carlos Hernandez   47    Male             Entrepreneur\n",
      "2       Mike Johnson   45    Male                  Manager\n",
      "15    Victoria Brown   42  Female  Human Resources Manager\n",
      "6       Robert Green   41    Male                Architect\n",
      "13   Maria Rodriguez   39  Female               Consultant\n",
      "3           Sara Lee   38  Female                   Doctor\n",
      "7        Emily Davis   35  Female        Marketing Manager\n",
      "12     Jacob Johnson   34    Male                   Lawyer\n",
      "0           John Doe   32    Male                 Engineer\n",
      "10         Kevin Lee   31    Male               Accountant\n",
      "17        Sophie Lee   30  Female          Project Manager\n",
      "5        Anna Garcia   29  Female       Software Developer\n",
      "14       Mark Taylor   28    Male             Web Designer\n",
      "1         Jane Smith   27  Female                  Teacher\n",
      "11      Rachel Baker   26  Female               Journalist\n",
      "9     Melissa Nguyen   25  Female         Graphic Designer\n",
      "16        Ethan Chen   24    Male       Research Assistant\n",
      "4          David Kim   23    Male                  Student\n",
      "Gender\n",
      "Female    32.333333\n",
      "Male      33.888889\n",
      "Name: Age, dtype: float64\n"
     ]
    }
   ],
   "source": [
    "import pandas as pd\n",
    "\n",
    "# load the csv file\n",
    "df = pd.read_csv('files/example.csv')\n",
    "\n",
    "# print the first five rows\n",
    "print(df.head())\n",
    "\n",
    "# filter the data to include only people aged 30 or older\n",
    "df_filtered = df[df['Age'] >= 30]\n",
    "\n",
    "# sort the data by age in descending order\n",
    "df_sorted = df.sort_values('Age', ascending=False)\n",
    "\n",
    "# group the data by gender and calculate the mean age for each group\n",
    "age_by_gender = df.groupby('Gender')['Age'].mean()\n",
    "\n",
    "# print the filtered data\n",
    "print(df_filtered)\n",
    "\n",
    "# print the sorted data\n",
    "print(df_sorted)\n",
    "\n",
    "# print the mean age by gender\n",
    "print(age_by_gender)\n"
   ]
  },
  {
   "attachments": {},
   "cell_type": "markdown",
   "metadata": {},
   "source": [
    "# how do i put it into a chart 😩\n",
    "here is how:"
   ]
  },
  {
   "cell_type": "code",
   "execution_count": 1,
   "metadata": {},
   "outputs": [
    {
     "ename": "ValueError",
     "evalue": "bins must increase monotonically.",
     "output_type": "error",
     "traceback": [
      "\u001b[0;31m---------------------------------------------------------------------------\u001b[0m",
      "\u001b[0;31mValueError\u001b[0m                                Traceback (most recent call last)",
      "\u001b[1;32m/home/chewyboba10/vscode/sushi-burrito/_notebooks/2023-04-24-pandas.ipynb Cell 18\u001b[0m in \u001b[0;36m<cell line: 9>\u001b[0;34m()\u001b[0m\n\u001b[1;32m      <a href='vscode-notebook-cell://wsl%2Bubuntu/home/chewyboba10/vscode/sushi-burrito/_notebooks/2023-04-24-pandas.ipynb#X23sdnNjb2RlLXJlbW90ZQ%3D%3D?line=6'>7</a>\u001b[0m \u001b[39m# create a bar chart of the number of people in each age group\u001b[39;00m\n\u001b[1;32m      <a href='vscode-notebook-cell://wsl%2Bubuntu/home/chewyboba10/vscode/sushi-burrito/_notebooks/2023-04-24-pandas.ipynb#X23sdnNjb2RlLXJlbW90ZQ%3D%3D?line=7'>8</a>\u001b[0m age_groups \u001b[39m=\u001b[39m [\u001b[39m'\u001b[39m\u001b[39m<30\u001b[39m\u001b[39m'\u001b[39m, \u001b[39m'\u001b[39m\u001b[39m30-40\u001b[39m\u001b[39m'\u001b[39m, \u001b[39m'\u001b[39m\u001b[39m40-50\u001b[39m\u001b[39m'\u001b[39m, \u001b[39m'\u001b[39m\u001b[39m>50\u001b[39m\u001b[39m'\u001b[39m]\n\u001b[0;32m----> <a href='vscode-notebook-cell://wsl%2Bubuntu/home/chewyboba10/vscode/sushi-burrito/_notebooks/2023-04-24-pandas.ipynb#X23sdnNjb2RlLXJlbW90ZQ%3D%3D?line=8'>9</a>\u001b[0m age_counts \u001b[39m=\u001b[39m pd\u001b[39m.\u001b[39;49mcut(df[\u001b[39m'\u001b[39;49m\u001b[39mAge\u001b[39;49m\u001b[39m'\u001b[39;49m], bins\u001b[39m=\u001b[39;49m[\u001b[39m0\u001b[39;49m, \u001b[39m30\u001b[39;49m, \u001b[39m40\u001b[39;49m, \u001b[39m50\u001b[39;49m, df[\u001b[39m'\u001b[39;49m\u001b[39mAge\u001b[39;49m\u001b[39m'\u001b[39;49m]\u001b[39m.\u001b[39;49mmax()], labels\u001b[39m=\u001b[39;49mage_groups, include_lowest\u001b[39m=\u001b[39;49m\u001b[39mTrue\u001b[39;49;00m)\u001b[39m.\u001b[39mvalue_counts()\n\u001b[1;32m     <a href='vscode-notebook-cell://wsl%2Bubuntu/home/chewyboba10/vscode/sushi-burrito/_notebooks/2023-04-24-pandas.ipynb#X23sdnNjb2RlLXJlbW90ZQ%3D%3D?line=9'>10</a>\u001b[0m plt\u001b[39m.\u001b[39mbar(age_counts\u001b[39m.\u001b[39mindex, age_counts\u001b[39m.\u001b[39mvalues)\n\u001b[1;32m     <a href='vscode-notebook-cell://wsl%2Bubuntu/home/chewyboba10/vscode/sushi-burrito/_notebooks/2023-04-24-pandas.ipynb#X23sdnNjb2RlLXJlbW90ZQ%3D%3D?line=10'>11</a>\u001b[0m plt\u001b[39m.\u001b[39mtitle(\u001b[39m'\u001b[39m\u001b[39mNumber of people in each age group\u001b[39m\u001b[39m'\u001b[39m)\n",
      "File \u001b[0;32m/root/anaconda3/lib/python3.9/site-packages/pandas/core/reshape/tile.py:290\u001b[0m, in \u001b[0;36mcut\u001b[0;34m(x, bins, right, labels, retbins, precision, include_lowest, duplicates, ordered)\u001b[0m\n\u001b[1;32m    288\u001b[0m     \u001b[39m# GH 26045: cast to float64 to avoid an overflow\u001b[39;00m\n\u001b[1;32m    289\u001b[0m     \u001b[39mif\u001b[39;00m (np\u001b[39m.\u001b[39mdiff(bins\u001b[39m.\u001b[39mastype(\u001b[39m\"\u001b[39m\u001b[39mfloat64\u001b[39m\u001b[39m\"\u001b[39m)) \u001b[39m<\u001b[39m \u001b[39m0\u001b[39m)\u001b[39m.\u001b[39many():\n\u001b[0;32m--> 290\u001b[0m         \u001b[39mraise\u001b[39;00m \u001b[39mValueError\u001b[39;00m(\u001b[39m\"\u001b[39m\u001b[39mbins must increase monotonically.\u001b[39m\u001b[39m\"\u001b[39m)\n\u001b[1;32m    292\u001b[0m fac, bins \u001b[39m=\u001b[39m _bins_to_cuts(\n\u001b[1;32m    293\u001b[0m     x,\n\u001b[1;32m    294\u001b[0m     bins,\n\u001b[0;32m   (...)\u001b[0m\n\u001b[1;32m    301\u001b[0m     ordered\u001b[39m=\u001b[39mordered,\n\u001b[1;32m    302\u001b[0m )\n\u001b[1;32m    304\u001b[0m \u001b[39mreturn\u001b[39;00m _postprocess_for_cut(fac, bins, retbins, dtype, original)\n",
      "\u001b[0;31mValueError\u001b[0m: bins must increase monotonically."
     ]
    }
   ],
   "source": [
    "import pandas as pd\n",
    "import matplotlib.pyplot as plt\n",
    "\n",
    "# read the CSV file\n",
    "df = pd.read_csv('files/example.csv')\n",
    "\n",
    "# create a bar chart of the number of people in each age group\n",
    "age_groups = ['<30', '30-40', '40-50', '>50']\n",
    "age_counts = pd.cut(df['Age'], bins=[0, 30, 40, 50, df['Age'].max()], labels=age_groups, include_lowest=True).value_counts()\n",
    "plt.bar(age_counts.index, age_counts.values)\n",
    "plt.title('Number of people in each age group')\n",
    "plt.xlabel('Age group')\n",
    "plt.ylabel('Number of people')\n",
    "plt.show()\n",
    "\n",
    "# create a pie chart of the gender distribution\n",
    "gender_counts = df['Gender'].value_counts()\n",
    "plt.pie(gender_counts.values, labels=gender_counts.index, autopct='%1.1f%%')\n",
    "plt.title('Gender distribution')\n",
    "plt.show()\n",
    "\n",
    "# create a scatter plot of age vs. income\n",
    "plt.scatter(df['Age'], df['Income'])\n",
    "plt.title('Age vs. Income')\n",
    "plt.xlabel('Age')\n",
    "plt.ylabel('Income')\n",
    "plt.show()\n"
   ]
  },
  {
   "attachments": {},
   "cell_type": "markdown",
   "metadata": {},
   "source": [
    "uh oh!!!! another error!??!!??!?!  install this library: \n",
    "```zsh\n",
    "pip install matplotlib\n",
    "```"
   ]
  },
  {
   "cell_type": "code",
   "execution_count": 6,
   "metadata": {},
   "outputs": [
    {
     "data": {
      "image/png": "[encoded data removed]",
      "text/plain": [
       "<Figure size 432x288 with 1 Axes>"
      ]
     },
     "metadata": {
      "needs_background": "light"
     },
     "output_type": "display_data"
    }
   ],
   "source": [
    "import pandas as pd\n",
    "import matplotlib.pyplot as plt\n",
    "import numpy as np\n",
    "\n",
    "# read the CSV file\n",
    "df = pd.read_csv('files/example.csv')\n",
    "\n",
    "# define age groups\n",
    "age_groups = ['<30', '30-40', '40-50', '>50']\n",
    "\n",
    "# create a new column with the age group for each person\n",
    "df['Age Group'] = pd.cut(df['Age'], bins=[0, 30, 40, 50, np.inf], labels=age_groups, include_lowest=True)\n",
    "\n",
    "# group by age group and count the number of people in each group\n",
    "age_counts = df.groupby('Age Group')['Name'].count()\n",
    "\n",
    "# create a bar chart of the age counts\n",
    "age_counts.plot(kind='bar')\n",
    "\n",
    "# set the title and axis labels\n",
    "plt.title('Number of People in Each Age Group')\n",
    "plt.xlabel('Age Group')\n",
    "plt.ylabel('Number of People')\n",
    "\n",
    "# show the chart\n",
    "plt.show()\n"
   ]
  },
  {
   "attachments": {},
   "cell_type": "markdown",
   "metadata": {},
   "source": [
    "magic!!!!!!"
   ]
  },
  {
   "attachments": {},
   "cell_type": "markdown",
   "metadata": {},
   "source": [
    "# Hacks\n",
    "1. make your own data using your brian, google or chatgpt, should look different than mine. \n",
    "2. modify my code or write your own\n",
    "3. output your data other than a bar graph.\n",
    "5. write an 850+ word essay on how pandas, python or irl, affected your life. If AI score below 85%, then -1 grading point\n",
    "4. answer the questions below, the more explained the better. \n",
    "\n",
    "## Questions\n",
    "1. What are the two primary data structures in pandas and how do they differ?\n",
    "The two primary data structures in pandas are Series and DataFrame. A Series is a one-dimensional array-like object that can hold any data type. A DataFrame is a two-dimensional table-like data structure with rows and columns, similar to a spreadsheet.\n",
    "2. How do you read a CSV file into a pandas DataFrame?\n",
    "To read a CSV file into a pandas DataFrame, you can use the read_csv function in pandas.\n",
    "3. How do you select a single column from a pandas DataFrame?\n",
    "To select a single column from a pandas DataFrame, you can use the indexing operator [] with the column name.\n",
    "4. How do you filter rows in a pandas DataFrame based on a condition?\n",
    "To filter rows in a pandas DataFrame based on a condition, you can use boolean indexing.\n",
    "5. How do you group rows in a pandas DataFrame by a particular column?\n",
    "To group rows in a pandas DataFrame by a particular column, you can use the groupby method.\n",
    "6. How do you aggregate data in a pandas DataFrame using functions like sum and mean?\n",
    "To aggregate data in a pandas DataFrame using functions like sum and mean, you can use the agg method.\n",
    "7. How do you handle missing values in a pandas DataFrame?\n",
    "To handle missing values in a pandas DataFrame, you can use the fillna method to fill in missing values with a specific value or method, or you can use the dropna method to remove rows with missing values.\n",
    "8. How do you merge two pandas DataFrames together?\n",
    "To merge two pandas DataFrames together, you can use the merge method.\n",
    "9. How do you export a pandas DataFrame to a CSV file?\n",
    "To export a pandas DataFrame to a CSV file, you can use the to_csv method.\n",
    "10. What is the difference between a Series and a DataFrame in Pandas?\n",
    "The main difference between a Series and a DataFrame in pandas is that a Series is a one-dimensional array-like object, while a DataFrame is a two-dimensional table-like data structure. A Series can be thought of as a single column of a DataFrame, while a DataFrame can have multiple columns.\n",
    "\n",
    "# note\n",
    "all hacks due saturday night, the more earlier you get them in the higher score you will get. if you miss the due date, you will get a 0. there will be no tolerance. \n",
    "\n",
    "\n",
    "\n",
    "## no questions answered\n",
    "Tonight- 2.9\n",
    " \n",
    "Friday Night- 2.8\n",
    "\n",
    "Saturday Night - 2.7\n",
    "\n",
    "Sunday Night - 0.0\n",
    "\n",
    "\n",
    "\n",
    "## questions answered\n",
    "Tonight- 3.0\n",
    "\n",
    "Friday Night- 2.9\n",
    "\n",
    "Saturday Night - 2.8\n",
    "\n",
    "Sunday Night - 0.0\n",
    "\n"
   ]
  },
  {
   "attachments": {},
   "cell_type": "markdown",
   "metadata": {},
   "source": [
    "wdfasdf"
   ]
  },
  {
   "cell_type": "code",
   "execution_count": 3,
   "metadata": {},
   "outputs": [
    {
     "data": {
      "image/png": "[encoded data removed]",
      "text/plain": [
       "<Figure size 432x288 with 1 Axes>"
      ]
     },
     "metadata": {
      "needs_background": "light"
     },
     "output_type": "display_data"
    }
   ],
   "source": [
    "import pandas as pd\n",
    "import matplotlib.pyplot as plt\n",
    "\n",
    "# Read the CSV file\n",
    "df = pd.read_csv('files/data.csv')\n",
    "\n",
    "# Create a scatter plot\n",
    "plt.scatter(df['Duration'], df['Calories'], color='blue')\n",
    "\n",
    "# Set the axis labels and title\n",
    "plt.xlabel('Duration')\n",
    "plt.ylabel('Calories')\n",
    "plt.title('Calories vs Duration')\n",
    "\n",
    "# Display the plot\n",
    "plt.show()"
   ]
  }
 ],
 "metadata": {
  "kernelspec": {
   "display_name": "Python 3",
   "language": "python",
   "name": "python3"
  },
  "language_info": {
   "codemirror_mode": {
    "name": "ipython",
    "version": 3
   },
   "file_extension": ".py",
   "mimetype": "text/x-python",
   "name": "python",
   "nbconvert_exporter": "python",
   "pygments_lexer": "ipython3",
   "version": "3.9.12"
  },
  "orig_nbformat": 4
 },
 "nbformat": 4,
 "nbformat_minor": 2
}
