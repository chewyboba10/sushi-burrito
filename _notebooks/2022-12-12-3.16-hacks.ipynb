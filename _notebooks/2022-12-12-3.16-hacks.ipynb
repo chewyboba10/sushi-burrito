{
 "cells": [
  {
   "attachments": {},
   "cell_type": "markdown",
   "metadata": {},
   "source": [
    "# 3.16 Hacks\n",
    "\n",
    "- toc: true \n",
    "- badges: true\n",
    "- comments: true\n",
    "- categories: [jupyter]\n",
    "- author: Evan Aparri\n",
    "- permalink: /unit3/sections16hacks"
   ]
  },
  {
   "attachments": {},
   "cell_type": "markdown",
   "metadata": {},
   "source": [
    "**Simulation of the motion of a ball thrown at an angle**"
   ]
  },
  {
   "cell_type": "code",
   "execution_count": 15,
   "metadata": {},
   "outputs": [
    {
     "name": "stdout",
     "output_type": "stream",
     "text": [
      "Time: 0.0, Position: (1.0, 1.0), Velocity: (9.307035354437183, 9.33233702795688)\n",
      "Time: 0.1, Position: (1.9307035354437183, 1.933233702795688), Velocity: (8.61313069605152, 8.667678122026405)\n",
      "Time: 0.2, Position: (2.7920166050488704, 2.8000015149983284), Velocity: (7.917982148527098, 8.006711376248763)\n",
      "Time: 0.3, Position: (3.5838148199015802, 3.6006726526232047), Velocity: (7.22116725788158, 7.350366670524219)\n",
      "Time: 0.4, Position: (4.305931545689738, 4.335709319675627), Velocity: (6.522085877077414, 6.699935112466445)\n",
      "Time: 0.5, Position: (4.95814013339748, 5.005702830922272), Velocity: (5.819863696246738, 6.05726783162956)\n",
      "Time: 0.6, Position: (5.540126503022154, 5.611429614085228), Velocity: (5.113188994281593, 5.425123225490899)\n",
      "Time: 0.7, Position: (6.051445402450313, 6.153941936634318), Velocity: (4.400024937635177, 4.807809268945024)\n",
      "Time: 0.8, Position: (6.491447896213831, 6.634722863528821), Velocity: (3.6770798064811587, 4.2124550615465575)\n",
      "Time: 0.9, Position: (6.859155876861947, 7.055968369683477), Velocity: (2.9387892334076637, 3.651734153436654)\n"
     ]
    }
   ],
   "source": [
    "import math\n",
    "\n",
    "# Set the initial state\n",
    "position = (0, 0)\n",
    "velocity = (10, 10)\n",
    "\n",
    "# Set the time step\n",
    "dt = 0.1\n",
    "\n",
    "# Loop for 10 seconds\n",
    "for t in range(10):\n",
    "  # Update the position and velocity\n",
    "  x, y = position\n",
    "  vx, vy = velocity\n",
    "  x += vx * dt\n",
    "  y += vy * dt\n",
    "  vx -= 9.8 * dt * math.sin(math.atan(vy / vx))\n",
    "  vy -= 9.8 * dt * math.cos(math.atan(vy / vx))\n",
    "  position = (x, y)\n",
    "  velocity = (vx, vy)\n",
    "  # Print the current state\n",
    "  print(f\"Time: {round(t * dt, 2)}, Position: {position}, Velocity: {velocity}\")\n"
   ]
  },
  {
   "attachments": {},
   "cell_type": "markdown",
   "metadata": {},
   "source": [
    "**Simulation Example: SimCity**\n",
    "\n",
    "![ Simcity ](https://upload.wikimedia.org/wikipedia/en/5/5f/SimCity_2013_Limited_Edition_cover.png)\n",
    "\n",
    "One example of a simulation in a software or game that is popular among many people is a city-building game, such as SimCity. This type of simulation allows players to design and build their own virtual cities, complete with roads, buildings, and other infrastructure. The game uses complex algorithms and data sets to simulate the various systems and processes involved in city planning and management, such as traffic flow, resource management, and population growth. As the player interacts with the simulation, they are able to see how their decisions as a city planner affect the development and growth of their virtual city. The goal of a city-building game is to provide an engaging and entertaining experience that allows players to explore their creativity and problem-solving skills in a simulated environment."
   ]
  }
 ],
 "metadata": {
  "kernelspec": {
   "display_name": "Python 3",
   "language": "python",
   "name": "python3"
  },
  "language_info": {
   "codemirror_mode": {
    "name": "ipython",
    "version": 3
   },
   "file_extension": ".py",
   "mimetype": "text/x-python",
   "name": "python",
   "nbconvert_exporter": "python",
   "pygments_lexer": "ipython3",
   "version": "3.9.12"
  },
  "orig_nbformat": 4,
  "vscode": {
   "interpreter": {
    "hash": "61a57a4b5406d2de388e2f91097d4e4bcd7d5f4a46f53a795aa28a02eed27fc5"
   }
  }
 },
 "nbformat": 4,
 "nbformat_minor": 2
}
